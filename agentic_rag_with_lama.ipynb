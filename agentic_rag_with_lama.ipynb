{
 "cells": [
  {
   "cell_type": "code",
   "execution_count": 4,
   "metadata": {
    "scrolled": true
   },
   "outputs": [],
   "source": [
    "import os\n",
    "\n",
    "from langchain_ollama import ChatOllama\n",
    "\n",
    "from langchain_community.embeddings.ollama import OllamaEmbeddings\n",
    "from langchain_chroma import Chroma\n",
    "\n"
   ]
  },
  {
   "cell_type": "code",
   "execution_count": 5,
   "metadata": {},
   "outputs": [],
   "source": [
    "def get_llm():\n",
    "\n",
    "    return ChatOllama(model=\"llama3.2:3b\",temperature = 0)\n",
    "\n",
    "def get_embeddings():\n",
    "    return OllamaEmbeddings(model=\"nomic-embed-text\")\n"
   ]
  },
  {
   "cell_type": "code",
   "execution_count": 6,
   "metadata": {},
   "outputs": [],
   "source": [
    "CHROMA_PATH = \"chroma_db_test_21\"\n",
    "\n",
    "db = Chroma(persist_directory=CHROMA_PATH, embedding_function=get_embeddings())\n",
    "retriever = db.as_retriever()\n"
   ]
  },
  {
   "cell_type": "code",
   "execution_count": 7,
   "metadata": {},
   "outputs": [],
   "source": [
    "\n",
    "from typing_extensions import TypedDict\n",
    "\n",
    "\n",
    "class AgentState(TypedDict):\n",
    "    question: str\n",
    "    grades = list[str] # yes or no answer to document question\n",
    "    llm_output : str\n",
    "    documents : list[str] # les reponses\n",
    "    on_topic : bool # evaluated by the llm"
   ]
  },
  {
   "cell_type": "code",
   "execution_count": 8,
   "metadata": {},
   "outputs": [],
   "source": [
    "def retrieve_docs(state: AgentState):\n",
    "    question = state['question']\n",
    "    documents = retriever.get_relevant_documents(question)\n",
    "    print(\"RETRIEVED DOCUMENTS\",documents)\n",
    "    state['documents']=[doc.page_content for doc in documents]\n",
    "    return state"
   ]
  },
  {
   "cell_type": "code",
   "execution_count": 9,
   "metadata": {},
   "outputs": [],
   "source": [
    "from pydantic import BaseModel, Field\n",
    "from langchain_core.prompts import ChatPromptTemplate\n",
    "from langchain_core.prompts import PromptTemplate\n",
    "from langchain_core.output_parsers import PydanticOutputParser\n",
    "import re\n",
    "\n",
    "\n",
    "\n",
    "class GradeQuestion(BaseModel):\n",
    "    \"\"\"Boolean value to check whether a question is releated to the restaurant Bella Vista\"\"\"\n",
    "\n",
    "    score: str = Field(\n",
    "        description=\"Question is about restaurant? If yes -> 'yes' if not -> 'no'\"\n",
    "    )\n",
    "\n",
    "\n",
    "def question_classifier(state: AgentState):\n",
    "    question = state[\"question\"]\n",
    "\n",
    "    # Instructions pour forcer une réponse JSON\n",
    "    system = \"\"\"\n",
    "    You are a grader assessing the topic of a user question.\n",
    "    The question is: {question}\n",
    "\n",
    "    You must determine if the question is about Power Studio SCADA or any related topics.\n",
    "    The following topics are relevant to Power Studio SCADA:\n",
    "\n",
    "    1. Information about Power Studio SCADA.\n",
    "    2. Features and functionalities of Power Studio SCADA.\n",
    "    3. Integration of Power Studio SCADA with other systems or devices.\n",
    "    4. Energy management and monitoring using Power Studio SCADA.\n",
    "    5. Troubleshooting or support for Power Studio SCADA.\n",
    "\n",
    "    If the question mentions Power Studio SCADA in any way, or if it refers to one of the topics listed above,\n",
    "    return the score as 'yes'.\n",
    "\n",
    "    If it does not relate to Power Studio SCADA or these topics, return the score as 'no'.\n",
    "\n",
    "    Provide the answer in this exact JSON format:\n",
    "\n",
    "    {{ \"score\": \"<response>\" }}\n",
    "\"\"\"\n",
    "\n",
    "\n",
    "\n",
    "\n",
    "    # Création du prompt avec instructions\n",
    "    prompt = PromptTemplate(template=system, input_variables=[\"question\",\"format_instructions\"])\n",
    "    model = get_llm()\n",
    "    parser = PydanticOutputParser(pydantic_object=GradeQuestion)\n",
    "\n",
    "    structured_llm = model.with_structured_output(GradeQuestion)\n",
    "    grader_llm = prompt | model\n",
    "\n",
    "    # Invocation du modèle avec la question de l'utilisateur\n",
    "    result = grader_llm.invoke({\"question\": question})\n",
    "    print(\"Result from grader_llm:\", result.content)\n",
    "    result=str(result.content)\n",
    "    try:\n",
    "        json_regex = r\"\\{.*?\\}\"\n",
    "        match = re.search(json_regex, result)\n",
    "        json_str = match.group(0)\n",
    "        print(\"###########\")\n",
    "        print(json_str)\n",
    "        print(\"##########\")\n",
    "\n",
    "\n",
    "\n",
    "        if  \"yes\" in str(json_str):\n",
    "            state[\"on_topic\"] = \"yes\"\n",
    "        else:\n",
    "            print(\"Model output is not in valid JSON format.\")\n",
    "            state[\"on_topic\"] = \"Error\"\n",
    "    except Exception as e:\n",
    "        print(f\"Error parsing result: {e}\")\n",
    "        state[\"on_topic\"] = \"Error\"\n",
    "\n",
    "    return state\n",
    "\n",
    "\n",
    "    # Vérification et mise à jour de l'état\n",
    "\n",
    "    #state[\"on_topic\"] = result.score\n",
    "\n",
    "\n",
    "    return state"
   ]
  },
  {
   "cell_type": "code",
   "execution_count": 10,
   "metadata": {},
   "outputs": [],
   "source": [
    "def on_topic_router(state:AgentState):\n",
    "    on_topic=state[\"on_topic\"]\n",
    "    if on_topic.lower() == \"yes\":\n",
    "        return \"on_topic\"\n",
    "    return \"off_topic\""
   ]
  },
  {
   "cell_type": "code",
   "execution_count": 11,
   "metadata": {},
   "outputs": [],
   "source": [
    "def off_topic_response(state:AgentState):\n",
    "    state[\"llm_output\"]=\"I cant respond to that!\"\n",
    "    return state"
   ]
  },
  {
   "cell_type": "code",
   "execution_count": 12,
   "metadata": {},
   "outputs": [],
   "source": [
    "class GradeDocuments(BaseModel):\n",
    "    \"\"\"Boolean values to check for relevance on retrieved documents.\"\"\"\n",
    "\n",
    "    score: str = Field(\n",
    "        description=\"Documents are relevant to the question, 'Yes' or 'No'\"\n",
    "    )\n",
    "\n",
    "\n",
    "def document_grader(state: AgentState):\n",
    "    docs = state[\"documents\"]\n",
    "    question = state[\"question\"]\n",
    "\n",
    "    system = \"\"\"You are a grader assessing relevance of a retrieved document to a user question. \\n\n",
    "        If the document contains keyword(s) or semantic meaning related to the question, grade it as relevant. \\n\n",
    "        Give a binary score 'Yes' or 'No' score to indicate whether the document is relevant to the question.\"\"\"\n",
    "\n",
    "    grade_prompt = ChatPromptTemplate.from_messages(\n",
    "        [\n",
    "            (\"system\", system),\n",
    "            (\n",
    "                \"human\",\n",
    "                \"Retrieved document: \\n\\n {document} \\n\\n User question: {question}\",\n",
    "            ),\n",
    "        ]\n",
    "    )\n",
    "\n",
    "    llm = get_llm()\n",
    "    structured_llm = llm.with_structured_output(GradeDocuments)\n",
    "    grader_llm = grade_prompt | structured_llm\n",
    "    scores = []\n",
    "    for doc in docs:\n",
    "        result = grader_llm.invoke({\"document\": doc, \"question\": question})\n",
    "        scores.append(result.score)\n",
    "    state[\"grades\"] = scores\n",
    "    return state"
   ]
  },
  {
   "cell_type": "code",
   "execution_count": 13,
   "metadata": {},
   "outputs": [],
   "source": [
    "def gen_router(state: AgentState):\n",
    "    grades= state[\"grades\"]\n",
    "    print(\"Document Grades\",grades)\n",
    "\n",
    "    if any(grade.lower()==\"yes\" for grade in grades):\n",
    "        filtered_grades= [grade for grade in grades if grade.lower()==\"yes\"]\n",
    "        print(\"FILETRED DOCUMENT GRADES:\",filtered_grades)\n",
    "        return \"generate\"\n",
    "\n",
    "    else:\n",
    "        return \"rewrite_query\"\n",
    "\n",
    "\n"
   ]
  },
  {
   "cell_type": "code",
   "execution_count": 14,
   "metadata": {},
   "outputs": [],
   "source": [
    "from langchain_core.output_parsers import StrOutputParser\n",
    "\n",
    "\n",
    "def rewriter(state: AgentState):\n",
    "    question = state[\"question\"]\n",
    "    system = \"\"\"You a question re-writer that converts an input question to a better version that is optimized \\n\n",
    "        for retrieval. Look at the input and try to reason about the underlying semantic intent / meaning.\"\"\"\n",
    "    re_write_prompt = ChatPromptTemplate.from_messages(\n",
    "        [\n",
    "            (\"system\", system),\n",
    "            (\n",
    "                \"human\",\n",
    "                \"Here is the initial question: \\n\\n {question} \\n Formulate an improved question.\",\n",
    "            ),\n",
    "        ]\n",
    "    )\n",
    "    llm = get_llm()\n",
    "    question_rewriter = re_write_prompt | llm | StrOutputParser()\n",
    "    output = question_rewriter.invoke({\"question\": question})\n",
    "    state[\"question\"] = output\n",
    "    return state"
   ]
  },
  {
   "cell_type": "code",
   "execution_count": 15,
   "metadata": {},
   "outputs": [],
   "source": [
    "from langchain_core.prompts import ChatPromptTemplate\n",
    "from langchain.schema.output_parser import StrOutputParser\n",
    "\n",
    "\n",
    "def generate_answer(state: AgentState):\n",
    "    llm = get_llm()\n",
    "    question = state[\"question\"]\n",
    "    context = state[\"documents\"]\n",
    "\n",
    "    template = \"\"\"Answer the question based only on the following context:\n",
    "    {context}\n",
    "\n",
    "    Question: {question}\n",
    "    \"\"\"\n",
    "\n",
    "    prompt = ChatPromptTemplate.from_template(\n",
    "        template=template,\n",
    "    )\n",
    "    chain = prompt | llm | StrOutputParser()\n",
    "    result = chain.invoke({\"question\": question, \"context\": context})\n",
    "    state[\"llm_output\"] = result\n",
    "    return state"
   ]
  },
  {
   "cell_type": "code",
   "execution_count": 16,
   "metadata": {},
   "outputs": [],
   "source": [
    "from langgraph.graph import StateGraph, END\n",
    "\n",
    "workflow = StateGraph(AgentState)\n",
    "\n",
    "workflow.add_node(\"topic_decision\", question_classifier)\n",
    "workflow.add_node(\"off_topic_response\", off_topic_response)\n",
    "workflow.add_node(\"retrieve_docs\", retrieve_docs)\n",
    "workflow.add_node(\"rewrite_query\", rewriter)\n",
    "workflow.add_node(\"generate_answer\", generate_answer)\n",
    "workflow.add_node(\"document_grader\", document_grader)\n",
    "\n",
    "workflow.add_edge(\"off_topic_response\", END)\n",
    "workflow.add_edge(\"retrieve_docs\", \"document_grader\")\n",
    "workflow.add_conditional_edges(\n",
    "    \"topic_decision\",\n",
    "    on_topic_router, add\n",
    "    {\n",
    "        \"on_topic\": \"retrieve_docs\",\n",
    "        \"off_topic\": \"off_topic_response\",\n",
    "    },\n",
    ")\n",
    "workflow.add_conditional_edges(\n",
    "    \"document_grader\",\n",
    "    gen_router,\n",
    "    {\n",
    "        \"generate\": \"generate_answer\",\n",
    "        \"rewrite_query\": \"rewrite_query\",\n",
    "    },\n",
    ")\n",
    "workflow.add_edge(\"rewrite_query\", \"retrieve_docs\")\n",
    "workflow.add_edge(\"generate_answer\", END)\n",
    "\n",
    "\n",
    "workflow.set_entry_point(\"topic_decision\")\n",
    "\n",
    "app = workflow.compile()"
   ]
  },
  {
   "cell_type": "code",
   "execution_count": 17,
   "metadata": {},
   "outputs": [
    {
     "data": {
      "image/jpeg": "[encoded data removed]",
      "text/plain": [
       "<IPython.core.display.Image object>"
      ]
     },
     "metadata": {},
     "output_type": "display_data"
    }
   ],
   "source": [
    "from IPython.display import Image, display\n",
    "\n",
    "try:\n",
    "    display(Image(app.get_graph(xray=True).draw_mermaid_png()))\n",
    "except:\n",
    "    pass"
   ]
  },
  {
   "cell_type": "code",
   "execution_count": 18,
   "metadata": {},
   "outputs": [
    {
     "name": "stdout",
     "output_type": "stream",
     "text": [
      "Result from grader_llm: Since the question is about Bella Hadid and doesn't mention Power Studio SCADA or any related topics, I would return:\n",
      "\n",
      "{\"score\": \"no\"}\n",
      "###########\n",
      "{\"score\": \"no\"}\n",
      "##########\n",
      "Model output is not in valid JSON format.\n"
     ]
    },
    {
     "data": {
      "text/plain": [
       "'I cant respond to that!'"
      ]
     },
     "execution_count": 18,
     "metadata": {},
     "output_type": "execute_result"
    }
   ],
   "source": [
    "result = app.invoke({\"question\": \"information about Bella Hadid.\"})\n",
    "result[\"llm_output\"]"
   ]
  },
  {
   "cell_type": "code",
   "execution_count": 21,
   "metadata": {},
   "outputs": [
    {
     "name": "stdout",
     "output_type": "stream",
     "text": [
      "Result from grader_llm: { \"score\": \"yes\" }\n",
      "###########\n",
      "{ \"score\": \"yes\" }\n",
      "##########\n",
      "RETRIEVED DOCUMENTS [Document(metadata={'id': 'D:\\\\Generative IA\\\\rag_pdfs\\\\pdf_data\\\\M98232001-03-18A.pdf:84:0', 'page': 84, 'source': 'D:\\\\Generative IA\\\\rag_pdfs\\\\pdf_data\\\\M98232001-03-18A.pdf'}, page_content='PowerStudio      \\n         \\nInstruc tion Manual    85                                                                                                                       \\n1.3.3. SCADA Screens \\n \\nThe way in which the Scada screens of the HTML5 2.0 client work is almost identical to those of the \\nJava or HT ML5 1.0 clients.  \\n \\nSelect the “ Screens” option from the tools menu to access the Scada screens. The application will \\nshow a dialogue box with the available screens that can be selected:  \\n \\n \\nSCADA Screens  \\n \\nAdditional considerations:  \\n \\n• The \"request interval\" parameters and \"frames per second\" configuration will affect how data is \\ndisplayed in these types of screens, as described in the general options section.  \\n• Version HTML5 2.0 DOES NOT ALLOW ZOOM IN/OUT screens.  \\n \\n1.3.4. Report Screen  \\n \\nThe way in which the Repor ts screens of the HTML5 2.0 client work is almost identical to those of the \\nJava or HTML5 1.0 clients.  \\n \\nSelect the “ Reports ” option from the tools menu to access the Reports screens. The application will \\nshow a dialogue box with the available reports that can be selected:'), Document(metadata={'id': 'D:\\\\Generative IA\\\\rag_pdfs\\\\pdf_data\\\\pdfcoffee.com_powerstudio-scada-ver25-tutorial-pdf-free.pdf:61:2', 'page': 61, 'source': 'D:\\\\Generative IA\\\\rag_pdfs\\\\pdf_data\\\\pdfcoffee.com_powerstudio-scada-ver25-tutorial-pdf-free.pdf'}, page_content='voltage variable is defined which is the resu lt of averaging the three single voltages. \\n \\no Go to Powerstudio scada, operating in edit mode.'), Document(metadata={'id': 'D:\\\\Generative IA\\\\rag_pdfs\\\\pdf_data\\\\PowerStudio_DDE_XML_en.pdf:0:1', 'page': 0, 'source': 'D:\\\\Generative IA\\\\rag_pdfs\\\\pdf_data\\\\PowerStudio_DDE_XML_en.pdf'}, page_content=\"activate this server, open the General  menu and select the Preferences  option; once there, activate the Web server  option (√) \\nand enter port 80 which is the port for http requests. \\n \\nOnce the equipment is configured and operating, the applicat ion may be minimized and semi-h idden in the task bar (lower \\nleft), next to the clock.  \\n \\n \\n \\n \\n \\n \\n \\n \\nOnce the application is minimized and with the communicatio ns motor activated, the WEB server, XML and DDE will be \\navailable to be questioned by any external application. \\n \\n \\n \\n WEB COMMUNICATION\\n \\n As standard software, Power Studio has a built in web server whic h operates, in the basic version, with different static screen s \\nwhich must be manually refreshed. In the Scada version,  personalized, dynamic screens may be designed in which the \\nvariables will be automatically refreshed. \\n \\nIn order to move on to displaying the Web server's screens, it is vital and necessary to know the IP address of the computer \\nwhich is carrying out the server  function. Displaying via the web may be done internally ( Local Area Network – LAN ), or \\nexternally ( Internet ).\"), Document(metadata={'id': 'D:\\\\Generative IA\\\\rag_pdfs\\\\pdf_data\\\\M98232201-03-18A.pdf:47:1', 'page': 47, 'source': 'D:\\\\Generative IA\\\\rag_pdfs\\\\pdf_data\\\\M98232201-03-18A.pdf'}, page_content='The group type for the data to be displayed in the events viewer \\ncan be chosen.  \\n \\n The list may be displayed either complete or not.  \\n \\n Here the appearance of the control on the SCADA screen is \\nspecified. Select ‘button’, ‘image’ or ‘text’.  \\n \\n6.2.1.7  \\n Run control  \\n \\n Use this tool to incl ude access from the SCADA screen to another application in the system. \\nThe properties than can be configured from this control are:  \\n \\n Specify the complete path to the application that will be called up \\nwhen the control entered on the SCADA screen is click ed. For example: \\nC:\\\\WINDOWS \\\\SYSTEM32 \\\\CALC.EXE.  \\n \\n Specify parameters (if needed) to be added to the application call \\nindicated in ‘ Program’.')]\n",
      "Document Grades ['Yes', 'Yes', 'Yes', 'Yes']\n",
      "FILETRED DOCUMENT GRADES: ['Yes', 'Yes', 'Yes', 'Yes']\n"
     ]
    },
    {
     "data": {
      "text/plain": [
       "'Il n\\'y a pas de mention spécifique de l\\'utilisation du XML dans le contexte fourni. Cependant, il est possible d\\'en déduire quelques informations :\\n\\n* Le contexte parle de la configuration du serveur Web et des paramètres de mise en œuvre, mais ne mentionne pas explicitement l\\'utilisation du XML.\\n* Il y a une mention de \"variables\" qui seront automatiquement mises à jour dans les écrans personnalisés pour la version Scada, ce qui suggère que le XML peut être utilisé pour stocker et gérer ces variables.\\n\\nEn général, dans Power Studio Scada, l\\'XML peut être utilisé pour :\\n\\n* Stocker et gérer les données de configuration\\n* Définir les paramètres de mise en œuvre du serveur Web\\n* Gérer les variables qui seront mises à jour automatiquement dans les écrans personnalisés\\n\\nPour utiliser le XML dans Power Studio Scada, il faudrait consulter la documentation officielle ou rechercher des informations spécifiques sur l\\'utilisation de l\\'XML dans ce contexte.'"
      ]
     },
     "execution_count": 21,
     "metadata": {},
     "output_type": "execute_result"
    }
   ],
   "source": [
    "result = app.invoke({\"question\": \"comment utiliser le xml dans power studio scada\"})\n",
    "result[\"llm_output\"]\n"
   ]
  },
  {
   "cell_type": "code",
   "execution_count": 20,
   "metadata": {},
   "outputs": [
    {
     "name": "stdout",
     "output_type": "stream",
     "text": [
      "Result from grader_llm: { \"score\": \"yes\" }\n",
      "###########\n",
      "{ \"score\": \"yes\" }\n",
      "##########\n",
      "RETRIEVED DOCUMENTS [Document(metadata={'id': 'D:\\\\Generative IA\\\\rag_pdfs\\\\pdf_data\\\\M98232201-03-18A.pdf:47:1', 'page': 47, 'source': 'D:\\\\Generative IA\\\\rag_pdfs\\\\pdf_data\\\\M98232201-03-18A.pdf'}, page_content='The group type for the data to be displayed in the events viewer \\ncan be chosen.  \\n \\n The list may be displayed either complete or not.  \\n \\n Here the appearance of the control on the SCADA screen is \\nspecified. Select ‘button’, ‘image’ or ‘text’.  \\n \\n6.2.1.7  \\n Run control  \\n \\n Use this tool to incl ude access from the SCADA screen to another application in the system. \\nThe properties than can be configured from this control are:  \\n \\n Specify the complete path to the application that will be called up \\nwhen the control entered on the SCADA screen is click ed. For example: \\nC:\\\\WINDOWS \\\\SYSTEM32 \\\\CALC.EXE.  \\n \\n Specify parameters (if needed) to be added to the application call \\nindicated in ‘ Program’.'), Document(metadata={'id': 'D:\\\\Generative IA\\\\rag_pdfs\\\\pdf_data\\\\M98232001-03-18A.pdf:84:0', 'page': 84, 'source': 'D:\\\\Generative IA\\\\rag_pdfs\\\\pdf_data\\\\M98232001-03-18A.pdf'}, page_content='PowerStudio      \\n         \\nInstruc tion Manual    85                                                                                                                       \\n1.3.3. SCADA Screens \\n \\nThe way in which the Scada screens of the HTML5 2.0 client work is almost identical to those of the \\nJava or HT ML5 1.0 clients.  \\n \\nSelect the “ Screens” option from the tools menu to access the Scada screens. The application will \\nshow a dialogue box with the available screens that can be selected:  \\n \\n \\nSCADA Screens  \\n \\nAdditional considerations:  \\n \\n• The \"request interval\" parameters and \"frames per second\" configuration will affect how data is \\ndisplayed in these types of screens, as described in the general options section.  \\n• Version HTML5 2.0 DOES NOT ALLOW ZOOM IN/OUT screens.  \\n \\n1.3.4. Report Screen  \\n \\nThe way in which the Repor ts screens of the HTML5 2.0 client work is almost identical to those of the \\nJava or HTML5 1.0 clients.  \\n \\nSelect the “ Reports ” option from the tools menu to access the Reports screens. The application will \\nshow a dialogue box with the available reports that can be selected:'), Document(metadata={'id': 'D:\\\\Generative IA\\\\rag_pdfs\\\\pdf_data\\\\pdfcoffee.com_powerstudio-scada-ver25-tutorial-pdf-free.pdf:41:0', 'page': 41, 'source': 'D:\\\\Generative IA\\\\rag_pdfs\\\\pdf_data\\\\pdfcoffee.com_powerstudio-scada-ver25-tutorial-pdf-free.pdf'}, page_content='Web: www.circutor.com  \\nVIAL SANT JORDI, S/N E-mail: central@circutor.es  \\n08232 VILADECAVALLS  (BARCELONA) Tel:  (+34) 93 745 29 00 \\nESPAÑA / SPAIN     \\n             \\n  Fax: (+34) 93 745 29 14 \\n \\n Circutor, S.A. – Powerstudio SCADA v2.5 Practical Tutorial –                                                 - 42 -   \\nUsing SCADA tools on the created screens \\n \\n \\n \\nIn addition to the SCADA tools, there is also a series  of mathematical and time functions available, such \\nas:  \\n \\n \\n \\n \\n \"Wizard\" button: a tool often used while editi ng the application. It is used to open the equipment \\nvariable search assistant, created formulas, arithmetical functions, logical formulas, ...  \\nFrom now on, the different action calls will be us ed to complete the two previously created SCADA \\nscreens. As can be seen, to facilitate the use of the program, the large majority  of controls available for designing \\nSCADA screens are also used to design REPORTS.  This is explained in another section.  \\n \\nExample is to be followed our carried out on the SCADA START test screen. The steps to be carried out shall be \\nchecked from the Java Applet.  \\n  - Action tools \\n- Position tools - Page tools'), Document(metadata={'id': 'D:\\\\Generative IA\\\\rag_pdfs\\\\pdf_data\\\\M98232201-03-18A.pdf:43:0', 'page': 43, 'source': 'D:\\\\Generative IA\\\\rag_pdfs\\\\pdf_data\\\\M98232201-03-18A.pdf'}, page_content='PowerStudio  \\n \\n 44                                                                                                                                  User Manual  \\n \\nThe \\n Save option will allow the changes made on the screen to be saved and the \\n Save as  \\noption will enable a copy of the screen to be saved with a different name.  \\nFinally, ‘Options’  will allow the dimensions of the scr een selected at the time to be changed.  \\n \\n \\nThe width and height of the screen is measured in pixels and the size of the grid will specify, in \\npixels, the distance between a point on the grid and another in horizontal or vertical. If a background \\nimage has been selected, the size of the SCADA screen can be adapted to the size of this background \\nby checking box \\n  \\n \\n6.2.- EDITING SCADA SCREENS  \\n \\n Use this function to add, change or delete screen controls. Use these controls to display the \\nvalue of a variable, perform an action, paint an area of the screen, and so on.')]\n",
      "Document Grades ['Yes', 'Yes', 'Yes', 'Yes']\n",
      "FILETRED DOCUMENT GRADES: ['Yes', 'Yes', 'Yes', 'Yes']\n"
     ]
    },
    {
     "data": {
      "text/plain": [
       "'Selon le contexte fourni, il semble que Power Studio SCADA propose plusieurs façons de récupérer des données et les utiliser dans une application externe. Voici quelques-unes des méthodes mentionnées :\\n\\n1. **Utiliser l\\'outil \"Run control\"** : Ce outil permet d\\'inclure l\\'accès à une autre application dans le système en cliquant sur un contrôle spécifique. Il est possible de spécifier la route complète de l\\'application et les paramètres à ajouter pour l\\'appeler.\\n2. **Utiliser les \"Action tools\"** : Ces outils permettent de créer des actions qui peuvent être utilisées pour récupérer des données ou exécuter des tâches dans une application externe.\\n3. **Utiliser les \"Position tools\" et les \"Page tools\"** : Ces outils permettent de positionner et de configurer les contrôles sur la scène SCADA, ce qui peut être utile pour récupérer des données ou exécuter des tâches dans une application externe.\\n4. **Utiliser les fonctions mathématiques et temporelles** : Power Studio SCADA propose une série de fonctions mathématiques et temporelles qui peuvent être utilisées pour récupérer des données ou effectuer des calculs dans une application externe.\\n\\nIl est important de noter que le contexte fourni ne fournit pas d\\'informations spécifiques sur la manière exacte de récupérer les données depuis Power Studio SCADA et les utiliser dans une application externe. Il est donc possible que d\\'autres méthodes soient nécessaires pour atteindre cet objectif.\\n\\nEn général, il est probable que vous deviez :\\n\\n* Utiliser l\\'outil \"Run control\" pour spécifier la route complète de l\\'application et les paramètres à ajouter pour l\\'appeler.\\n* Utiliser les \"Action tools\" pour créer des actions qui peuvent être utilisées pour récupérer des données ou exécuter des tâches dans une application externe.\\n* Utiliser les fonctions mathématiques et temporelles pour effectuer des calculs ou récupérer des données dans une application externe.\\n\\nIl est recommandé de consulter le manuel d\\'utilisation de Power Studio SCADA pour obtenir plus d\\'informations sur ces méthodes et d\\'autres façons de récupérer les données.'"
      ]
     },
     "execution_count": 20,
     "metadata": {},
     "output_type": "execute_result"
    }
   ],
   "source": [
    "result = app.invoke({\"question\": \"je veux recuperer les donnees depuis power studio scada quelle sont toutes les facons possible pour recuperer les donnnes et l'utilise dans une application externe\"})\n",
    "result[\"llm_output\"]\n"
   ]
  },
  {
   "cell_type": "code",
   "execution_count": null,
   "metadata": {},
   "outputs": [],
   "source": []
  }
 ],
 "metadata": {
  "kernelspec": {
   "display_name": "Python 3",
   "language": "python",
   "name": "python3"
  },
  "language_info": {
   "codemirror_mode": {
    "name": "ipython",
    "version": 3
   },
   "file_extension": ".py",
   "mimetype": "text/x-python",
   "name": "python",
   "nbconvert_exporter": "python",
   "pygments_lexer": "ipython3",
   "version": "3.11.2"
  }
 },
 "nbformat": 4,
 "nbformat_minor": 4
}
