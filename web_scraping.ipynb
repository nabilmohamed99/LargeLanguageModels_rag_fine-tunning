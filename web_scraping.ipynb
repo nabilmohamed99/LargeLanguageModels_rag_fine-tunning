{
 "cells": [
  {
   "cell_type": "code",
   "execution_count": 30,
   "id": "6ea837a9-74c9-48e4-8853-ec6c0f2ee311",
   "metadata": {},
   "outputs": [],
   "source": [
    "from bs4 import BeautifulSoup"
   ]
  },
  {
   "cell_type": "code",
   "execution_count": 31,
   "id": "1bd77d75-6a7c-44b2-a100-c452342aff85",
   "metadata": {},
   "outputs": [],
   "source": [
    "from urllib.request import urlopen"
   ]
  },
  {
   "cell_type": "code",
   "execution_count": 32,
   "id": "ea34be77-03e6-40df-bb86-42603d75162f",
   "metadata": {},
   "outputs": [
    {
     "name": "stdout",
     "output_type": "stream",
     "text": [
      "<h1>Q&amp;A – 12 answers to 10 questions in Chapter 6</h1>\n"
     ]
    }
   ],
   "source": [
    "try:\n",
    "    html=urlopen(\"https://www.neo-messtechnik.com/en/power-quality-explained-chapter6-pq-qa\")\n",
    "    bs=BeautifulSoup(html.read(),'html.parser') #html5lib\n",
    "    print(bs.h1)\n",
    "except Exception as e:\n",
    "    print(e)\n"
   ]
  },
  {
   "cell_type": "code",
   "execution_count": 33,
   "id": "70468d9a-1c84-43b0-aefb-b2c91d054773",
   "metadata": {},
   "outputs": [
    {
     "name": "stdout",
     "output_type": "stream",
     "text": [
      "Tag was not found\n"
     ]
    },
    {
     "name": "stderr",
     "output_type": "stream",
     "text": [
      "C:\\Users\\simo_\\AppData\\Local\\Temp\\ipykernel_30464\\1800071499.py:2: DeprecationWarning: .nonExistingTag is deprecated, use .find(\"nonExisting\") instead. If you really were looking for a tag called nonExistingTag, use .find(\"nonExistingTag\")\n",
      "  badContent = bs.nonExistingTag.anotherTag\n"
     ]
    }
   ],
   "source": [
    "try:\n",
    "     badContent = bs.nonExistingTag.anotherTag\n",
    "except AttributeError as e:\n",
    "     print('Tag was not found')\n",
    "else:\n",
    " if badContent == None:\n",
    "     print ('Tag was not found')"
   ]
  },
  {
   "cell_type": "code",
   "execution_count": 47,
   "id": "06cf3080-0e73-435a-9398-b4b7ebb6f5f2",
   "metadata": {},
   "outputs": [],
   "source": [
    "\n",
    "qa_dict = {}\n",
    "\n",
    "questions = bs.find_all('h2')\n",
    "\n",
    "for question in questions:\n",
    "    question_text = question.get_text(strip=True)\n",
    "\n",
    "    answer_text = []\n",
    "\n",
    "    next_tag = question.find_next_sibling()\n",
    "\n",
    "    while next_tag and next_tag.name != 'h2':\n",
    "        if next_tag.name == 'p':\n",
    "            answer_text.append(next_tag.get_text(strip=True))\n",
    "        next_tag = next_tag.find_next_sibling()\n",
    "\n",
    "    full_answer = ' '.join(answer_text)\n",
    "    \n",
    "    qa_dict[question_text] = full_answer\n",
    "    \n",
    "qa_list = list(qa_dict.items())\n",
    "qa_list = qa_list[1:-2]\n",
    "# for q, a in qa_list:\n",
    "    # print(f\"Question: {q}\\nRéponse: {a}\\n\")\n",
    "\n",
    "\n"
   ]
  },
  {
   "cell_type": "code",
   "execution_count": 50,
   "id": "8c385ede-2724-4670-94e6-0170981f6e3d",
   "metadata": {},
   "outputs": [
    {
     "name": "stdout",
     "output_type": "stream",
     "text": [
      "What do star-, delta- and single-line wiring mean?\n",
      "What does a Transient Recorder do?\n",
      "How to spot a highly evolved Power Quality Analyzer\n",
      "What are ½ period values?\n",
      "What is the difference between disturbance and transient recording?\n",
      "What is meant by system dynamics?\n",
      "What is the function of a PMU?\n",
      "NEO PQA 8000H\n",
      "Could you explain the PMU IEEE C 37.118 standard?\n",
      "What does RoCof stand for?\n",
      "What are WAMS in smart grids?\n",
      "What is a Power Quality Spreading & Mitigation Analysis?\n"
     ]
    }
   ],
   "source": [
    "import json\n",
    "# Application du pipeline de prétraitement à chaque contenu extrait\n",
    "list_results = []\n",
    "with open('D:\\\\Generative IA\\\\rag_pdfs\\\\Q_A_POWER_QUALITY_12_QUESTION.json', 'w', encoding='utf-8') as f:\n",
    "    for question, response in qa_list:\n",
    "        print(question)\n",
    "        result = {\"question\":question, \"response\":response}\n",
    "        \n",
    "        json.dump(result, f, ensure_ascii=False)\n",
    "        f.write(\"\\n\")  \n",
    "\n",
    "        \n"
   ]
  },
  {
   "cell_type": "code",
   "execution_count": 51,
   "id": "397a9e5d-c2d8-4f48-88ae-2b20458b3eb4",
   "metadata": {},
   "outputs": [
    {
     "name": "stdout",
     "output_type": "stream",
     "text": [
      "<h1 class=\"firstHeading\" id=\"firstHeading\"><span class=\"mw-page-title-main\">Definition of voltage ranges</span></h1>\n"
     ]
    }
   ],
   "source": [
    "# schneider\n",
    "try:\n",
    "    html=urlopen(\"https://www.electrical-installation.org/enwiki/Definition_of_voltage_ranges\")\n",
    "    bs=BeautifulSoup(html.read(),'html.parser') #html5lib\n",
    "    print(bs.h1)\n",
    "except Exception as e:\n",
    "    print(e)\n"
   ]
  },
  {
   "cell_type": "code",
   "execution_count": 53,
   "id": "59f9df62-359f-406d-9b6b-c641c71f4310",
   "metadata": {},
   "outputs": [
    {
     "data": {
      "text/plain": [
       "'\\n\\n\\n\\n\\n\\n\\n\\n\\n\\n\\n\\n\\n\\nAbout\\n\\nAbout this wiki\\nHow to browse and search\\nHow to contribute\\nHelp\\n\\n\\n\\n\\n\\n\\n\\n\\n\\nView source\\nView history\\n\\n\\n\\n\\n\\n\\n\\n\\n\\n\\n\\n\\n\\n\\n\\n\\n\\n\\n\\n\\n\\n\\nCreate account\\nLog in\\n\\n\\n\\n\\n\\n\\n\\nBrought to you by Schneider Electric\\n\\t\\t\\t\\n\\n\\n\\n\\n  \\n\\n\\n\\nChapter A\\nGeneral rules of electrical installation design\\nElectrical installation design methodology\\nElectrical installation rules, standards\\nDefinition of voltage ranges\\nElectrical regulations and standards\\nQuality and safety of an electrical installation\\nEnvironmental directives\\nInstalled power loads - Characteristics\\nInduction motors\\nResistive-type heating appliances and incandescent lamps (conventional or halogen)\\nFluorescent lamps\\nDischarge lamps\\nLED lamps and fixtures\\nPower loading of an installation\\nInstalled power (kW)\\nInstalled apparent power (kVA)\\nEstimation of actual maximum kVA demand\\nExample of application of factors ku and ks\\nChoice of transformer rating\\nChoice of power-supply sources\\n\\n\\n\\n\\n\\n\\n\\n\\n\\n\\n\\n\\n\\n\\n\\n\\n\\n\\n\\n\\nDefinition of voltage ranges\\n\\nFrom Electrical Installation Guide\\n\\nHome > General rules of electrical installation design > Electrical installation rules, standards > Definition of voltage rangesJump to:navigation, search\\n\\n\\n\\nIEC voltage standards and recommendations\\n\\nFig.\\xa0A1\\xa0–\\xa0Standard voltages between 100 V and 1000 V (IEC 60038 Edition 7.0 2009-06)\\n\\n\\nThree-phase four-wire or three-wire systems Nominal voltage (V)\\n\\nSingle-phase three-wire systems Nominal voltage (V)\\n\\n\\n50 Hz\\n\\n60 Hz\\n\\n60 Hz\\n\\n\\n-\\n\\n120/208\\n\\n120/240[a]\\n\\n\\n230[b]\\n\\n240[b]\\n\\n-\\n\\n\\n230/400[c]\\n\\n230/400[c]\\n\\n-\\n\\n\\n-\\n\\n277/480\\n\\n-\\n\\n\\n-\\n\\n480\\n\\n-\\n\\n\\n-\\n\\n347/600\\n\\n-\\n\\n\\n-\\n\\n600\\n\\n-\\n\\n\\n400/690[d]\\n\\n-\\n\\n-\\n\\n\\n1000\\n\\n-\\n\\n-\\n\\nNote:* the lower values in the first and second columns are voltages to neutral and the higher values are voltages between phases. When one value only is indicated, it refers to three-wire systems and specifies the voltage between phases. The lower value in the third column is the voltage to neutral and the higher value is the voltage between lines.* voltages in excess of 230/400 V are intended for heavy industrial applications and large commercial premises.* concerning supply voltage range, under normal operating conditions, the supply voltage should not differ from the nominal voltage of the system by more than ±10\\xa0%.\\n\\n^ The values of 100/200 V are also used in some countries on 50 Hz or 60 Hz systems.\\n\\n^ 1 2 The value of 200 V or 220 V is also used in some countries.\\n\\n^ 1 2 The value of 230/400 V is the result of the evolution of 220/380 V and 240/415 V systems which has been completed in Europe and many other countries. However, 220/380 V and 240/415 V systems still exist.\\n\\n^ The value of 400/690 V is the result of the evolution of 380/660 V systems which has been completed in Europe and many other countries. However, 380/660 V systems still exist.\\n\\n\\n\\nFig.\\xa0A2\\xa0–\\xa0AC 3 phases Standard voltages above 1 kV and not exceeding 35 kV (IEC 60038 Edition 7.0 2009)[a]\\n\\n\\nSeries I\\n\\nSeries II\\n\\n\\nHighest voltage for equipment (kV)\\n\\nNominal system voltage (kV)\\n\\nHighest voltage for equipment (kV)\\n\\nNominal system voltage (kV)\\n\\n\\n3.6[b]\\n\\n3.3[b]\\n\\n3[b]\\n\\n4.40[b]\\n\\n4.16[b]\\n\\n\\n7.2[b]\\n\\n6.6[b]\\n\\n6[b]\\n\\n-\\n\\n-\\n\\n\\n12\\n\\n11\\n\\n10\\n\\n-\\n\\n-\\n\\n\\n-\\n\\n-\\n\\n-\\n\\n13.2[c]\\n\\n12.47[c]\\n\\n\\n-\\n\\n-\\n\\n-\\n\\n13.97[c]\\n\\n13.2[c]\\n\\n\\n-\\n\\n-\\n\\n-\\n\\n14.52[b]\\n\\n13.8[b]\\n\\n\\n(17.5)\\n\\n-\\n\\n(15)\\n\\n-\\n\\n-\\n\\n\\n24\\n\\n22\\n\\n20\\n\\n-\\n\\n-\\n\\n\\n-\\n\\n-\\n\\n-\\n\\n26.4[c][d]\\n\\n24.94[c][d]\\n\\n\\n36[e]\\n\\n33[e]\\n\\n30[e]\\n\\n-\\n\\n-\\n\\n\\n-\\n\\n-\\n\\n-\\n\\n36.5[c]\\n\\n34.5[c]\\n\\n\\n40.5[e]\\n\\n-\\n\\n35[e]\\n\\n-\\n\\n-\\n\\nNote 1: It is recommended that in any one country the ratio between two adjacent nominal voltages should be not less than two.Note 2: In a normal system of Series I, the highest voltage and the lowest voltage do not differ by more than approximately ±10\\xa0% from the nominal voltage of the system. In a normal system of Series II, the highest voltage does not differ by more then +5\\xa0% and the lowest voltage by more than -10\\xa0% from the nominal voltage of the system.\\n\\n^ These systems are generally three-wire systems, unless otherwise indicated. The values indicated are voltages between phases. The values indicated in parentheses should be considered as non-preferred values. It is recommended that these values should not be used for new systems to be constructed in future.\\n\\n^ 1 2 3 4 5 6 7 8 9 10 These values should not be used for new public distribution systems.\\n\\n^ 1 2 3 4 5 6 7 8 These systems are generally four-wire systems and the values indicated are voltages between phases. The voltage to neutral is equal to the indicated value divided by 1.73.\\n\\n^ 1 2 The values of 22.9 kV for nominal voltage and 24.2 kV or 25.8 kV for highest voltage for equipment are also used in some countries.\\n\\n^ 1 2 3 4 5 The unification of these values is under consideration.\\n\\n\\n\\n\\n\\n\\n\\nRetrieved from \"https://www.electrical-installation.org/enw/index.php?title=Definition_of_voltage_ranges&oldid=28200\"\\n\\n\\n\\n\\nCategories: Chapter - General rules of electrical installation designEig-content-pages\\n\\n\\n\\n\\n\\nShare\\n\\n\\nAdd a comment\\n previous page\\nnext page\\n\\n\\n\\n\\n\\n\\n\\n\\n\\n\\n\\n\\n\\nWhat links here\\nRelated changes\\nSpecial pages\\nPrintable version\\nPermanent link\\nPage information\\nBrowse properties\\n\\n\\n\\n\\n\\n\\n\\n\\n\\n\\n\\n\\n\\n\\n\\n This page was last edited on 22 June 2022, at 09:48.\\n\\n\\n\\n\\n\\n\\n\\n\\n\\n\\n\\n\\nAbout this wiki\\nThe Electrical Installation Guide is now available here as a wiki (Electrical Installation Wiki). This wiki is a collaborative platform, brought to you by Schneider Electric: our experts are continuously improving its content, as they were doing for the guide. Collaboration to this wiki is also open to all.\\n\\n\\nHelp\\n\\nMain page\\nHow to browse and search\\nHow to contribute\\nRecent changes\\nHelp\\n\\n\\n\\nNavigation\\n\\nSpecial pages\\nRandom page\\nSearch\\nLog in\\n\\n\\n\\n\\n\\n\\n\\n\\n\\n\\n\\n\\n\\n\\n\\nData Privacy and Cookie Policy\\nAbout Electrical Installation Guide\\nDisclaimers\\nCookie Preferences\\n\\n\\n\\n\\n\\n\\n\\n'"
      ]
     },
     "execution_count": 53,
     "metadata": {},
     "output_type": "execute_result"
    }
   ],
   "source": [
    "bs.body.get_text()"
   ]
  },
  {
   "cell_type": "code",
   "execution_count": 58,
   "id": "5d4880bc-5bd3-4d54-9855-d63caa4069ce",
   "metadata": {},
   "outputs": [
    {
     "name": "stderr",
     "output_type": "stream",
     "text": [
      "Setting `pad_token_id` to `eos_token_id`:128001 for open-end generation.\n"
     ]
    }
   ],
   "source": [
    "# from transformers import pipeline\n",
    "\n",
    "# # Charger le modèle spaCy\n",
    "\n",
    "# # Charger le modèle Llama 3 pour la génération de texte sur GPU\n",
    "# pipe = pipeline(\"text-generation\", model=\"meta-llama/Llama-3.2-1B\",device=0)     \n",
    "# # Génération des questions\n",
    "# def generate_questions(content):\n",
    "#     prompt = (\n",
    "#         \"Based on the following content, generate relevant questions and responses related to the Electrical Field:\\n\\n\"\n",
    "#         f\"{content}\\n\\n\"\n",
    "#         \"Questions and Responses:\\n\"\n",
    "#     )\n",
    "\n",
    "#     # Génération de texte\n",
    "#     questions = pipe(prompt, max_new_tokens=50, num_return_sequences=1)\n",
    "#     return questions[0]['generated_text']\n",
    "\n",
    "# questions=generate_questions(bs.body.get_text())"
   ]
  },
  {
   "cell_type": "code",
   "execution_count": 62,
   "id": "f761792e-e9cd-4498-bcc3-b299169ff456",
   "metadata": {},
   "outputs": [],
   "source": [
    "import selenium.webdriver as webdriver\n",
    "from selenium.webdriver.chrome.service import  Service"
   ]
  },
  {
   "cell_type": "code",
   "execution_count": 67,
   "id": "c03da0a2-7174-4c85-bfef-c3b1d796e90f",
   "metadata": {},
   "outputs": [],
   "source": [
    "def scrape_website(website):\n",
    "    print(\"Launching chrom browser...\")\n",
    "    chrome_driver_path=\"'D:\\\\Generative IA\\\\rag_pdfs\\\\chrome.exe\"\n",
    "    options = webdriver.ChromeOptions\n",
    "    driver = webdriver.Chrome(service=Service(chrome_driver_path),options=options)\n",
    "    try:\n",
    "        driver.get(website)\n",
    "        print(\"Page loaded...\")\n",
    "        html= driver.page_source\n",
    "        return html\n",
    "    finally:\n",
    "        driver.quit()"
   ]
  },
  {
   "cell_type": "code",
   "execution_count": 68,
   "id": "de6711f9-be9d-40ed-8b68-4a60489bdc05",
   "metadata": {},
   "outputs": [
    {
     "name": "stdout",
     "output_type": "stream",
     "text": [
      "Launching chrom browser...\n"
     ]
    },
    {
     "ename": "TypeError",
     "evalue": "'property' object is not subscriptable",
     "output_type": "error",
     "traceback": [
      "\u001b[1;31m---------------------------------------------------------------------------\u001b[0m",
      "\u001b[1;31mTypeError\u001b[0m                                 Traceback (most recent call last)",
      "Cell \u001b[1;32mIn[68], line 1\u001b[0m\n\u001b[1;32m----> 1\u001b[0m \u001b[43mscrape_website\u001b[49m\u001b[43m(\u001b[49m\u001b[38;5;124;43m\"\u001b[39;49m\u001b[38;5;124;43mhttps://www.electrical-installation.org/enwiki/Definition_of_voltage_ranges\u001b[39;49m\u001b[38;5;124;43m\"\u001b[39;49m\u001b[43m)\u001b[49m\n",
      "Cell \u001b[1;32mIn[67], line 5\u001b[0m, in \u001b[0;36mscrape_website\u001b[1;34m(website)\u001b[0m\n\u001b[0;32m      3\u001b[0m chrome_driver_path\u001b[38;5;241m=\u001b[39m\u001b[38;5;124m\"\u001b[39m\u001b[38;5;124m'\u001b[39m\u001b[38;5;124mD:\u001b[39m\u001b[38;5;130;01m\\\\\u001b[39;00m\u001b[38;5;124mGenerative IA\u001b[39m\u001b[38;5;130;01m\\\\\u001b[39;00m\u001b[38;5;124mrag_pdfs\u001b[39m\u001b[38;5;130;01m\\\\\u001b[39;00m\u001b[38;5;124mchrome.exe\u001b[39m\u001b[38;5;124m\"\u001b[39m\n\u001b[0;32m      4\u001b[0m options \u001b[38;5;241m=\u001b[39m webdriver\u001b[38;5;241m.\u001b[39mChromeOptions\n\u001b[1;32m----> 5\u001b[0m driver \u001b[38;5;241m=\u001b[39m \u001b[43mwebdriver\u001b[49m\u001b[38;5;241;43m.\u001b[39;49m\u001b[43mChrome\u001b[49m\u001b[43m(\u001b[49m\u001b[43mservice\u001b[49m\u001b[38;5;241;43m=\u001b[39;49m\u001b[43mService\u001b[49m\u001b[43m(\u001b[49m\u001b[43mchrome_driver_path\u001b[49m\u001b[43m)\u001b[49m\u001b[43m,\u001b[49m\u001b[43moptions\u001b[49m\u001b[38;5;241;43m=\u001b[39;49m\u001b[43moptions\u001b[49m\u001b[43m)\u001b[49m\n\u001b[0;32m      6\u001b[0m \u001b[38;5;28;01mtry\u001b[39;00m:\n\u001b[0;32m      7\u001b[0m     driver\u001b[38;5;241m.\u001b[39mget(website)\n",
      "File \u001b[1;32m~\\anaconda3\\lib\\site-packages\\selenium\\webdriver\\chrome\\webdriver.py:45\u001b[0m, in \u001b[0;36mWebDriver.__init__\u001b[1;34m(self, options, service, keep_alive)\u001b[0m\n\u001b[0;32m     42\u001b[0m service \u001b[38;5;241m=\u001b[39m service \u001b[38;5;28;01mif\u001b[39;00m service \u001b[38;5;28;01melse\u001b[39;00m Service()\n\u001b[0;32m     43\u001b[0m options \u001b[38;5;241m=\u001b[39m options \u001b[38;5;28;01mif\u001b[39;00m options \u001b[38;5;28;01melse\u001b[39;00m Options()\n\u001b[1;32m---> 45\u001b[0m \u001b[38;5;28;43msuper\u001b[39;49m\u001b[43m(\u001b[49m\u001b[43m)\u001b[49m\u001b[38;5;241;43m.\u001b[39;49m\u001b[38;5;21;43m__init__\u001b[39;49m\u001b[43m(\u001b[49m\n\u001b[0;32m     46\u001b[0m \u001b[43m    \u001b[49m\u001b[43mDesiredCapabilities\u001b[49m\u001b[38;5;241;43m.\u001b[39;49m\u001b[43mCHROME\u001b[49m\u001b[43m[\u001b[49m\u001b[38;5;124;43m\"\u001b[39;49m\u001b[38;5;124;43mbrowserName\u001b[39;49m\u001b[38;5;124;43m\"\u001b[39;49m\u001b[43m]\u001b[49m\u001b[43m,\u001b[49m\n\u001b[0;32m     47\u001b[0m \u001b[43m    \u001b[49m\u001b[38;5;124;43m\"\u001b[39;49m\u001b[38;5;124;43mgoog\u001b[39;49m\u001b[38;5;124;43m\"\u001b[39;49m\u001b[43m,\u001b[49m\n\u001b[0;32m     48\u001b[0m \u001b[43m    \u001b[49m\u001b[43moptions\u001b[49m\u001b[43m,\u001b[49m\n\u001b[0;32m     49\u001b[0m \u001b[43m    \u001b[49m\u001b[43mservice\u001b[49m\u001b[43m,\u001b[49m\n\u001b[0;32m     50\u001b[0m \u001b[43m    \u001b[49m\u001b[43mkeep_alive\u001b[49m\u001b[43m,\u001b[49m\n\u001b[0;32m     51\u001b[0m \u001b[43m\u001b[49m\u001b[43m)\u001b[49m\n",
      "File \u001b[1;32m~\\anaconda3\\lib\\site-packages\\selenium\\webdriver\\chromium\\webdriver.py:51\u001b[0m, in \u001b[0;36mChromiumDriver.__init__\u001b[1;34m(self, browser_name, vendor_prefix, options, service, keep_alive)\u001b[0m\n\u001b[0;32m     47\u001b[0m \u001b[38;5;28mself\u001b[39m\u001b[38;5;241m.\u001b[39mvendor_prefix \u001b[38;5;241m=\u001b[39m vendor_prefix\n\u001b[0;32m     49\u001b[0m \u001b[38;5;28mself\u001b[39m\u001b[38;5;241m.\u001b[39mservice \u001b[38;5;241m=\u001b[39m service\n\u001b[1;32m---> 51\u001b[0m \u001b[38;5;28mself\u001b[39m\u001b[38;5;241m.\u001b[39mservice\u001b[38;5;241m.\u001b[39mpath \u001b[38;5;241m=\u001b[39m \u001b[43mDriverFinder\u001b[49m\u001b[38;5;241;43m.\u001b[39;49m\u001b[43mget_path\u001b[49m\u001b[43m(\u001b[49m\u001b[38;5;28;43mself\u001b[39;49m\u001b[38;5;241;43m.\u001b[39;49m\u001b[43mservice\u001b[49m\u001b[43m,\u001b[49m\u001b[43m \u001b[49m\u001b[43moptions\u001b[49m\u001b[43m)\u001b[49m\n\u001b[0;32m     53\u001b[0m \u001b[38;5;28mself\u001b[39m\u001b[38;5;241m.\u001b[39mservice\u001b[38;5;241m.\u001b[39mstart()\n\u001b[0;32m     55\u001b[0m \u001b[38;5;28;01mtry\u001b[39;00m:\n",
      "File \u001b[1;32m~\\anaconda3\\lib\\site-packages\\selenium\\webdriver\\common\\driver_finder.py:44\u001b[0m, in \u001b[0;36mDriverFinder.get_path\u001b[1;34m(service, options)\u001b[0m\n\u001b[0;32m     41\u001b[0m     \u001b[38;5;28;01mraise\u001b[39;00m NoSuchDriverException(msg) \u001b[38;5;28;01mfrom\u001b[39;00m \u001b[38;5;21;01merr\u001b[39;00m\n\u001b[0;32m     43\u001b[0m \u001b[38;5;28;01mif\u001b[39;00m path \u001b[38;5;129;01mis\u001b[39;00m \u001b[38;5;28;01mNone\u001b[39;00m \u001b[38;5;129;01mor\u001b[39;00m \u001b[38;5;129;01mnot\u001b[39;00m Path(path)\u001b[38;5;241m.\u001b[39mis_file():\n\u001b[1;32m---> 44\u001b[0m     \u001b[38;5;28;01mraise\u001b[39;00m NoSuchDriverException(\u001b[38;5;124mf\u001b[39m\u001b[38;5;124m\"\u001b[39m\u001b[38;5;124mUnable to locate or obtain driver for \u001b[39m\u001b[38;5;132;01m{\u001b[39;00moptions\u001b[38;5;241m.\u001b[39mcapabilities[\u001b[38;5;124m'\u001b[39m\u001b[38;5;124mbrowserName\u001b[39m\u001b[38;5;124m'\u001b[39m]\u001b[38;5;132;01m}\u001b[39;00m\u001b[38;5;124m\"\u001b[39m)\n\u001b[0;32m     46\u001b[0m \u001b[38;5;28;01mreturn\u001b[39;00m path\n",
      "\u001b[1;31mTypeError\u001b[0m: 'property' object is not subscriptable"
     ]
    }
   ],
   "source": [
    "scrape_website(\"https://www.electrical-installation.org/enwiki/Definition_of_voltage_ranges\")"
   ]
  },
  {
   "cell_type": "code",
   "execution_count": null,
   "id": "6279bb64-faf9-4d88-8ebc-203bbcff2fc9",
   "metadata": {},
   "outputs": [],
   "source": []
  }
 ],
 "metadata": {
  "kernelspec": {
   "display_name": "Python 3 (ipykernel)",
   "language": "python",
   "name": "python3"
  },
  "language_info": {
   "codemirror_mode": {
    "name": "ipython",
    "version": 3
   },
   "file_extension": ".py",
   "mimetype": "text/x-python",
   "name": "python",
   "nbconvert_exporter": "python",
   "pygments_lexer": "ipython3",
   "version": "3.9.13"
  }
 },
 "nbformat": 4,
 "nbformat_minor": 5
}
