{
 "cells": [
  {
   "cell_type": "code",
   "execution_count": 1,
   "metadata": {},
   "outputs": [],
   "source": [
    "from langchain_chroma import Chroma\n",
    "from langchain.prompts import ChatPromptTemplate\n",
    "from langchain.document_loaders import PyPDFDirectoryLoader\n",
    "from langchain.text_splitter import RecursiveCharacterTextSplitter\n",
    "from langchain.schema import Document\n",
    "from langchain_community.llms.ollama import Ollama\n",
    "from langchain_community.embeddings.ollama import OllamaEmbeddings\n",
    "import time\n",
    "import os\n",
    "\n",
    "CHROMA_PATH = \"chroma_db_test_21\"\n",
    "\n",
    "PROMPT_TEMPLATE = \"\"\"\n",
    "Answer the question based on the following context and your knowledge:\n",
    "\n",
    "{context}\n",
    "\n",
    "---\n",
    "\n",
    "Answer the question based on the above context and your knowledge: {question} \"\"\""
   ]
  },
  {
   "cell_type": "code",
   "execution_count": 2,
   "metadata": {},
   "outputs": [],
   "source": [
    "\n",
    "\n",
    "def get_embedding_function():\n",
    "    embeddings = OllamaEmbeddings(model=\"nomic-embed-text\")\n",
    "    return embeddings\n",
    "\n",
    "def query_rag(query_text: str):\n",
    "    # Prepare the DB.\n",
    "    embedding_function = get_embedding_function()\n",
    "    db = Chroma(persist_directory=CHROMA_PATH, embedding_function=embedding_function)\n",
    "\n",
    "    # Search the DB.\n",
    "    results = db.similarity_search_with_score(query_text, k=5)\n",
    "\n",
    "    context_text = \"\\n\\n---\\n\\n\".join([doc.page_content for doc, _score in results])\n",
    "    prompt_template = ChatPromptTemplate.from_template(PROMPT_TEMPLATE)\n",
    "    prompt = prompt_template.format(context=context_text, question=query_text)\n",
    "    print(prompt)\n",
    "\n",
    "    model = Ollama(model=\"llama3.2:1b\")\n",
    "    response_text = model.invoke(prompt)\n",
    "\n",
    "    sources = [doc.metadata.get(\"id\", None) for doc, _score in results]\n",
    "    print(sources)\n",
    "    formatted_response = f\"Response: {response_text}\\nSources: {sources}\"\n",
    "    print(formatted_response)\n",
    "    return response_text\n"
   ]
  },
  {
   "cell_type": "code",
   "execution_count": 3,
   "metadata": {},
   "outputs": [
    {
     "name": "stderr",
     "output_type": "stream",
     "text": [
      "INFO:__main__:Début du traitement\n",
      "INFO:chromadb.telemetry.product.posthog:Anonymized telemetry enabled. See                     https://docs.trychroma.com/telemetry for more information.\n"
     ]
    },
    {
     "name": "stdout",
     "output_type": "stream",
     "text": [
      "HHHHHHH\n",
      "[(Document(metadata={'id': 'D:\\\\Generative IA\\\\rag_pdfs\\\\pdf_data\\\\PowerStudio_DDE_XML_en.pdf:2:1', 'page': 2, 'source': 'D:\\\\Generative IA\\\\rag_pdfs\\\\pdf_data\\\\PowerStudio_DDE_XML_en.pdf'}, page_content='Area Network including the Internet; the only requirement is that  it has an IP address to be questioned. In this way, any \\nelectrical or physical parameter may be requested which, using a peripheral, is collected by the PowerStudio System & \\nPowerStudio Scada. In this way, using the XML communication pr otocol, many parameters can be collected from one or more \\nPowerStudios installed on the same network including accessible external networks. \\n \\nThe sentences that must be made for th e XML protocol and for the DDE server, must be correctly formed. If not, the \\napplication will return a variable error. \\n  \\nThe chain “some.xml ”, refers to instant variable requests: \\n \\nIn the following example, an XML request is shown requesti ng the L1 phase-neutral voltage from the MAIN equipment. \\n \\nhttp://80.37.247.5/services/val ues/some.xml?var=MAIN.VI1? \\n \\nIf more than one variable is to be shown, a chain may be formed with more simultaneous variables. \\n \\n \\nhttp://80.37.247.5/services/values/so me.xml?var=MAIN.VI1?var=MAIN.VI2? \\n \\nFollowing the structure shown above n variables may be requested.'), 390.31376767725226), (Document(metadata={'id': 'D:\\\\Generative IA\\\\rag_pdfs\\\\pdf_data\\\\M98232301-03-18A.pdf:24:1', 'page': 24, 'source': 'D:\\\\Generative IA\\\\rag_pdfs\\\\pdf_data\\\\M98232301-03-18A.pdf'}, page_content='?id=device \\n \\n With it being possible in a single request to request the value of one or more variables and \\nvalues of one or more devices  \\n \\n<values>  \\n <variable> \\n  <id> … </id> \\n  <value>… </ value> \\n </ variable> \\n … \\n</values>  \\n \\n   \\n \\nWhere:  \\n \\n• values:  Main field which will identify the XML as a response to the request for variable  \\nvalues  \\n• variable:  List of variables:  \\n\\uf0a7 id: Identifier of the variable in device.variable format (Refer to the variable \\nappendix in the ‘Devices Manual’).  \\n\\uf0a7 value:  Value of variable at the time of the request.'), 399.48626708984375), (Document(metadata={'id': 'D:\\\\Generative IA\\\\rag_pdfs\\\\pdf_data\\\\PowerStudio_DDE_XML_en.pdf:3:0', 'page': 3, 'source': 'D:\\\\Generative IA\\\\rag_pdfs\\\\pdf_data\\\\PowerStudio_DDE_XML_en.pdf'}, page_content='Web: www.circutor.com  \\nVIAL SANT JORDI, S/N E-mail: central@circutor.es  \\n08232 VILADECAVALLS (BARCELONA) Tel:  (+34) 93 745 29 00 \\nESPAÑA / SPAIN \\n Fax: (+34) 93 745 29 14 \\nFAX  Página/Page 4 de/of 12 \\n  \\nItems that form the XML sentence are exactl y the same as those used in DDE sentence s; a list of available items is attached \\nat the end of the document. Note that th is list is being progressively expanded as  communication drivers from the different \\nperipherals are created. \\n \\n \\n \\n \\n \\n \\n \\n \\n \\n \\n \\n \\n \\n \\n \\n \\n \\n \\n \\n \\n \\n \\n \\n \\n \\n \\n \\nRequest example http://80.37.247.5/services/val ues/some.xml?var=MAIN.VI1?  \\n \\n \\n \\n \\n \\n \\n \\n \\n \\n \\n \\n \\n \\n \\n \\n \\n \\n \\n \\n \\n \\n \\n \\n \\n \\n \\n \\nRequest example http://80.37.247.5/services/values/som e.xml?var=MAIN.VI1?var=MAIN.VI2?'), 400.1666957233919), (Document(metadata={'id': 'D:\\\\Generative IA\\\\rag_pdfs\\\\pdf_data\\\\M98232301-03-18A.pdf:22:0', 'page': 22, 'source': 'D:\\\\Generative IA\\\\rag_pdfs\\\\pdf_data\\\\M98232301-03-18A.pdf'}, page_content='PowerStudio  \\n         \\nUser Manual                                                                                                                                    23                                                                                                                                \\n3.- APPENDICES  \\n \\n3.1.- XML Services \\n \\nPowerStudio provides a range of XML services to enable, i n some respects, communication \\nwith other applications.  \\n \\n In requests where it is necessary to express a date and time, both in service request and the \\ndata from the response, these will be represented in UTC (Universal Coordinated Time) with the format  \\nDDMMYYYYHHMMSS (two digits for the day, two for the month, four for the year and two for the hour, \\nminutes and seconds. It is also possible to represent only a date as DDMMYYYY assuming that the \\ntime is 00:00:00, or represent an hour as HHMMSS. Finally in c ases where milliseconds are required \\nthese are represented with three digits after the seconds, DDMMYYYYHHMMSSUUU or \\nHHMMSSUUU.  \\n \\nThe requests must follow the URI standard (RFC 2396), so the user of these requests must'), 401.0347595214844), (Document(metadata={'id': 'D:\\\\Generative IA\\\\rag_pdfs\\\\pdf_data\\\\M98232301-03-18A.pdf:33:3', 'page': 33, 'source': 'D:\\\\Generative IA\\\\rag_pdfs\\\\pdf_data\\\\M98232301-03-18A.pdf'}, page_content='value of each variable is recovered for the period of the report and the expression assessed).  \\n \\n For practical purposes, the val ues of the variables that are used in the reports can be \\nconsulted by requesting / services / user / records.xml  (which is documented in the XML user \\nrequests section).  \\n \\n Imagine then we have a report with the following appearance:'), 405.72125244140625), (Document(metadata={'id': 'D:\\\\Generative IA\\\\rag_pdfs\\\\pdf_data\\\\pdfcoffee.com_powerstudio-scada-ver25-tutorial-pdf-free.pdf:88:1', 'page': 88, 'source': 'D:\\\\Generative IA\\\\rag_pdfs\\\\pdf_data\\\\pdfcoffee.com_powerstudio-scada-ver25-tutorial-pdf-free.pdf'}, page_content='/services/user/varInfo.xml?var=device.variable?...?id=device?... \\nThis returns information on the variable at the time  the XML request is made. Each one of the variables, \\nfor which the value should be obtained, mu st be included in the request as follows: \\n \\n?var=device.variable \\n  \\n If the user wishes to obtain information on all the va riable for a device, this should be indicated as follows: \\n \\n?id=device \\n \\n It is also possible to request information from one or  more variables and one or more devices in the same \\nrequest. \\n \\n<varInfo> \\n <var>   <id> … </id>   <title> … </title>   <hasValue> T </hasValue>   <hasLogger> T </hasLogger>   <sampleMode> … </sampleMode>   <measureUnits> … </measureUnits>   <unitsFactor> … </unitsFactor>   <decimals> … </decimals>  </var>  … <varInfo>\\n \\n \\nWhere: \\n \\n- varInfo : This is the main field that will be identif ied to XML as the response to the request for \\nvariable information. \\n- var: Information on each one of the variables requested: \\n1. id: The name of the variable in device.variable format (see ¡Error! No se encuentra el \\norigen de la referencia. , ¡Error! No se encuentra el origen de la referencia. )'), 411.59210936180364), (Document(metadata={'id': 'D:\\\\Generative IA\\\\rag_pdfs\\\\pdf_data\\\\pdfcoffee.com_powerstudio-scada-ver25-tutorial-pdf-free.pdf:87:1', 'page': 87, 'source': 'D:\\\\Generative IA\\\\rag_pdfs\\\\pdf_data\\\\pdfcoffee.com_powerstudio-scada-ver25-tutorial-pdf-free.pdf'}, page_content='installation is non-viable because there is no possi bility of assembling all integrated systems.  \\nThe XML communication protocol resolves this probl em because it can question any application that is \\non the same Local Area Network including the Internet; t he only requirement is that it has an IP address to be \\nquestioned. In this way, any electrical or physical par ameter may be requested which, using a peripheral, is \\ncollected by the Powerstudio System & Powerstudio Scada. In this way, using the XML communication protocol, \\nmany parameters can be collected from one or more Po werstudio installed on the same network including \\naccessible external networks.   \\nThe sentences that must be made for the XML prot ocol and for the DDE server, must be correctly \\nformed. If not, the application will return a variable error.    In the requests in which it is nec essary to express a date and time, for the service request as well as the \\nresponse data, this will be represented in UTC (Uni versal Coordinated Time) as DDMMYYYYHHMMSS (two \\ndigits for the day, two for the month, four for the y ear and two for the hour, minutes and seconds). It is also'), 414.9620960241318), (Document(metadata={'id': 'D:\\\\Generative IA\\\\rag_pdfs\\\\pdf_data\\\\M98232301-03-18A.pdf:34:0', 'page': 34, 'source': 'D:\\\\Generative IA\\\\rag_pdfs\\\\pdf_data\\\\M98232301-03-18A.pdf'}, page_content='PowerStudio  \\n         \\nUser Manual                                                                                                                                    35                                                                                                                                \\n \\nReport generated  \\n \\nThe report is grouped by day, in particular, we are viewing November  22th. It shows that there \\nare a number of values in red, inside boxes, the first value on the top left corner corresponds to the \\nvariable “01_CVM144.AE” . \\n \\n To see that value through a HTTP / XML request to the server we can do the following:  \\n \\nhttp://192.168.3.3:8083/services/user/records.xml?begin=21112013230000?end=221120132300\\n00?period=ALL?var=01_CVM144.AE'), 416.90545654296875), (Document(metadata={'id': 'D:\\\\Generative IA\\\\rag_pdfs\\\\pdf_data\\\\M98232301-03-18A.pdf:24:0', 'page': 24, 'source': 'D:\\\\Generative IA\\\\rag_pdfs\\\\pdf_data\\\\M98232301-03-18A.pdf'}, page_content='PowerStudio  \\n         \\nUser Manual                                                                                                                                    25                                                                                                                                \\n♦ #A \\uf0e0 Current  \\n♦ #VA \\uf0e0 Apparent power  \\n♦ #W \\uf0e0 Active power  \\n♦ #VARL \\uf0e0 Inductive power  \\n♦ #VARC \\uf0e0 Capacitive power  \\n♦ #PF \\uf0e0 Power factor  \\n♦ #HZ \\uf0e0 Frequency  \\n♦ #PERCENT \\uf0e0 Percentage \\n♦ #WH \\uf0e0 Active energy  \\n♦ #VARLH \\uf0e0 Inductive energy  \\n♦ #VARCH \\uf0e0 Capacitive energy  \\n♦ #DATETIME \\uf0e0 Date and time \\n♦ If not preceded by # it is a user defined unit  \\n\\uf0a7 unitsFactor: Power of 10 that indicates the value the variable is multiplied by \\nin the log file.  \\n\\uf0a7 decimals:  Decimals with this variable.  \\n \\n \\n3.1.4  /services/user/values.xml?var=device.vari able?...?id=device?... \\n \\nReturns the instantaneous value of the variable when the XML request is carried out. Each of \\nthe variables that the value is required from should be included in the request as:  \\n \\n?var=device.variable \\n \\n If you want to ascertain the value of all the variables of a device it should be indicated as:  \\n \\n     ?id=device'), 420.5950012207031)]\n"
     ]
    }
   ],
   "source": [
    "import logging\n",
    "\n",
    "logging.basicConfig(level=logging.INFO)\n",
    "logger = logging.getLogger(__name__)\n",
    "\n",
    "logger.info(\"Début du traitement\")\n",
    "embedding_function = get_embedding_function()\n",
    "db = Chroma(persist_directory=CHROMA_PATH, embedding_function=embedding_function)\n",
    "#retriever = db.as_retriever()\n",
    "print(\"HHHHHHH\")\n",
    "try:\n",
    "    results = db.similarity_search_with_score(\"XML\", k=9)\n",
    "\n",
    "except Exception as e:\n",
    "    print(f\"Erreur rencontrée : {e}\")\n",
    "print(results)\n",
    "\n"
   ]
  },
  {
   "cell_type": "code",
   "execution_count": 4,
   "metadata": {},
   "outputs": [
    {
     "name": "stdout",
     "output_type": "stream",
     "text": [
      "Human: \n",
      "Answer the question based on the following context and your knowledge:\n",
      "\n",
      "PowerStudio  \n",
      " \n",
      " 52                                                                                                                                  User Manual  \n",
      " \n",
      "6.2.3  Editing Tools  \n",
      " \n",
      "Operation of positioning tools is the same as that explained in Chapter 5.2.6 but applied to \n",
      "SCADA screen controls.\n",
      "\n",
      "---\n",
      "\n",
      "PowerStudio  \n",
      " \n",
      " 44                                                                                                                                  User Manual  \n",
      " \n",
      "The \n",
      " Save option will allow the changes made on the screen to be saved and the \n",
      " Save as  \n",
      "option will enable a copy of the screen to be saved with a different name.  \n",
      "Finally, ‘Options’  will allow the dimensions of the scr een selected at the time to be changed.  \n",
      " \n",
      " \n",
      "The width and height of the screen is measured in pixels and the size of the grid will specify, in \n",
      "pixels, the distance between a point on the grid and another in horizontal or vertical. If a background \n",
      "image has been selected, the size of the SCADA screen can be adapted to the size of this background \n",
      "by checking box \n",
      "  \n",
      " \n",
      "6.2.- EDITING SCADA SCREENS  \n",
      " \n",
      " Use this function to add, change or delete screen controls. Use these controls to display the \n",
      "value of a variable, perform an action, paint an area of the screen, and so on.\n",
      "\n",
      "---\n",
      "\n",
      "PowerStudio      \n",
      "         \n",
      "Instruc tion Manual    85                                                                                                                       \n",
      "1.3.3. SCADA Screens \n",
      " \n",
      "The way in which the Scada screens of the HTML5 2.0 client work is almost identical to those of the \n",
      "Java or HT ML5 1.0 clients.  \n",
      " \n",
      "Select the “ Screens” option from the tools menu to access the Scada screens. The application will \n",
      "show a dialogue box with the available screens that can be selected:  \n",
      " \n",
      " \n",
      "SCADA Screens  \n",
      " \n",
      "Additional considerations:  \n",
      " \n",
      "• The \"request interval\" parameters and \"frames per second\" configuration will affect how data is \n",
      "displayed in these types of screens, as described in the general options section.  \n",
      "• Version HTML5 2.0 DOES NOT ALLOW ZOOM IN/OUT screens.  \n",
      " \n",
      "1.3.4. Report Screen  \n",
      " \n",
      "The way in which the Repor ts screens of the HTML5 2.0 client work is almost identical to those of the \n",
      "Java or HTML5 1.0 clients.  \n",
      " \n",
      "Select the “ Reports ” option from the tools menu to access the Reports screens. The application will \n",
      "show a dialogue box with the available reports that can be selected:\n",
      "\n",
      "---\n",
      "\n",
      "• Screen control  \n",
      "• Report control  \n",
      "• Device control  \n",
      "• Graph / table Control  \n",
      "• Active events control  \n",
      "• Event view control  \n",
      "• Execution Control  \n",
      "• Forcing variables control  \n",
      " \n",
      "For scope and detailed operation of these controls see the SCADA screens editing manual \n",
      "section.  \n",
      " \n",
      " All SCADA features are shown on the screen and are fully dependent on the design used when \n",
      "defining the controls.  \n",
      "                                                      \n",
      "1 Only in SCADA and Deluxe versions\n",
      "\n",
      "---\n",
      "\n",
      "PowerStudio  \n",
      " \n",
      "50                                                                                                            Instruction Manual  \n",
      " \n",
      " \n",
      "Select a variable, and click to change its properties \n",
      " \n",
      "T change, for example, the representation properties of the phase 1 voltage variable, place the \n",
      "cursor here and left click.  \n",
      " \n",
      " \n",
      "Screen configuration of a variable representation  \n",
      " \n",
      "This screen permits configuration of the representation type (Lines, bars, or points), color, line \n",
      "style (only if the line type representation is selected), the dot st yle (only if the dot type of representation \n",
      "is selected) and the thickness of the line (only if the line type of representation is selected).  \n",
      " \n",
      " If the line type of representation is selected, there are five different style types to choose from: \n",
      "solid, dashed, dotted, dash – dot and dash- dot –dot.\n",
      "\n",
      "---\n",
      "\n",
      "Answer the question based on the above context and your knowledge: c'est qoui le power studio scada de luxe et power studio en terme de cout performance (la difference thecnique)  \n",
      "['D:\\\\Generative IA\\\\rag_pdfs\\\\pdf_data\\\\M98232201-03-18A.pdf:51:0', 'D:\\\\Generative IA\\\\rag_pdfs\\\\pdf_data\\\\M98232201-03-18A.pdf:43:0', 'D:\\\\Generative IA\\\\rag_pdfs\\\\pdf_data\\\\M98232001-03-18A.pdf:84:0', 'D:\\\\Generative IA\\\\rag_pdfs\\\\pdf_data\\\\M98232001-03-18A.pdf:15:2', 'D:\\\\Generative IA\\\\rag_pdfs\\\\pdf_data\\\\M98232001-03-18A.pdf:49:0']\n",
      "Response: En fonction du contenu fourni, il semble que la réponse soit :\n",
      "\n",
      "PowerStudio SCADA de luxe.\n",
      "\n",
      "Puisque l'article mentionne les fonctionnalités \"Save\", \"Save as\" et \"Options\" pour sauvegarder les modifications apportées à la fenêtre SCADA, cela suggère que le PowerStudio SCADA de luxe est conçu pour gérer les couches de performance.\n",
      "Sources: ['D:\\\\Generative IA\\\\rag_pdfs\\\\pdf_data\\\\M98232201-03-18A.pdf:51:0', 'D:\\\\Generative IA\\\\rag_pdfs\\\\pdf_data\\\\M98232201-03-18A.pdf:43:0', 'D:\\\\Generative IA\\\\rag_pdfs\\\\pdf_data\\\\M98232001-03-18A.pdf:84:0', 'D:\\\\Generative IA\\\\rag_pdfs\\\\pdf_data\\\\M98232001-03-18A.pdf:15:2', 'D:\\\\Generative IA\\\\rag_pdfs\\\\pdf_data\\\\M98232001-03-18A.pdf:49:0']\n"
     ]
    },
    {
     "data": {
      "text/plain": [
       "'En fonction du contenu fourni, il semble que la réponse soit :\\n\\nPowerStudio SCADA de luxe.\\n\\nPuisque l\\'article mentionne les fonctionnalités \"Save\", \"Save as\" et \"Options\" pour sauvegarder les modifications apportées à la fenêtre SCADA, cela suggère que le PowerStudio SCADA de luxe est conçu pour gérer les couches de performance.'"
      ]
     },
     "execution_count": 4,
     "metadata": {},
     "output_type": "execute_result"
    }
   ],
   "source": [
    "query_rag(\"c'est qoui le power studio scada de luxe et power studio en terme de cout performance (la difference thecnique) \")"
   ]
  },
  {
   "cell_type": "code",
   "execution_count": 6,
   "metadata": {},
   "outputs": [],
   "source": [
    "#pip install langchain chromadb huggingface_hub\n"
   ]
  },
  {
   "cell_type": "code",
   "execution_count": null,
   "metadata": {},
   "outputs": [],
   "source": []
  }
 ],
 "metadata": {
  "kernelspec": {
   "display_name": "Python 3",
   "language": "python",
   "name": "python3"
  },
  "language_info": {
   "codemirror_mode": {
    "name": "ipython",
    "version": 3
   },
   "file_extension": ".py",
   "mimetype": "text/x-python",
   "name": "python",
   "nbconvert_exporter": "python",
   "pygments_lexer": "ipython3",
   "version": "3.11.2"
  }
 },
 "nbformat": 4,
 "nbformat_minor": 4
}
