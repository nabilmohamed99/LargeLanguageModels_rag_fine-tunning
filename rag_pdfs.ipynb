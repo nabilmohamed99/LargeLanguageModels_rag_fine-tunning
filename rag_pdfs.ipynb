{
 "cells": [
  {
   "cell_type": "code",
   "execution_count": 1,
   "metadata": {},
   "outputs": [],
   "source": [
    "from langchain_chroma import Chroma\n",
    "from langchain.prompts import ChatPromptTemplate\n",
    "from langchain.document_loaders import PyPDFDirectoryLoader\n",
    "from langchain.text_splitter import RecursiveCharacterTextSplitter\n",
    "from langchain.schema import Document\n",
    "from langchain_community.llms.ollama import Ollama\n",
    "from langchain_community.embeddings.ollama import OllamaEmbeddings\n",
    "import time\n",
    "import os\n",
    "\n",
    "CHROMA_PATH = \"chroma_db_test_21\"\n",
    "\n",
    "PROMPT_TEMPLATE = \"\"\"\n",
    "Answer the question based on the following context and your knowledge:\n",
    "\n",
    "{context}\n",
    "\n",
    "---\n",
    "\n",
    "Answer the question based on the above context and your knowledge: {question} \"\"\""
   ]
  },
  {
   "cell_type": "code",
   "execution_count": 2,
   "metadata": {},
   "outputs": [],
   "source": [
    "\n",
    "\n",
    "def get_embedding_function():\n",
    "    embeddings = OllamaEmbeddings(model=\"nomic-embed-text\")\n",
    "    return embeddings\n",
    "\n",
    "def query_rag(query_text: str):\n",
    "    # Prepare the DB.\n",
    "    embedding_function = get_embedding_function()\n",
    "    db = Chroma(persist_directory=CHROMA_PATH, embedding_function=embedding_function)\n",
    "\n",
    "    # Search the DB.\n",
    "    results = db.similarity_search_with_score(query_text, k=5)\n",
    "\n",
    "    context_text = \"\\n\\n---\\n\\n\".join([doc.page_content for doc, _score in results])\n",
    "    prompt_template = ChatPromptTemplate.from_template(PROMPT_TEMPLATE)\n",
    "    prompt = prompt_template.format(context=context_text, question=query_text)\n",
    "    print(prompt)\n",
    "\n",
    "    model = Ollama(model=\"llama3.2:1b\")\n",
    "    response_text = model.invoke(prompt)\n",
    "\n",
    "    sources = [doc.metadata.get(\"id\", None) for doc, _score in results]\n",
    "    print(sources)\n",
    "    formatted_response = f\"Response: {response_text}\\nSources: {sources}\"\n",
    "    print(formatted_response)\n",
    "    return response_text\n"
   ]
  },
  {
   "cell_type": "code",
   "execution_count": 3,
   "metadata": {},
   "outputs": [
    {
     "name": "stderr",
     "output_type": "stream",
     "text": [
      "INFO:__main__:Début du traitement\n",
      "INFO:chromadb.telemetry.product.posthog:Anonymized telemetry enabled. See                     https://docs.trychroma.com/telemetry for more information.\n"
     ]
    },
    {
     "name": "stdout",
     "output_type": "stream",
     "text": [
      "HHHHHHH\n",
      "[(Document(metadata={'id': 'D:\\\\Generative IA\\\\rag_pdfs\\\\pdf_data\\\\M98232201-03-18A.pdf:37:1', 'page': 37, 'source': 'D:\\\\Generative IA\\\\rag_pdfs\\\\pdf_data\\\\M98232201-03-18A.pdf'}, page_content='dot, hyphen and dot, and; hyphen, dot and dot.  \\n \\nWill allow the primitive surround colour to be chosen \\n \\nIf we select ‘Line’  as the type of primitive, we can change the line \\norientation between 0 and 350º.  \\n \\nIf we choose ‘Rectangle’  or ‘Ellipse  as the type of primitive, you will be able to \\nchoose between a filling colour that is the same or different from the colour of the surround, and a clear  \\nfilling, by marking this option.  \\n \\n5.2.1.10 Common options for  action tools  \\n \\n Any control entered in the report sheet can be re- sized and moved. To re- size a control just \\nplace the mouse pointer on one side of the rectangle which surrounds the control and keep it pressed \\ndown while moving it in the desired direction.  To move a control left click and hold while dragging the \\nmouse in the desired direction. Move multiple controls by grouping them inside a selection box. Left click and hold to group two or more controls, drawing a selection box including the desired contr ols \\nwithin.'), 550.1525268554688), (Document(metadata={'id': 'D:\\\\Generative IA\\\\rag_pdfs\\\\pdf_data\\\\pdfcoffee.com_powerstudio-scada-ver25-tutorial-pdf-free.pdf:90:2', 'page': 90, 'source': 'D:\\\\Generative IA\\\\rag_pdfs\\\\pdf_data\\\\pdfcoffee.com_powerstudio-scada-ver25-tutorial-pdf-free.pdf'}, page_content='the time will be 00:00:00) or DDMMYYYYHHMMSS w hen the date and the time must be specified. “Begin”  and \\n“end” must both be expressed in UTC (Universal Coordinated Time). \\n Finally, the data grouping period can be specified for the data using the “period”  parameter. This value can be \\nany of the following:   FILE Æ Data will not be grouped and registries will be retur ned just as they were saved in the history. \\n AUTO Æ Automatic; grouping is done automatically depending on the “begin”  and “end”  dates specified. \\n > 0 Æ Value in seconds for which the data will be grouped.'), 555.4666754951731), (Document(metadata={'id': 'D:\\\\Generative IA\\\\rag_pdfs\\\\pdf_data\\\\PowerStudio_DDE_XML_en.pdf:0:1', 'page': 0, 'source': 'D:\\\\Generative IA\\\\rag_pdfs\\\\pdf_data\\\\PowerStudio_DDE_XML_en.pdf'}, page_content=\"activate this server, open the General  menu and select the Preferences  option; once there, activate the Web server  option (√) \\nand enter port 80 which is the port for http requests. \\n \\nOnce the equipment is configured and operating, the applicat ion may be minimized and semi-h idden in the task bar (lower \\nleft), next to the clock.  \\n \\n \\n \\n \\n \\n \\n \\n \\nOnce the application is minimized and with the communicatio ns motor activated, the WEB server, XML and DDE will be \\navailable to be questioned by any external application. \\n \\n \\n \\n WEB COMMUNICATION\\n \\n As standard software, Power Studio has a built in web server whic h operates, in the basic version, with different static screen s \\nwhich must be manually refreshed. In the Scada version,  personalized, dynamic screens may be designed in which the \\nvariables will be automatically refreshed. \\n \\nIn order to move on to displaying the Web server's screens, it is vital and necessary to know the IP address of the computer \\nwhich is carrying out the server  function. Displaying via the web may be done internally ( Local Area Network – LAN ), or \\nexternally ( Internet ).\"), 558.5837765231897), (Document(metadata={'id': 'D:\\\\Generative IA\\\\rag_pdfs\\\\pdf_data\\\\M98232001-03-18A.pdf:64:2', 'page': 64, 'source': 'D:\\\\Generative IA\\\\rag_pdfs\\\\pdf_data\\\\M98232001-03-18A.pdf'}, page_content='ascending order or twice for descending order). This will order the table by group, and within each \\ngroup, by size.  \\n \\n  QNA equipment allows a special table to be made called \" Events \" that lets you view a l ist of \\nevents recorded by the equipment. This table can only be viewed from the corresponding button on the \\nequipment monitoring screen and does not correspond with any graph view.'), 558.6620483398438), (Document(metadata={'id': 'D:\\\\Generative IA\\\\rag_pdfs\\\\pdf_data\\\\pdfcoffee.com_powerstudio-scada-ver25-tutorial-pdf-free.pdf:93:1', 'page': 93, 'source': 'D:\\\\Generative IA\\\\rag_pdfs\\\\pdf_data\\\\pdfcoffee.com_powerstudio-scada-ver25-tutorial-pdf-free.pdf'}, page_content='request the value for said variable.  \\nThis encoding (name-variable) can be used in the fo rmulas, graphs and tables while reports, graphs and \\ntables are only able to visualize the variables that have been saved in the value history files. \\n \\nOn occasions when the user wishes to discrimi nate a variable, as long as the variable can be \\ndiscriminated (energy for example), the discriminat or information will be added to the basic coding. \\n \\ndiscriminator_name@name_type_time:name.variable \\n \\nWhere the name of the discriminator to be used will be indicated along with the time type for which the \\nvariable values will be discriminated.  \\nThis type of encoding with discriminators can only be used for reports, graphs and tables and only with \\nvariables that have been saved in value history files.  \\nFor a better understanding, the variables will be show n in separate tables depending on the variable type \\nmeasured by the devices. The columns situated to the le ft will provide information on the variable type, whether \\nthe variable is instantaneous, maximum or minimum,  corresponding phase, any other information depending on'), 559.5329593061144), (Document(metadata={'id': 'D:\\\\Generative IA\\\\rag_pdfs\\\\pdf_data\\\\M98232001-03-18A.pdf:44:1', 'page': 44, 'source': 'D:\\\\Generative IA\\\\rag_pdfs\\\\pdf_data\\\\M98232001-03-18A.pdf'}, page_content='Zoom mode graph with an ampli fied area \\n \\n Upon leaving the representation area the enlargement window will disappear, and upon \\nreturning, the cursor will have the following appearance:  \\n \\n \\nCursor indicating Magnifying mode in the enabled area  \\n \\n This indicated the cursor is in the magnif ying glass area, and that enlargement of the area is \\npossible (by left clicking). Logically, the extension window can be re- sized and positioned as desired \\nlike any other window.'), 561.045654296875), (Document(metadata={'id': 'D:\\\\Generative IA\\\\rag_pdfs\\\\pdf_data\\\\M98232201-03-18A.pdf:38:3', 'page': 38, 'source': 'D:\\\\Generative IA\\\\rag_pdfs\\\\pdf_data\\\\M98232201-03-18A.pdf'}, page_content='the position of a control at the same vertical height as another. To make the adjustment, hold down the \\n‘Control’ key while left clicking the controls to be aligned. The last control selected will be used as a \\nreference for aligning the others, i.e., all the selected controls will be aligned to the last control selected.  \\n \\n \\n Align horizontally : This tool performs the same function as that of vertical alignment, but the \\nalignment is done horizontally with the centre of the last control selected.  \\n \\n \\n  Bring forward: This tool brings one control in front of another. To do this, the required control \\nis selected and ‘Bring forward’  is clicked.'), 562.0042724609375), (Document(metadata={'id': 'D:\\\\Generative IA\\\\rag_pdfs\\\\pdf_data\\\\M98232001-03-18A.pdf:59:1', 'page': 59, 'source': 'D:\\\\Generative IA\\\\rag_pdfs\\\\pdf_data\\\\M98232001-03-18A.pdf'}, page_content='these can be reconfigured later.  \\n \\nAnother special feature graph is the waveform graph, generated by QNA equipment, which can \\nprovide a screenshot  of the voltage waveform as well as the current in each one of the phases.  \\n \\n The characteristics of this graph are very similar to the harmonics graph. The only differences \\nare that the X -axis units are milliseconds and that the representation is in lines by default. Only \\nwaveform variables may be added to this type of graph.'), 563.2669067382812), (Document(metadata={'id': 'D:\\\\Generative IA\\\\rag_pdfs\\\\pdf_data\\\\M98232001-03-18A.pdf:89:1', 'page': 89, 'source': 'D:\\\\Generative IA\\\\rag_pdfs\\\\pdf_data\\\\M98232001-03-18A.pdf'}, page_content='• The way in which the zoom in/out func tion works is identical to that of common desktop \\nbrowsers and mobile phones. One works with mouse actions and the other one with \"touch\" \\nactions.  \\n• Even though the ZOOM IN/OUT function is supported, the HTML5 2.0 client does not support \\nthe \"PAN\" mode, i.e. , moving the expanded area.  PREVIOUS REGISTER  PERIODE  DOWNLOAD CAPTURE  \\n           GROUP      SELECTING INTERVAL             NEXT'), 564.155029296875), (Document(metadata={'id': 'D:\\\\Generative IA\\\\rag_pdfs\\\\pdf_data\\\\M98232201-03-18A.pdf:79:0', 'page': 79, 'source': 'D:\\\\Generative IA\\\\rag_pdfs\\\\pdf_data\\\\M98232201-03-18A.pdf'}, page_content='PowerStudio  \\n \\n 80                                                                                                                                  User Manual  \\n \\n7.7.1.3  Calendar  \\n \\n Once the day types making up the filter are defined they will be distributed in a complete \\ncalendar. To this end, the day types cr eated beforehand in the filter process will be distributed on these \\ncalendars.  \\n \\n \\n  Day types may be assigned to the days of the year in course as well as to previous and \\nforthcoming years. Day selection is done as follows:  \\n \\n• Pressing on the desired day.  \\n• Pressing on the day of the week selects all the days of the month for that day of the \\nweek.  \\n• Pressing on the month name selects all the days of the month.  \\n• Pressing on the year selects all the days of the year.  \\n• Left click on a starting day and drag to select all the days that the cursor has passed through.  \\n• Using the fast selection option.  \\n \\n \\nListing with the different day types configured under the rate.'), 564.710693359375)]\n"
     ]
    }
   ],
   "source": [
    "import logging\n",
    "\n",
    "logging.basicConfig(level=logging.INFO)\n",
    "logger = logging.getLogger(__name__)\n",
    "\n",
    "logger.info(\"Début du traitement\")\n",
    "embedding_function = get_embedding_function()\n",
    "db = Chroma(persist_directory=CHROMA_PATH, embedding_function=embedding_function)\n",
    "#retriever = db.as_retriever()\n",
    "print(\"HHHHHHH\")\n",
    "try:\n",
    "    results = db.similarity_search_with_score(\"hey\", k=10)\n",
    "\n",
    "except Exception as e:\n",
    "    print(f\"Erreur rencontrée : {e}\")\n",
    "print(results)\n",
    "\n"
   ]
  },
  {
   "cell_type": "code",
   "execution_count": 4,
   "metadata": {},
   "outputs": [
    {
     "name": "stdout",
     "output_type": "stream",
     "text": [
      "Human: \n",
      "Answer the question based on the following context and your knowledge:\n",
      "\n",
      "PowerStudio  \n",
      " \n",
      " 52                                                                                                                                  User Manual  \n",
      " \n",
      "6.2.3  Editing Tools  \n",
      " \n",
      "Operation of positioning tools is the same as that explained in Chapter 5.2.6 but applied to \n",
      "SCADA screen controls.\n",
      "\n",
      "---\n",
      "\n",
      "PowerStudio  \n",
      " \n",
      " 44                                                                                                                                  User Manual  \n",
      " \n",
      "The \n",
      " Save option will allow the changes made on the screen to be saved and the \n",
      " Save as  \n",
      "option will enable a copy of the screen to be saved with a different name.  \n",
      "Finally, ‘Options’  will allow the dimensions of the scr een selected at the time to be changed.  \n",
      " \n",
      " \n",
      "The width and height of the screen is measured in pixels and the size of the grid will specify, in \n",
      "pixels, the distance between a point on the grid and another in horizontal or vertical. If a background \n",
      "image has been selected, the size of the SCADA screen can be adapted to the size of this background \n",
      "by checking box \n",
      "  \n",
      " \n",
      "6.2.- EDITING SCADA SCREENS  \n",
      " \n",
      " Use this function to add, change or delete screen controls. Use these controls to display the \n",
      "value of a variable, perform an action, paint an area of the screen, and so on.\n",
      "\n",
      "---\n",
      "\n",
      "PowerStudio      \n",
      "         \n",
      "Instruc tion Manual    85                                                                                                                       \n",
      "1.3.3. SCADA Screens \n",
      " \n",
      "The way in which the Scada screens of the HTML5 2.0 client work is almost identical to those of the \n",
      "Java or HT ML5 1.0 clients.  \n",
      " \n",
      "Select the “ Screens” option from the tools menu to access the Scada screens. The application will \n",
      "show a dialogue box with the available screens that can be selected:  \n",
      " \n",
      " \n",
      "SCADA Screens  \n",
      " \n",
      "Additional considerations:  \n",
      " \n",
      "• The \"request interval\" parameters and \"frames per second\" configuration will affect how data is \n",
      "displayed in these types of screens, as described in the general options section.  \n",
      "• Version HTML5 2.0 DOES NOT ALLOW ZOOM IN/OUT screens.  \n",
      " \n",
      "1.3.4. Report Screen  \n",
      " \n",
      "The way in which the Repor ts screens of the HTML5 2.0 client work is almost identical to those of the \n",
      "Java or HTML5 1.0 clients.  \n",
      " \n",
      "Select the “ Reports ” option from the tools menu to access the Reports screens. The application will \n",
      "show a dialogue box with the available reports that can be selected:\n",
      "\n",
      "---\n",
      "\n",
      "• Screen control  \n",
      "• Report control  \n",
      "• Device control  \n",
      "• Graph / table Control  \n",
      "• Active events control  \n",
      "• Event view control  \n",
      "• Execution Control  \n",
      "• Forcing variables control  \n",
      " \n",
      "For scope and detailed operation of these controls see the SCADA screens editing manual \n",
      "section.  \n",
      " \n",
      " All SCADA features are shown on the screen and are fully dependent on the design used when \n",
      "defining the controls.  \n",
      "                                                      \n",
      "1 Only in SCADA and Deluxe versions\n",
      "\n",
      "---\n",
      "\n",
      "PowerStudio  \n",
      " \n",
      "50                                                                                                            Instruction Manual  \n",
      " \n",
      " \n",
      "Select a variable, and click to change its properties \n",
      " \n",
      "T change, for example, the representation properties of the phase 1 voltage variable, place the \n",
      "cursor here and left click.  \n",
      " \n",
      " \n",
      "Screen configuration of a variable representation  \n",
      " \n",
      "This screen permits configuration of the representation type (Lines, bars, or points), color, line \n",
      "style (only if the line type representation is selected), the dot st yle (only if the dot type of representation \n",
      "is selected) and the thickness of the line (only if the line type of representation is selected).  \n",
      " \n",
      " If the line type of representation is selected, there are five different style types to choose from: \n",
      "solid, dashed, dotted, dash – dot and dash- dot –dot.\n",
      "\n",
      "---\n",
      "\n",
      "Answer the question based on the above context and your knowledge: c'est qoui le power studio scada de luxe et power studio en terme de cout performance (la difference thecnique)  \n",
      "['D:\\\\Generative IA\\\\rag_pdfs\\\\pdf_data\\\\M98232201-03-18A.pdf:51:0', 'D:\\\\Generative IA\\\\rag_pdfs\\\\pdf_data\\\\M98232201-03-18A.pdf:43:0', 'D:\\\\Generative IA\\\\rag_pdfs\\\\pdf_data\\\\M98232001-03-18A.pdf:84:0', 'D:\\\\Generative IA\\\\rag_pdfs\\\\pdf_data\\\\M98232001-03-18A.pdf:15:2', 'D:\\\\Generative IA\\\\rag_pdfs\\\\pdf_data\\\\M98232001-03-18A.pdf:49:0']\n",
      "Response: En fonction du contenu fourni, il semble que la réponse soit :\n",
      "\n",
      "PowerStudio SCADA de luxe.\n",
      "\n",
      "Puisque l'article mentionne les fonctionnalités \"Save\", \"Save as\" et \"Options\" pour sauvegarder les modifications apportées à la fenêtre SCADA, cela suggère que le PowerStudio SCADA de luxe est conçu pour gérer les couches de performance.\n",
      "Sources: ['D:\\\\Generative IA\\\\rag_pdfs\\\\pdf_data\\\\M98232201-03-18A.pdf:51:0', 'D:\\\\Generative IA\\\\rag_pdfs\\\\pdf_data\\\\M98232201-03-18A.pdf:43:0', 'D:\\\\Generative IA\\\\rag_pdfs\\\\pdf_data\\\\M98232001-03-18A.pdf:84:0', 'D:\\\\Generative IA\\\\rag_pdfs\\\\pdf_data\\\\M98232001-03-18A.pdf:15:2', 'D:\\\\Generative IA\\\\rag_pdfs\\\\pdf_data\\\\M98232001-03-18A.pdf:49:0']\n"
     ]
    },
    {
     "data": {
      "text/plain": [
       "'En fonction du contenu fourni, il semble que la réponse soit :\\n\\nPowerStudio SCADA de luxe.\\n\\nPuisque l\\'article mentionne les fonctionnalités \"Save\", \"Save as\" et \"Options\" pour sauvegarder les modifications apportées à la fenêtre SCADA, cela suggère que le PowerStudio SCADA de luxe est conçu pour gérer les couches de performance.'"
      ]
     },
     "execution_count": 4,
     "metadata": {},
     "output_type": "execute_result"
    }
   ],
   "source": [
    "query_rag(\"c'est qoui le power studio scada de luxe et power studio en terme de cout performance (la difference thecnique) \")"
   ]
  },
  {
   "cell_type": "code",
   "execution_count": 6,
   "metadata": {},
   "outputs": [],
   "source": [
    "#pip install langchain chromadb huggingface_hub\n"
   ]
  },
  {
   "cell_type": "code",
   "execution_count": null,
   "metadata": {},
   "outputs": [],
   "source": []
  }
 ],
 "metadata": {
  "kernelspec": {
   "display_name": "Python 3 (ipykernel)",
   "language": "python",
   "name": "python3"
  },
  "language_info": {
   "codemirror_mode": {
    "name": "ipython",
    "version": 3
   },
   "file_extension": ".py",
   "mimetype": "text/x-python",
   "name": "python",
   "nbconvert_exporter": "python",
   "pygments_lexer": "ipython3",
   "version": "3.9.13"
  }
 },
 "nbformat": 4,
 "nbformat_minor": 4
}
