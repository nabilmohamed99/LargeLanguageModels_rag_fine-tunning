{
 "cells": [
  {
   "cell_type": "code",
   "execution_count": 1,
   "id": "6ce958a7-2bad-49ba-a1aa-ab89cf38c964",
   "metadata": {},
   "outputs": [],
   "source": [
    "#!pip install PyPDF2"
   ]
  },
  {
   "cell_type": "code",
   "execution_count": 12,
   "id": "cd44d9c4-958b-4dd9-8fcf-d021da986803",
   "metadata": {},
   "outputs": [],
   "source": [
    "import PyPDF2\n",
    "from pathlib import Path\n",
    "\n",
    "def extract_text_from_pdf(pdf_file):\n",
    "    pdf_path = Path(pdf_file)\n",
    "    \n",
    "    with open(pdf_path, \"rb\") as file:\n",
    "        reader = PyPDF2.PdfReader(file)  # Utilise PdfReader\n",
    "        text = \"\"\n",
    "        for page in reader.pages[5:]:\n",
    "            text += page.extract_text()\n",
    "        return text\n",
    "text = extract_text_from_pdf(r\"D:\\Generative IA\\rag_pdfs\\pdf_data\\M98232301-03.pdf\")\n",
    "#print(text)\n"
   ]
  },
  {
   "cell_type": "code",
   "execution_count": 13,
   "id": "fabbf99e-541e-4a2b-a3d7-3e2ff58e3a35",
   "metadata": {},
   "outputs": [],
   "source": [
    "import re\n",
    "def extract_titles_and_content(text):\n",
    "# title_pattern = r\"((?:\\d+\\.)*\\d+(?:\\.\\d+)*[-.]?\\s*[^\\n]+)(.*?)(?=\\n(?:\\d+\\.)*\\d+(?:\\.\\d+)*[-.]?\\s*[^\\n]+|\\Z)\"\n",
    "    title_pattern = r\"((?:\\d{1,2}\\.)+\\d{1,2}[-]?\\s*[^\\n]+|(?<!\\d)(?=.*[A-Za-z])[^\\n]+?)(.*?)(?=\\n(?:\\d{1,2}\\.)+\\d{1,2}[-]?\\s*[^\\n]+|\\Z)\"\n",
    "\n",
    "\n",
    "\n",
    "    # Utilisation de findall pour capturer toutes les occurrences des titres\n",
    "    titles = re.findall(title_pattern, text, re.DOTALL)\n",
    "    cleaned_titles = [value for tup in titles for value in tup if value.strip() and len(value)>5]\n",
    "    #print(cleaned_titles)\n",
    "    results = []\n",
    "    for match in titles:\n",
    "        title = match[0].strip()  # Titre avec le numéro\n",
    "        content = match[1].strip()  # Contenu jusqu'au prochain titre\n",
    "        if len(title)<70 and len(content.strip().replace('\"', '')) > 5 and \"Manual\" not in title and \"Only in SCADA and Deluxe versions  PowerStudio\" not in title  and \"Barcelona\" not in title:\n",
    "    # Votre code ici\n",
    "            \n",
    "          #  print(\"TITLE: \",title)\n",
    "          #  print(\"Content\",content)\n",
    "          #  print(\"########################################################\\n\")\n",
    "            results.append((title, content))\n",
    "    \n",
    "    return results\n"
   ]
  },
  {
   "cell_type": "code",
   "execution_count": 14,
   "id": "f6e8aed3-8a04-48c4-b1ca-3a006d932d53",
   "metadata": {},
   "outputs": [
    {
     "name": "stdout",
     "output_type": "stream",
     "text": [
      "\n",
      "#############\n",
      "1.1.- POWERSTUDIO TOPOLOGIES\n",
      "#############\n",
      "1.1.1  All in one\n",
      "#############\n",
      "1.1.2  Engine /editor and clients\n",
      "#############\n",
      "1.1.3  Engine/editor and clients\n",
      "#############\n",
      "1.1.4  Engine, editors and clients\n",
      "#############\n",
      "1.2.- POWERSTUDIO I NSTALLATION\n",
      "#############\n",
      "1.3.- TYPICAL  APPLICATION\n",
      "#############\n",
      "1.3.1  Configure the communications engine\n",
      "#############\n",
      "1.3.2  Create the application in the editor\n",
      "#############\n",
      "1.3.3  Export the application to the engi ne\n",
      "#############\n",
      "1.3.4  View the application in the client\n",
      "#############\n",
      "3.1.- XML Services\n",
      "#############\n",
      "3.1.1  / services / user / devices.xml\n",
      "#############\n",
      "3.1.2  /services/user/deviceInfo.xml?id=device?...\n",
      "#############\n",
      "3.1.5  / services / user / forceVariables.xml? id = device\n",
      "#############\n",
      "3.1.6  /services/user/records.xml?begin=…?end=…?var=…?period=900\n",
      "#############\n",
      "3.1.7  /services/user/events.xml?begin=…?end=…?id=…\n",
      "#############\n",
      "3.1.8  /services/user/recordsEve.xml?begin=…?end=…?id=…\n",
      "#############\n",
      "3.2.1  Some equipment is not communicating. What could be happening?\n",
      "#############\n",
      "3.2.2   A TCP2RS converter does not communicate.  What could be\n",
      "#############\n",
      "3.2.3  I cannot see the applet. What could be happening?\n",
      "#############\n",
      "3.2.4  The Applet does not display the texts properly. What could be\n",
      "#############\n",
      "3.2.6  An event is not behaving as expected. What could be happening?\n",
      "#############\n",
      "3.2.7  I can’t paint the graph correctly. What could be happening?\n",
      "#############\n",
      "3.2.9  The software is not sending e -mails. What might be happening?\n",
      "#############\n",
      "3.2.10 Can I launch external applications from applet?\n",
      "#############\n",
      "3.2.14 What can be \"counted\"?\n",
      "#############\n",
      "3.2.17 How can I simula te a control switch?\n",
      "#############\n",
      "3.2.18 How do I add animation to the SCADA?\n",
      "#############\n",
      "3.2.19 How can I simulate a level control?\n",
      "#############\n",
      "3.2.21 How can I know the status of a device?\n",
      "#############\n",
      "3.2.22 How can I display documents from a SCADA screen?\n",
      "#############\n",
      "3.2.23 How can I obtain an event according to the status of a device?\n",
      "#############\n",
      "3.2.24 How can I produce sounds in response to an event?\n",
      "#############\n",
      "3.2.25 How do I show documents in response to an event?\n",
      "#############\n"
     ]
    }
   ],
   "source": [
    "title_content_paires=extract_titles_and_content(text)\n",
    "for a,b in title_content_paires:\n",
    "    print(a)\n",
    "    print(\"#############\")\n",
    "    \n",
    "#print(title_content_paires[3])"
   ]
  },
  {
   "cell_type": "code",
   "execution_count": 4,
   "id": "39afd728-675e-4d43-a6c0-75c3c8c5dfb9",
   "metadata": {},
   "outputs": [],
   "source": [
    "#!pip install spacy transformers nltk\n",
    "#!python -m spacy download en_core_web_sm\n"
   ]
  },
  {
   "cell_type": "code",
   "execution_count": 5,
   "id": "205f0d29-eebf-4a6b-8541-a63111644c2d",
   "metadata": {},
   "outputs": [],
   "source": [
    "def remove_stopwords(text):\n",
    "    doc = nlp(text)\n",
    "    # Exclure les mots qui sont des stop words\n",
    "    filtered_tokens = [token.text for token in doc if not token.is_stop]\n",
    "    return ' '.join(filtered_tokens)\n"
   ]
  },
  {
   "cell_type": "code",
   "execution_count": 6,
   "id": "eafbd180-5d0c-44bf-8036-2610d5775816",
   "metadata": {},
   "outputs": [
    {
     "name": "stdout",
     "output_type": "stream",
     "text": [
      "Title: \n"
     ]
    },
    {
     "name": "stderr",
     "output_type": "stream",
     "text": [
      "Setting `pad_token_id` to `eos_token_id`:128001 for open-end generation.\n",
      "C:\\Users\\simo_\\anaconda3\\lib\\site-packages\\transformers\\models\\llama\\modeling_llama.py:660: UserWarning: 1Torch was not compiled with flash attention. (Triggered internally at C:\\actions-runner\\_work\\pytorch\\pytorch\\builder\\windows\\pytorch\\aten\\src\\ATen\\native\\transformers\\cuda\\sdp_utils.cpp:555.)\n",
      "  attn_output = torch.nn.functional.scaled_dot_product_attention(\n",
      "Setting `pad_token_id` to `eos_token_id`:128001 for open-end generation.\n"
     ]
    },
    {
     "name": "stdout",
     "output_type": "stream",
     "text": [
      "question:  ''\n",
      "\n",
      "Title\n",
      "content: PowerStudio                                                                                                            PowerSt udio       6                                                                                                                                     User Manual    LOG REVISIONS       Date   Revisio n Description    11/13   M98232301 -03 - 13A Original version    04/16 M98232301- 03 - 16A Modification section :    2 .   05/16 M98232301- 03 - 16B Modification section :    2 .   09/16 M98232301- 03 - 16C Modification section :    2 .   08/18   M98232301 -03 - 18A versi changed 4.0.10                                                                                                     PowerStudio              User Manual                                                                                                                                     7                                                                                                                                    1.- GENERAL DESCRIPTION      PowerStudio energy management software package main features   configuration , c ommunication monitoring devices creation SCADA screens   reports . set tools events , filters , calculated variables , images styles   manager facilitate user interaction .      version 4.0 , Powe rStudio divided main modules , applications editor ,   communications engine client .      editor module charge applications management allows new   application created , modify existing appli cation , import application engine   export application engine .      engine module charge running application receives editor ,   communicating different devices , storing downloads attending requests   editor client .      client module allows connection engine access SCADA   screens , reports view instantaneous values recorded devices . Graphs list ings   prepared recorded values , events viewed , status devices   displayed , etc .\n",
      "\n",
      "########################################\n",
      "\n",
      "Title: 1.1.- POWERSTUDIO TOPOLOGIES\n"
     ]
    },
    {
     "name": "stderr",
     "output_type": "stream",
     "text": [
      "Setting `pad_token_id` to `eos_token_id`:128001 for open-end generation.\n"
     ]
    },
    {
     "name": "stdout",
     "output_type": "stream",
     "text": [
      "question:  'What is a PowerStudio topology?'\n",
      "\n",
      "Title\n",
      "content: PowerStudio software design -differentiated modules : editor , engine   cli ent , possible use different topologies , explained detail :\n",
      "\n",
      "########################################\n",
      "\n",
      "Title: 1.1.1  All in one\n"
     ]
    },
    {
     "name": "stderr",
     "output_type": "stream",
     "text": [
      "Setting `pad_token_id` to `eos_token_id`:128001 for open-end generation.\n"
     ]
    },
    {
     "name": "stdout",
     "output_type": "stream",
     "text": [
      "question:  'What is the purpose of the PowerStudio SCADA software?'\n",
      "\n",
      "Title\n",
      "content: basic configuration modules , editor , engine client ,   machine . editor create new application send engine   client connect engine display application . editor download   existing application engine , modify send engine .\n",
      "\n",
      "########################################\n",
      "\n",
      "Title: 1.1.2  Engine /editor and clients\n"
     ]
    },
    {
     "name": "stderr",
     "output_type": "stream",
     "text": [
      "Setting `pad_token_id` to `eos_token_id`:128001 for open-end generation.\n"
     ]
    },
    {
     "name": "stdout",
     "output_type": "stream",
     "text": [
      "question:  'How to use the editor and clients of PowerStudio SCADA?'\n",
      "\n",
      "Title\n",
      "content: configuration editor engine machine   clients machines connect engine access viewing data , SCADA screens ,   reports , etc . configuration useful want view engine data remotely client .        PowerStudio                                                                                                            PowerSt udio       8                                                                                                                                     User Manual\n",
      "\n",
      "########################################\n",
      "\n",
      "Title: 1.1.3  Engine/editor and clients\n"
     ]
    },
    {
     "name": "stderr",
     "output_type": "stream",
     "text": [
      "Setting `pad_token_id` to `eos_token_id`:128001 for open-end generation.\n"
     ]
    },
    {
     "name": "stdout",
     "output_type": "stream",
     "text": [
      "question:  'How do I set up and use the PowerStudio SCADA engine and clients?'\n",
      "\n",
      "Title\n",
      "content: configuration editor , engine clients ,   different machines . configuration allows engine configur ation edited remotely .   configuration want data downloaded devices engine   centralized machine independent editor machine .\n",
      "\n",
      "########################################\n",
      "\n",
      "Title: 1.1.4  Engine, editors and clients\n",
      "question:  'What are the different types of PowerStudio SCADA clients?'\n",
      "\n",
      "\n",
      "content: configuration s ame previous difference possible   edit application machines time . example , SCADA screens   configured editor reports . important editor import   engine configuration new changes . modifying application exporting   engine , type incongruity occur engine application , able   correct .               PowerStudio              User Manual                                                                                                                                     9\n",
      "\n",
      "########################################\n",
      "\n",
      "Title: 1.2.- POWERSTUDIO I NSTALLATION\n"
     ]
    },
    {
     "name": "stderr",
     "output_type": "stream",
     "text": [
      "Setting `pad_token_id` to `eos_token_id`:128001 for open-end generation.\n",
      "Setting `pad_token_id` to `eos_token_id`:128001 for open-end generation.\n"
     ]
    },
    {
     "name": "stdout",
     "output_type": "stream",
     "text": [
      "question:  'How do I install PowerStudio SCADA?'\n",
      "\n",
      "Title\n",
      "content: ascertained machine meets minimum requirements   software insert PowerStudio CD select install software option appear main   screen . main screen appear automatically CD inserted unit ,   manually run ( Windows explorer “ Run ” option START menu )   “ AUTORUN.EXE ” program CD root directory .        Installation language      selecting installation language pressing “ ” button access   license screen accept terms able continue .    PowerStudio                                                                                                            PowerSt udio       10                                                                                                                                     User Manual      License terms     press “ ” button required register product enter   user , company software serial number .          Register screen     PowerStudio              User Manual                                                                                                                                     11                                                                                                                                  press “ ” button access installation type selection screen .   choose complete installation , install Editor , Engine Client , cust om   installation , select modules installed .        Installation type      completing installation preparation process dialogue appear   asked application installation directory .        Installation directo ry   PowerStudio                                                                                                            PowerSt udio       12                                                                                                                                     User Manual    screen select module modules installed . select   components required selected topology . ( section 1.1 PowerStudio topologies    explanation ) .        Components selection        installation detects installed previous version PowerStudio ,   allow backup copy configuration update current version .          wish backup copy , ‘ Backup ’ directory created directory   installing PowerStudio old configuration backed . wish   backup copy , old conf iguration lost .          having updated configuration , old version installed installation   completed , dialogue appear reporting installation correctly completed .     PowerStudio              User Manual                                                                                                                                     13                                                                                                                                    Installation complete        client installed default application created , called ‘ Local ’ ,   active installation time client run . PowerStudio installation   previous version , entire configuration bec ome ‘ Local ’ application .                                                              PowerStudio                                                                                                            PowerSt udio       14                                                                                                                                     User Manual\n",
      "\n",
      "########################################\n",
      "\n",
      "Title: 1.3.- TYPICAL  APPLICATION\n",
      "question:  'What is the typical application of PowerStudio SCADA?'\n",
      "\n",
      "Title\n",
      "content: steps required create typical application , configure communications   engine , create application editor , export appl ication view application   client .\n",
      "\n",
      "########################################\n",
      "\n",
      "Title: 1.3.1  Configure the communications engine\n"
     ]
    },
    {
     "name": "stderr",
     "output_type": "stream",
     "text": [
      "Setting `pad_token_id` to `eos_token_id`:128001 for open-end generation.\n"
     ]
    },
    {
     "name": "stdout",
     "output_type": "stream",
     "text": [
      "question:  'How do I configure the communications engine in PowerStudio SCADA?'\n",
      "\n",
      "Title\n",
      "content: application operate properly , step configuration   communications engine . communications engine installed runtim e ‘ PSEngineManager ’   application copied directory , application configure engine   operating parameters , web server working directories .        Engine view , Engine Manager       view provides engine view . modify parameters , use Modify   button following dialog appear :         Engine configuration , Engine Manager   PowerStudio              User Manual                                                                                                                                     15                                                                                                                                  - Port : indicate port engine use initialize   web server . editor   client request s attended port .      - User : User desire edition authentication .      - Password : indicate user password edition authentication .      - Repeat password : Re- enter password validate .      - Timezone : Allows enter different ti zone system .      - Data : Working directory storing data downloaded machines .      - Cfg : Working directory store application configuration .      - Images : Working directory store application images .      upper right -hand screen , image indicating engine status .   possible statuses following :      -     engine operating found .    -     engine active ;   events problems communications .    -     engine active ; events problems communications .    -     engine active ;   problems communications active events .    -    engine active ;   problems communications active   events .      necessary start communications engine ‘ Engine Manager ’ configure   web server parameters . default communications engine attempts start web server   port 80 busy , seeks free port , w e seen , parameters subsequently   changed ‘ Engine Manager ’ .\n",
      "\n",
      "########################################\n",
      "\n",
      "Title: 1.3.2  Create the application in the editor\n"
     ]
    },
    {
     "name": "stderr",
     "output_type": "stream",
     "text": [
      "Setting `pad_token_id` to `eos_token_id`:128001 for open-end generation.\n",
      "You seem to be using the pipelines sequentially on GPU. In order to maximize efficiency please use a dataset\n"
     ]
    },
    {
     "name": "stdout",
     "output_type": "stream",
     "text": [
      "question:  'How do I create the application in the editor?'\n",
      "\n",
      "Title\n",
      "content: create new application , following main steps performed :      - Add configure devices : Add second level devi ces configure   communications parameters . ( Refer ‘ Devices ’ section ‘ Editor manual ’ ) .      - Create device groups : Organize devices groups according structure defined   user . ( Refer ‘ Device groups section ‘ E ditor manual ’ ) .      - Create filters : Create energy filters apply data gathered devices .   ( Refer ‘ filters ' section ‘ Editor manual ’ ) .      - Create calculated variables : Define new variables values different devices . ( Refer   ‘ Calculated variables ’ section ‘ Editor manual ’ ) .      - Create styles : Define styles configurations apply fonts controls   SCADA screens reports . ( Refer ‘ Styles ’ section ‘ Editor manual ’ ) .      - Manage m ages : Add images required subsequent use SCADA screens reports .   ( Refer ‘ Images manager ’ section ‘ Editor manual ’ ) .      - Create SCADA screens   ( SCADA Deluxe versions ) : Create SCADA   screens , allow visually displaying application . ( Refer ‘ SCADA ’ section   ‘ Editor manual ’ ) .      PowerStudio                                                                                                            PowerSt udio       16                                                                                                                                     User Manual    - Create reports   ( SCADA Deluxe versions ) : Create templates   displaying reports . ( Refer ‘ Reports ’ section ‘ Editor manual ’ ) .      - Create events   ( SCADA Deluxe versions ) : Define application events , disabled   schedules , filters   configuration . ( Refer ‘ Events ’ section ‘ Editor manual ’ ) .      - Define user rights authentication : Configure profiles relating application   resources assign users . ( Refer ‘ User authentication ’ section ‘ Editor   manual ’ ) .      - Create device zones : Define application zones , grouping devices want   display screen .   ( Refer ‘ Zones ’ section ‘ Editor Manual ’ ) .     wish modify application communications engine , import ,   modify export engine new changes included .\n",
      "\n",
      "########################################\n",
      "\n",
      "Title: 1.3.3  Export the application to the engi ne\n"
     ]
    },
    {
     "name": "stderr",
     "output_type": "stream",
     "text": [
      "Setting `pad_token_id` to `eos_token_id`:128001 for open-end generation.\n"
     ]
    },
    {
     "name": "stdout",
     "output_type": "stream",
     "text": [
      "question:  'How can I export the application to the engineer?'\n",
      "\n",
      "Title\n",
      "content: completed application existing modified , export   communications engine takes changes account .   editing application , communications engine continues run application configured   export client changes implemented engine .   ( Refer ‘ Editor Manual ’ detailed explanation ) .    editor shortcut toolbar selec t     option , access   application export dialogue .            Export application        export dialogue select IP address port engine   going send configuration , mark      option enter user password user authentication enabled .      select     option , sending application verified   correct , following message displayed invalid data .     PowerStudio              User Manual                                                                                                                                     17                                                                                                                                      select ‘ ’ option configuration sent engine detected errors   possible operate desired . select ‘ Yes ’ option screen appear   reporting detected errors . ( Refer ‘ Editor Manual ’ detailed explanation ) .      select     option , sending application attempt   communicate devices added application . communication   ny , dialogue appear reporting detected incidents . ( Refer ‘ Editor Manual ’   detailed explanation ) .        Communication incidents report     editor possible configure default options appear expor t   dialogue , ‘ File - > Engine preferences ’ menu option . ( Refer ‘ Editor Manual ’   detailed explanation ) .      PowerStudio                                                                                                            PowerSt udio       18                                                                                                                                     User Manual      Engine preferences\n",
      "\n",
      "########################################\n",
      "\n",
      "Title: 1.3.4  View the application in the client\n"
     ]
    },
    {
     "name": "stderr",
     "output_type": "stream",
     "text": [
      "Setting `pad_token_id` to `eos_token_id`:128001 for open-end generation.\n",
      "Setting `pad_token_id` to `eos_token_id`:128001 for open-end generation.\n"
     ]
    },
    {
     "name": "stdout",
     "output_type": "stream",
     "text": [
      "question:  'How do I view the application in the client?'\n",
      "\n",
      "Title\n",
      "content: Client connect engine view application selecting ' General   -- > Connect ' menu option . ( Refer ‘ Client Manual ’ detailed explanation ) .        Connect engine      views obtained Client shown , device status view ,   machine monitoring view SCADA screen ( SCADA Deluxe versions ) .    PowerStudio              User Manual                                                                                                                                     19                                                                                                                                    View device status connection    PowerStudio                                                                                                            PowerSt udio       20                                                                                                                                     User Manual      Device monitoring screen        Client application SCADA screen active view         PowerStudio              User Manual                                                                                                                                     21                                                                                                                                  2.- SYSTEM REQUIREMENTS      • Client operating system Java V irtual Machine JRE 1.7.0 ( Linux , Windows , etc . )      • 10 GB free HD   ( depending number type equipment connected space   increased rate approximately 30 MB device year data want save ) .      • SVGA monitor w ith al 1024x768 ( 1280x 1024 better   recommended ) .     • Windows compatible Mouse keyboard .      Num .   devices   ALARMS     Calculated    Variables Num .   simultaneous    remote   clients Operating System * Minimum Recomended PC    50   Devices   200   Alarm s   Max . 10 Windows XP SP2 ,   Windows Vista ,   Windows 7   higher   Dual 1,8 GHz , 1 GB Ram    250 GB HD    200   Calculated   Variables   10/100 Mbits RED     3 x USB   SAI   200   Devices   400   Alarms    Max . 20 Windows Server   2003 higher   SERVER :    Dual 2 x AMD Opteron 6100   2 GHz , 8 GB Ram DDR3    10/100/1000 mBits Red   2 x HD RAID 500 GB    400   Calculated   Variables   3 x USB   Dual Power supply SAI    Example :    DELL Serie PowerEdge R715   1000   Devices   2000   Alarms   Max . 30 Windows Server   2003 o higher   SERVER RACK :    Dual 2 x Pentium XEON 7500   2 GHZ , 16 GB RAM DDR 3    10/100/1000 mBits RED    Recommended   Optical Fiber    2000   Calculated   Variables   2 x HD RAID 1 TB    3 x USB   Dual Power su pply SAI   Example :    DELL Serie PowerEdge R910     * versions PowerStudio 4.07 higher , 64bits Operating system required     PowerStudio                                                                                                            PowerSt udio       22                                                                                                                                     User Manual       software work properly necessary install Administrator ,   user Administrator privileges .      Note :    installed Microsoft Windows 10 , disable service \" system compressed memory \" .    , open Windows Services stop execution service called \" Service World   Wide Web Publishing \" .   avoid executions , enter Service Properties change default startup type   Automatic   Disabled .                                                                                                      PowerStudio              User Manual                                                                                                                                     23                                                                                                                                  3.- APPENDICES\n",
      "\n",
      "########################################\n",
      "\n",
      "Title: 3.1.- XML Services\n"
     ]
    },
    {
     "name": "stderr",
     "output_type": "stream",
     "text": [
      "Setting `pad_token_id` to `eos_token_id`:128001 for open-end generation.\n"
     ]
    },
    {
     "name": "stdout",
     "output_type": "stream",
     "text": [
      "question:  'How do I access XML services in PowerStudio SCADA?'\n",
      "\n",
      "Title\n",
      "content: PowerStudio provides range XML services enable , n respects , communication   applications .       requests necessary express date time , service request   data response , represented UTC ( Universal Coordinated Time ) format    DDMMYYYYHHMMSS ( digits day , month , year hour ,   minutes seconds . possible represent date DDMMYYYY assuming   time 00:00:00 , represent hour HHMMSS . Finally c ases milliseconds required   represented digits seconds , DDMMYYYYHHMMSSUUU   HHMMSSUUU .      requests follow URI standard ( RFC 2396 ) , user requests   account detail mak ing calls ( especially cases device   contains non- ASCII characters).It taken account length request   exceed 4000 characters .\n",
      "\n",
      "########################################\n",
      "\n",
      "Title: 3.1.1  / services / user / devices.xml\n"
     ]
    },
    {
     "name": "stderr",
     "output_type": "stream",
     "text": [
      "Setting `pad_token_id` to `eos_token_id`:128001 for open-end generation.\n"
     ]
    },
    {
     "name": "stdout",
     "output_type": "stream",
     "text": [
      "question:  'How can I find out the services that are available in PowerStudio SCADA?'\n",
      "\n",
      "Title\n",
      "content: Returns list configured devices .      < devices >     < d > … < /id >    …   < /devices >      :      • devices :   Main field identify main XML response device list   request .    • d : devices .\n",
      "\n",
      "########################################\n",
      "\n",
      "Title: 3.1.2  /services/user/deviceInfo.xml?id=device?...\n"
     ]
    },
    {
     "name": "stderr",
     "output_type": "stream",
     "text": [
      "Setting `pad_token_id` to `eos_token_id`:128001 for open-end generation.\n"
     ]
    },
    {
     "name": "stdout",
     "output_type": "stream",
     "text": [
      "question:  'How do I find out the current device information in PowerStudio SCADA?'\n",
      "\n",
      "Title\n",
      "content: Returns information devices . devices information required   included request :      ? id = device2?id = device2     < devices >     < device >     < d > … < /id >     < description > … < / description >     < type > … < / type >     < typeDescription > … < / typeDescription >     < var > … < / var >     …    < /device >    …   < /devices >      :      • devices :   Main Field identify XML response device   information request .    • device :   Information devices requested :     d : device .     description : Description device    type :   Type device ( example CVM144 )    PowerStudio                                                                                                            PowerSt udio       24                                                                                                                                     User Manual     typeDescription : description type device ( example : CVM- 144 )    var : variables device . expressed   device.variable ( Refer variable appendix ‘ Devices Manual ’ ) .\n",
      "\n",
      "########################################\n",
      "\n",
      "Title: 3.1.5  / services / user / forceVariables.xml? id = device\n",
      "question:  'What are the variables used to control power devices in PowerStudio SCADA?'\n",
      "\n",
      "\n",
      "content: request send order force variables PowerStudio . request   include device want force , necessary ,   authentication checked   variables belonging device indicated request forced .        < forceVariables >     < forceVar >     < forceName > … < / forceName >     < forceValue > … < / forceValue >    < / forceVar >    …   < /forceVariables >    :      • forceVariables :   Main field identify XML request force variables .    • forceVar :   Information variables forced :     forceName :   variable device.variable format ( Refer   variable appendix ‘ Devices Manual’).Only variables forced ,   example digital output variables .     forceValue :   Value wish force variable .\n",
      "\n",
      "########################################\n",
      "\n",
      "Title: 3.1.6  /services/user/records.xml?begin=…?end=…?var=…?period=900\n"
     ]
    },
    {
     "name": "stderr",
     "output_type": "stream",
     "text": [
      "Setting `pad_token_id` to `eos_token_id`:128001 for open-end generation.\n",
      "Setting `pad_token_id` to `eos_token_id`:128001 for open-end generation.\n"
     ]
    },
    {
     "name": "stdout",
     "output_type": "stream",
     "text": [
      "question:  'How do I retrieve records from the database using the PowerStudio SCADA client?'\n",
      "\n",
      "Title\n",
      "content: Returns information variables dates “ begin ”   “ end ” .   variables information required included request :      ? var = device.variable     ? var = device.variable format ” begin ”   ” end ”   DDMMYYYY   wish   indicate date ( case hour 00:00:00 ) DDMMYYYYHHMMSS date   hour specified . \" begin \" \" end \" expressed UTC ( Universal Coordinated   Time ) .      Finally , specify period data grouping “ period ” parameter . value :       FILE  data grouped , returning register saved log .     AUTO  Grouping place automatically depending specified dates ” begin ”     ” end ”     Data grouped single value    > 0  Value seconds data grouped .      “ period ” parameter appear request shall considered value 0 data   grouped .      < recordGroup >     < period > … < / period >    < record >     < dateTime > … < /dateTime >     < field > … < / field >     < fieldComplex > … < / fieldComplex >     < fieldARM > … < / fieldARM >     < fieldFO > … < /fieldFO >     < fieldEVQ > … < / fieldEVQ >     …    < /record >    …   < /recordGroup >        :     PowerStudio              User Manual                                                                                                                                     27                                                                                                                                  • recordGroup : Main field identify XML response variable   register request .    • period : Register peri od . report time elapsed records .    • record :   Identify records :     dateTime :   Date time sample .     field :   Standard value register .     fieldComplex : Complex value register     fieldARM :   Harmonic value register     fieldFO : Waveform val ue record    fieldEVQ :   EVQ event register      different types values returned request :      • Standard value registers ( voltages , currents , power , energy , etc . ) .      < field >    < d > … < /id >    < value > … < / value >   < / Field >        d : Variable dentifier ( device.variable )     value :   Value     •   Complex value register ( PLT , etc . ) .      < fieldComplex >     < d > … < /id >    < value > … < / value >    < flags > … < / flags >   < / fieldComplex >       d : Variable identifier ( device.variable )     value :   Value    flags :   Additional information variable formed union   following values    ♦ 0x0000 The PLT correct    ♦ 0x0001 The PLT calculation fewer samples   expected   ♦ 0x0002  PLT calculation samples   expected   ♦ 0x0004 The samples PLT calculation   equidistant separation sampling window    ♦ 0x0008 Some PST calculation PLT contain   events phase 1   ♦ 0x0010 Some PST   calculation PLT contain   events phase 2   ♦ 0x0020  PST calculation PLT contain   events phase 3   ♦ 0x0040  PST calculation PLT   complete     • Harmonic value record     < fieldARM >     < d > … < /id >    < element >     < harmonic > … < / harmonic >     < value > … < / value >    < / element >    …   < /fieldARM >       d : Variable identifier ( device.variable )     Element : Registers harmonics    PowerStudio                                                                                                            PowerSt udio       28                                                                                                                                     User Manual    ♦ harmonic : Harmonics number    ♦ value :   Harmonic value .        • Waveform value record     < fieldFO >     < d > … < /id >    < element >     < msec > … < / msec >     < value > … < / value >    < / element >    …   < /fieldFO >       d : Variable identifier ( device.variable )     Element :   Information points waveform    ♦ msec :   millisecond    ♦ value :   value      •   EVQ event Record .      < fieldEVQ >     < d > … < /id >    < value > … < / value >    < phase > … < / phase >    < duration > … < / duration >    < averageValue > … < / averageValue >    < previousValue > … < / previousValue >    < eventType > … < / eventType >    < endForced > … < / endForced >    < semicycleVoltage >     < date > … < / date >     < value > … < / value >    < / semicycleVoltage >    …   < /fieldEVQ >        d : Variable identifier ( device.variable )     value :   Value event :     Phase :   Phase event occurs     duration : Duration event milliseconds     averageValue :   Average value :     previousValue :   Old value    eventType :   Type event    ♦ 0 Interruption   ♦ 1 gap   ♦ 3 Overvoltage    endForced : Mark event finished correctly ( F ) forced   finalise ( T )     semicycleVoltage :   points semi -circular   effective voltage associated event . field opti onal   exist .    ♦ date :   Date time ( DDMMYYYYHHMMSSUUU )    ♦ value :   Value                  PowerStudio              User Manual                                                                                                                                     29\n",
      "\n",
      "########################################\n",
      "\n",
      "Title: 3.1.7  /services/user/events.xml?begin=…?end=…?id=…\n"
     ]
    },
    {
     "name": "stderr",
     "output_type": "stream",
     "text": [
      "Setting `pad_token_id` to `eos_token_id`:128001 for open-end generation.\n"
     ]
    },
    {
     "name": "stdout",
     "output_type": "stream",
     "text": [
      "question:  'What is the syntax for getting events from a specific user in PowerStudio SCADA?'\n",
      "\n",
      "Title\n",
      "content: Returns events log events dates “ begin ”   “ end ” .   events information required included request :      ? id = name_event      ? var = device.variable format ” begin ”   ” end ”   DDMMYYYY wish   indicate date ( case hour 00:00:00 ) DDMMYYYYHHMMSS date   hour specified . \" begin \" \" end \" expressed UTC ( Universal Coordinated   Time ) .        < main >           < recordGroup >             < d > … < /id >            < record >              < date > … < / date >              < eventId > … < /eventId >              < annotation > … < /annotation >             < value > … < / value >            < /record >            …            < /recordGroup >           …    < /main >       :      • main : Main field identify XML response request .    • recordGroup : Field groups records event .    • d : Event identifier .    • record :   Identify records :     date :   Event date hour     eventId : Event identifier .     annotation : Event annotation .     value :   Event value .    ♦  Event enabled   ♦  Event disabled   ♦ ACK  Event acknowledged\n",
      "\n",
      "########################################\n",
      "\n",
      "Title: 3.1.8  /services/user/recordsEve.xml?begin=…?end=…?id=…\n"
     ]
    },
    {
     "name": "stderr",
     "output_type": "stream",
     "text": [
      "Setting `pad_token_id` to `eos_token_id`:128001 for open-end generation.\n"
     ]
    },
    {
     "name": "stdout",
     "output_type": "stream",
     "text": [
      "question:  'How can I find the records for a specific user in PowerStudio SCADA?'\n",
      "\n",
      "\n",
      "content: Returns information events recorded devices dates “ begin ”     “ end ” . devices information required included request :      ? id = device     ? var = device.variable format ” begin ”   ” end ”   DDMMYYYY   wish   indicate date ( case hour 00:00:00 ) DDMMYYYYHHMMSS date   hour specified . \" begin \" \" end \" expressed UTC ( Universal Coor dinated   Time ) .                  PowerStudio                                                                                                            PowerSt udio       30                                                                                                                                     User Manual      < main >           < recordGroup >            < device > … < /device >            < record >     < dateTime > … < /dateTime >             < field >   < d > … < /id >                                 < value > … < /value >             < /field >             …             < /record >            …            < /recordGroup >           …    < /main >     :      • main : Main field identify XML response request .    • recordGroup : Field groups records event .    • device :   Device records refer .    • record :   Identify e ach records :     dateTime :   Date time sample .     field :   identify fields .    ♦ d : Iden   ♦ value :   Value event .                                                                       PowerStudio              User Manual                                                                                                                                     31\n",
      "\n",
      "########################################\n",
      "\n",
      "Title: 3.2.1  Some equipment is not communicating. What could be happening?\n"
     ]
    },
    {
     "name": "stderr",
     "output_type": "stream",
     "text": [
      "Setting `pad_token_id` to `eos_token_id`:128001 for open-end generation.\n"
     ]
    },
    {
     "name": "stdout",
     "output_type": "stream",
     "text": [
      "question:  'What could be happening when I am unable to communicate with some equipment?'\n",
      "\n",
      "Title\n",
      "content: sure computer switched mode communicate , ensuring   particularly set starting mode . sure computer connected   PC compatible converter wiring correct . sure possibility   interference cable run device PC device converter .   connected converter , check properly connected PC . Verify grid   overloaded excessive devices . computer connected way 232- 485 converter sure switches correct position . sure equipment   bus devices communicate different speeds t device number .   Check PC port working properly .\n",
      "\n",
      "########################################\n",
      "\n",
      "Title: 3.2.2   A TCP2RS converter does not communicate.  What could be\n"
     ]
    },
    {
     "name": "stderr",
     "output_type": "stream",
     "text": [
      "Setting `pad_token_id` to `eos_token_id`:128001 for open-end generation.\n"
     ]
    },
    {
     "name": "stdout",
     "output_type": "stream",
     "text": [
      "question:  'I am using a TCP2RS converter to communicate with the PowerStudio SCADA.  When I start the converter, it does not communicate.  What could be wrong?'\n",
      "\n",
      "Title\n",
      "content: happening ?     sure computer switched connected communications network .   sure possibility interference cable run converter PC . sure   PC correctly connected communications network communicate   equipment connected network ( example PC ) . router ,   sure communication port redirected router , converter address .\n",
      "\n",
      "########################################\n",
      "\n",
      "Title: 3.2.3  I cannot see the applet. What could be happening?\n"
     ]
    },
    {
     "name": "stderr",
     "output_type": "stream",
     "text": [
      "Setting `pad_token_id` to `eos_token_id`:128001 for open-end generation.\n"
     ]
    },
    {
     "name": "stdout",
     "output_type": "stream",
     "text": [
      "question:  'I cannot see the applet. What could be happening?'\n",
      "\n",
      "Title\n",
      "content: Check local computer Microsoft Internet Explorer , Netscape ( Mozilla )   Firefox browser installed . Ensure Java Virtual Machine JRE 1.6 ( 6.0 ) later installed .   installed browser provide information guide installation process .       applet appears message displayed warning “ communication   server ” “ required information recovered ” ensure   communications engine running .\n",
      "\n",
      "########################################\n",
      "\n",
      "Title: 3.2.4  The Applet does not display the texts properly. What could be\n"
     ]
    },
    {
     "name": "stderr",
     "output_type": "stream",
     "text": [
      "Setting `pad_token_id` to `eos_token_id`:128001 for open-end generation.\n"
     ]
    },
    {
     "name": "stdout",
     "output_type": "stream",
     "text": [
      "question:  'The applet does not display the texts properly. What could be the reason?'\n",
      "\n",
      "Title\n",
      "content: happening ?      possible fonts appl ied controls designing report SCADA   screen exist machine   applet downloaded , consequence ,   font chosen markedly different original .\n",
      "\n",
      "########################################\n",
      "\n",
      "Title: 3.2.6  An event is not behaving as expected. What could be happening?\n"
     ]
    },
    {
     "name": "stderr",
     "output_type": "stream",
     "text": [
      "Setting `pad_token_id` to `eos_token_id`:128001 for open-end generation.\n"
     ]
    },
    {
     "name": "stdout",
     "output_type": "stream",
     "text": [
      "question:  'What could be happening when an event is not behaving as expected?'\n",
      "\n",
      "Title\n",
      "content: event occur think , vice versa , check thi s condition   fulfilled sure event enabled time calendar condition   fulfilled interval . Verify devices involved assessing condition   event communicate properly ens ure communication engine running . sure   permission type event checked notify and/or register box .       incident appears carried actions defined , check   actually occurred list events . event produced programd action actions ,   check equipment acted communicating correctly .   action involve running external applic ation , check application properly installed   command parameters correct ( action run control SCADA   screen test behaves expected )\n",
      "\n",
      "########################################\n",
      "\n",
      "Title: 3.2.7  I can’t paint the graph correctly. What could be happening?\n"
     ]
    },
    {
     "name": "stderr",
     "output_type": "stream",
     "text": [
      "Setting `pad_token_id` to `eos_token_id`:128001 for open-end generation.\n"
     ]
    },
    {
     "name": "stdout",
     "output_type": "stream",
     "text": [
      "question:  'I can’t paint the graph correctly. What could be happening?'\n",
      "\n",
      "\n",
      "content: graph appears dots missing , verify variables   represented different periods .       bar charts widths correct , ensure values separated   distance marked driver period . example , device saves data 5 minutes   change period 15 minutes , bars superimposed displaying bar graphs   values prior change period ( 5 minutes ) . change period lower value ,   bars prior change appear narrower necessary . case , bar graphs values   separated distance shown Driver registration period appear correctly .       values think , ensure zoomed   area values Y -axis forcing levels values exist .\n",
      "\n",
      "########################################\n",
      "\n",
      "Title: 3.2.9  The software is not sending e -mails. What might be happening?\n"
     ]
    },
    {
     "name": "stderr",
     "output_type": "stream",
     "text": [
      "Setting `pad_token_id` to `eos_token_id`:128001 for open-end generation.\n"
     ]
    },
    {
     "name": "stdout",
     "output_type": "stream",
     "text": [
      "question:  'I am not receiving e -mails when I save the data in PowerStudio SCADA.'\n",
      "\n",
      "Title\n",
      "content: Check anti -virus blocking software .      security purposes , software send e- mails mail server   Transport Layer Security   ( TSL ) option activated mail server supports Plain , Login   NTLM authentication protocols , secure sending information .      case :       increase security mail server order allow software send e- mails ,   TLS / SSL encryption enabled . want , add authentication   method cram -md5 , digest -md5 , gssapi external .     TLS activated , previously suggested authentication proposals   added ; protocols functioning mail server retained ,   software . authentication method smtp server   following : plain , login ntlm .     system send mails   check e- mail server user   configured address . software use configured e- mail address   user .\n",
      "\n",
      "########################################\n",
      "\n",
      "Title: 3.2.10 Can I launch external applications from applet?\n"
     ]
    },
    {
     "name": "stderr",
     "output_type": "stream",
     "text": [
      "Setting `pad_token_id` to `eos_token_id`:128001 for open-end generation.\n"
     ]
    },
    {
     "name": "stdout",
     "output_type": "stream",
     "text": [
      "question:  'Can I launch external applications from applet?'\n",
      "\n",
      "Title\n",
      "content: security reasons , Java Applets fairly   significant limitations regards   accessing resources local machine running . restrictions   able run applications local machine . , restriction disabled   adding fol lowing line java.policy    permissions file situated installation JRE virtual   machine :      permission java.io . FilePermission \" < < FILES > > \" , \" execute \" ;      noted , , Applet directly display files run control ,   way SCADA . , wanted image applet enter   image run control , enter application want use   image , parameter , image .       N.B : option launch external applications depends system   applet running , highly probable work system application   developed .\n",
      "\n",
      "########################################\n",
      "\n",
      "Title: 3.2.14 What can be \"counted\"?\n"
     ]
    },
    {
     "name": "stderr",
     "output_type": "stream",
     "text": [
      "Setting `pad_token_id` to `eos_token_id`:128001 for open-end generation.\n"
     ]
    },
    {
     "name": "stdout",
     "output_type": "stream",
     "text": [
      "question:  'What can be \"counted\" in PowerStudio SCADA?'\n",
      "\n",
      "Title\n",
      "content: event added system contains variable indicates times   enabled , times recognized , times deactivated , long   active , active moment time elapsed   enabled .       count times occurred current hour , day , etc .   purpose forced calculated variable created initialized 0 event ,   condition fulfilled performs action forcing variable value plus unit .       [ R$CAL_FORCED.COUNTER1]=[R$CAL_FORCED.COUNTER1]+1      need add event reset counter 0 date   outside XX / XX / XX 00:00:00 ( 00:00:00 hours day ) counter   number activations day course . counter reset carried variable forced   control SCADA screen , case manual instead automatic .\n",
      "\n",
      "########################################\n",
      "\n",
      "Title: 3.2.17 How can I simula te a control switch?\n"
     ]
    },
    {
     "name": "stderr",
     "output_type": "stream",
     "text": [
      "Setting `pad_token_id` to `eos_token_id`:128001 for open-end generation.\n"
     ]
    },
    {
     "name": "stdout",
     "output_type": "stream",
     "text": [
      "question:  'How can I simulate a control switch in PowerStudio SCADA?'\n",
      "\n",
      "Title\n",
      "content: simulate behaviour switch ( e.g. act digital output ) need conditional   control controls force variable . conditional control contain images ,   representation open sw itch , condition digital variable 1 ,   representation closed switch , condition digital variable 0 .              control positioned left control force variable digital output   value 1 , control positioned right -hand section force variable   output value 0 .\n",
      "\n",
      "########################################\n",
      "\n",
      "Title: 3.2.18 How do I add animation to the SCADA?\n"
     ]
    },
    {
     "name": "stderr",
     "output_type": "stream",
     "text": [
      "Setting `pad_token_id` to `eos_token_id`:128001 for open-end generation.\n"
     ]
    },
    {
     "name": "stdout",
     "output_type": "stream",
     "text": [
      "question:  'How do I add animation to the SCADA?'\n",
      "\n",
      "\n",
      "content: add small animated image conditional control combined \" second \" function   condition added . , save images animation image manager .   Suppose animation consists sequence 3 images . Assume want   animation change second . create list formulae SCADA   screen return module 3 \" second \" function ( vary values , 0 , 1   2 ) . function follows :      mod(second,3 )      Let suppose function called MOD . define conditional control 3   conditions , condition displays images form animation . following   shows control properties :          result images animation shown second .   seen , combinations carried large variety opportunities exploit   technique .    PowerStudio                                                                                                            PowerSt udio       38                                                                                                                                     User Manual\n",
      "\n",
      "########################################\n",
      "\n",
      "Title: 3.2.19 How can I simulate a level control?\n"
     ]
    },
    {
     "name": "stderr",
     "output_type": "stream",
     "text": [
      "Setting `pad_token_id` to `eos_token_id`:128001 for open-end generation.\n"
     ]
    },
    {
     "name": "stdout",
     "output_type": "stream",
     "text": [
      "question:  'How can I simulate a level control in PowerStudio SCADA?'\n",
      "\n",
      "\n",
      "content: ways level control SCADA screen . use   conditional control , control image different level condition   indicates fulfilled reach level . images showing specific   examples conditions :              [ CVM K 1.VI1 ] = = 215 [ CVM K 1.VI1 ] = = 221   [ CVM K 1.VI1 ] = = 224       option draw level control SCADA screen use   paint pot controls paint desired zone . , draw screen background   like t following :           inner , color ( white ) , divided grids   different whites indistinguishable human eye ( example ,   impossible distinguish white RGB 255.255.255 white RGB 254.255.255 ) .       place paint pot table desired condition tolerance 0 prevent   painting adjacent tables , similar color .           , result progress bar ( contr ol level ) configured desired .\n",
      "\n",
      "########################################\n",
      "\n",
      "Title: 3.2.21 How can I know the status of a device?\n"
     ]
    },
    {
     "name": "stderr",
     "output_type": "stream",
     "text": [
      "Setting `pad_token_id` to `eos_token_id`:128001 for open-end generation.\n"
     ]
    },
    {
     "name": "stdout",
     "output_type": "stream",
     "text": [
      "question:  'How can I know the status of a device?'\n",
      "\n",
      "\n",
      "content: devices variable called STATUS shows status device   numerical value ( example , [ CVM144.STATUS ] ) . meaning variable   devices conditional expressions ( appendix check types   variables possible values )\n",
      "\n",
      "########################################\n",
      "\n",
      "Title: 3.2.22 How can I display documents from a SCADA screen?\n"
     ]
    },
    {
     "name": "stderr",
     "output_type": "stream",
     "text": [
      "Setting `pad_token_id` to `eos_token_id`:128001 for open-end generation.\n"
     ]
    },
    {
     "name": "stdout",
     "output_type": "stream",
     "text": [
      "question:  'How can I display documents from a SCADA screen?'\n",
      "\n",
      "\n",
      "content: documents previously stored PC run control . wish   PDF file , enter directly ( including complete path ) program field ,   file open related , defined program running screen clicking   control .   Likewise , file type ass ociated program open . ( DOC ,   TXT , HTML , WAV , MP3 , MPG , AVI , etc . )       N.B : option work systems run Windows ,   applet .\n",
      "\n",
      "########################################\n",
      "\n",
      "Title: 3.2.23 How can I obtain an event according to the status of a device?\n"
     ]
    },
    {
     "name": "stderr",
     "output_type": "stream",
     "text": [
      "Setting `pad_token_id` to `eos_token_id`:128001 for open-end generation.\n"
     ]
    },
    {
     "name": "stdout",
     "output_type": "stream",
     "text": [
      "question:  'How can I obtain an event according to the status of a device?'\n",
      "\n",
      "Title\n",
      "content: produce event ac cording status devices , use STATUS variable   device event activation status . possible values STATUS variable seen   variable type appendix .       events generate number variables associated ,   times event enabled , times deactivated , recognized   long enabled .\n",
      "\n",
      "########################################\n",
      "\n",
      "Title: 3.2.24 How can I produce sounds in response to an event?\n"
     ]
    },
    {
     "name": "stderr",
     "output_type": "stream",
     "text": [
      "Setting `pad_token_id` to `eos_token_id`:128001 for open-end generation.\n"
     ]
    },
    {
     "name": "stdout",
     "output_type": "stream",
     "text": [
      "question:  'How can I produce sounds in response to an event?'\n",
      "\n",
      "\n",
      "content: produce sound response event ,   add action run external   program enter corresponding ( WAV , MP3 , etc . ) path program field .   action effect , need program installed play type file (   example , Windows Media Player , Sonique , Winamp , etc . ) .     needed simply reproducing bleep client application , action associated   event added carry . Likewise action occur activation ,   acknow ledgement , deactivation active .        Support audible alarm action client response event       PowerStudio                                                                                                            PowerSt udio       40                                                                                                                                     User Manual\n",
      "\n",
      "########################################\n",
      "\n",
      "Title: 3.2.25 How do I show documents in response to an event?\n",
      "question:  'How can I show documents in response to an event in PowerStudio SCADA?'\n",
      "\n",
      "\n",
      "content: similar manner previous point , adding action run external pr ogram   entering file shown ( PDF , TXT , DOC , etc . ) corresponding path . action   effect , need program installed read type file ( example , Microsoft   Word , Adobe Acrobat Reader , etc . ) .\n",
      "\n",
      "########################################\n",
      "\n"
     ]
    }
   ],
   "source": [
    "import spacy\n",
    "from sklearn.feature_extraction.text import TfidfVectorizer\n",
    "from transformers import pipeline\n",
    "\n",
    "# Charger le modèle spaCy\n",
    "nlp = spacy.load('en_core_web_sm')\n",
    "\n",
    "# Charger le modèle Llama 3 pour la génération de texte sur GPU\n",
    "pipe = pipeline(\"text-generation\", model=\"meta-llama/Llama-3.2-1B\",device=0)     \n",
    "# Génération des questions\n",
    "def generate_questions(title):\n",
    "    prompt = (\n",
    "        \"Generate a relevant question based on the title related to Circuttor Power Studio SCADA.\\n\\n\"\n",
    "        \"Title: 'ACCESS VIA THE POWERSTUDIO CLIENT'\\n\"\n",
    "        \"Question: 'How can I access the PowerStudio SCADA client?'\\n\\n\"\n",
    "        \"Title: 'MONITORING POWER CONSUMPTION'\\n\"\n",
    "        \"Question: 'What tools are available for monitoring power consumption in PowerStudio SCADA?'\\n\\n\"\n",
    "        \"Title: 'CONFIGURATION OF POWER DEVICES'\\n\"\n",
    "        \"Question: 'How do I configure power devices in PowerStudio SCADA?'\\n\\n\"\n",
    "        f\"Title: '{title}'\\n\"\n",
    "        \"Question:\"\n",
    "    )\n",
    "\n",
    "\n",
    "    # Génération de texte\n",
    "    questions = pipe(prompt, max_new_tokens=50, num_return_sequences=1)\n",
    "    return questions[0]['generated_text'].split(f\"Title: '{title}'\\n\")[1].split(\":\")[1]\n",
    "\n",
    "# Suppression des stop words\n",
    "def remove_stopwords(text):\n",
    "    doc = nlp(text)\n",
    "    return ' '.join([token.text for token in doc if not token.is_stop])\n",
    "\n",
    "# Nettoyage basique\n",
    "def clean_text(text):\n",
    "    return text.replace('\\n', ' ').strip()\n",
    "\n",
    "\n",
    "def clean_title(title):\n",
    "    # Supprimer les formats comme X.-, X.X-, X.X.X et X.X.X.\n",
    "    cleaned_title = re.sub(r'^[\\d]+[-.]*[\\s]*', '', title).strip()\n",
    "    cleaned_title = re.sub(r'(\\d+[\\.\\-])', '', cleaned_title).strip() \n",
    "    return cleaned_title\n",
    "\n",
    "# Pipeline de préprocessing\n",
    "def preprocess_pipeline(title, content):\n",
    "    # 1. Nettoyage basique\n",
    "    content = clean_text(content)\n",
    "    \n",
    "    # 2. Suppression des stop words\n",
    "    content = remove_stopwords(content)\n",
    "    \n",
    "    # 3. Tokenisation et Lemmatisation\n",
    "    doc = nlp(content)\n",
    "    lemmatized = ' '.join([token.lemma_ for token in doc])\n",
    "    \n",
    "    # 4. Vectorisation (TF-IDF)\n",
    "    vectorizer = TfidfVectorizer()\n",
    "    vectorized_text = vectorizer.fit_transform([lemmatized])\n",
    "    title=clean_title(title)\n",
    "    # 5. Génération de questions à partir du titre et du contenu\n",
    "    question = generate_questions(title)\n",
    "    \n",
    "    return {\n",
    "       # \"lemmatized\": lemmatized,\n",
    "       # \"vectorized_text\": vectorized_text,\n",
    "        \"question\": question,\n",
    "        \"content\":content\n",
    "    }\n",
    "import json\n",
    "# Application du pipeline de prétraitement à chaque contenu extrait\n",
    "list_results = []\n",
    "with open('D:\\\\Generative IA\\\\rag_pdfs\\\\manuel_3_QA.json', 'w', encoding='utf-8') as f:\n",
    "    for title, content in title_content_paires:\n",
    "        print(f\"Title: {title}\")\n",
    "        result = preprocess_pipeline(title, content)\n",
    "        list_results.append(result)\n",
    "        \n",
    "        # Remplissage du fichier JSON\n",
    "        json.dump(result, f, ensure_ascii=False)\n",
    "        f.write(\"\\n\")  # Pour séparer chaque entrée JSON sur une nouvelle ligne\n",
    "\n",
    "        for key, value in result.items():\n",
    "            print(f\"{key}: {value}\")\n",
    "        print(\"\\n########################################\\n\")\n"
   ]
  },
  {
   "cell_type": "code",
   "execution_count": 11,
   "id": "c98e7255-0f14-44e9-8015-1df7b995a34f",
   "metadata": {},
   "outputs": [
    {
     "name": "stdout",
     "output_type": "stream",
     "text": [
      "{'question': \" 'How to use the editor and clients of PowerStudio SCADA?'\\n\\nTitle\", 'content': 'configuration editor engine machine   clients machines connect engine access viewing data , SCADA screens ,   reports , etc . configuration useful want view engine data remotely client .        PowerStudio                                                                                                            PowerSt udio       8                                                                                                                                     User Manual'}\n"
     ]
    }
   ],
   "source": [
    "print(list_results[5])"
   ]
  },
  {
   "cell_type": "code",
   "execution_count": null,
   "id": "7ee879de-998b-46a2-9940-ee106429676e",
   "metadata": {},
   "outputs": [
    {
     "data": {
      "text/plain": [
       "('1.- ACCESS VIA THE POWERSTUDIO CLIENT',\n",
       " \"The software has a client application that will allow users to acces s SCADA screens, reports \\nand to display instantaneous values being measured by devices either locally or through a remote \\nconnection. Graphs of the values recorded by the devices can also be prepared and listings accessed, \\nevents can be viewed, device stat us can be displayed, etc. Similarly, this client is available as an \\nembedded applet on the application's webpage.\")"
      ]
     },
     "execution_count": 37,
     "metadata": {},
     "output_type": "execute_result"
    }
   ],
   "source": [
    "from transformers import pipeline\n",
    "\n",
    "# Utilisation de DistilGPT-2 pour la génération de texte\n",
    "pipe = pipeline(\"text-generation\", model=\"distilgpt2\", device=0)\n",
    "\n",
    "def generate_question(title):\n",
    "    prompt = f\"Based on the title: '{title}', generate a relevant question specifically related to Circuttor Power Studio SCADA.\"\n",
    "    \n",
    "    question = pipe(prompt, max_new_tokens=50)\n",
    "    \n",
    "    # Extraire la question générée\n",
    "    return question[0][\"generated_text\"].split(\":\")[1].strip()  \n",
    "\n",
    "\n",
    "question=generate_question(a)"
   ]
  },
  {
   "cell_type": "code",
   "execution_count": null,
   "id": "1a97da26-b947-4fca-97a4-910ed87a2e3a",
   "metadata": {},
   "outputs": [],
   "source": []
  }
 ],
 "metadata": {
  "kernelspec": {
   "display_name": "Python 3 (ipykernel)",
   "language": "python",
   "name": "python3"
  },
  "language_info": {
   "codemirror_mode": {
    "name": "ipython",
    "version": 3
   },
   "file_extension": ".py",
   "mimetype": "text/x-python",
   "name": "python",
   "nbconvert_exporter": "python",
   "pygments_lexer": "ipython3",
   "version": "3.9.13"
  }
 },
 "nbformat": 4,
 "nbformat_minor": 5
}
