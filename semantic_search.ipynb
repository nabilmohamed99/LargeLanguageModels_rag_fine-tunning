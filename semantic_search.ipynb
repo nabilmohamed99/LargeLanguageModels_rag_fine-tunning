{
 "cells": [
  {
   "cell_type": "code",
   "execution_count": 2,
   "id": "0490b755-9a48-41ed-a8cb-26f72be5597b",
   "metadata": {},
   "outputs": [],
   "source": [
    "#!pip install pinecone-client openai sentence-transformers tiktoken datasets"
   ]
  },
  {
   "cell_type": "code",
   "execution_count": 1,
   "id": "c8f23983-7eca-4658-9653-b10ffb37630e",
   "metadata": {},
   "outputs": [
    {
     "name": "stderr",
     "output_type": "stream",
     "text": [
      "C:\\Users\\simo_\\anaconda3\\lib\\site-packages\\sentence_transformers\\cross_encoder\\CrossEncoder.py:13: TqdmExperimentalWarning: Using `tqdm.autonotebook.tqdm` in notebook mode. Use `tqdm.tqdm` instead to force console mode (e.g. in jupyter console)\n",
      "  from tqdm.autonotebook import tqdm, trange\n"
     ]
    },
    {
     "name": "stdout",
     "output_type": "stream",
     "text": [
      "WARNING:tensorflow:From C:\\Users\\simo_\\anaconda3\\lib\\site-packages\\tf_keras\\src\\losses.py:2976: The name tf.losses.sparse_softmax_cross_entropy is deprecated. Please use tf.compat.v1.losses.sparse_softmax_cross_entropy instead.\n",
      "\n"
     ]
    }
   ],
   "source": [
    "from openai import OpenAI\n",
    "from datetime import datetime\n",
    "import hashlib\n",
    "import re\n",
    "import os \n",
    "from sentence_transformers import CrossEncoder\n",
    "\n",
    "from tqdm import tqdm\n",
    "import numpy as np\n",
    "from torch import nn\n",
    "import logging\n",
    "from pinecone import Pinecone,ServerlessSpec\n",
    "logger = logging.getLogger()\n",
    "logger.setLevel(logging.CRITICAL)\n",
    "import tqdm"
   ]
  },
  {
   "cell_type": "code",
   "execution_count": 2,
   "id": "42897b05-c6ea-4241-a5f2-3bd1817d4dc9",
   "metadata": {},
   "outputs": [],
   "source": [
    "api_key=os.environ.get(\"OPENAI_API_KEY\")\n",
    "pinecone_key=os.environ.get('PINCONE_KEY')\n"
   ]
  },
  {
   "cell_type": "code",
   "execution_count": 3,
   "id": "85b7a81a-a4c2-41dc-ad26-5e628f28a1f1",
   "metadata": {},
   "outputs": [],
   "source": [
    "client=OpenAI(api_key=api_key)\n",
    "INDEX_NAME='semantic-search-test'\n",
    "NAMESPACE='default'\n",
    "ENGINE ='text-embedding-3-large' # has vector size 3072\n",
    "pc=Pinecone(api_key=pinecone_key)"
   ]
  },
  {
   "cell_type": "code",
   "execution_count": 4,
   "id": "17466d7a-2eca-4c0f-8962-4b0c6199029d",
   "metadata": {},
   "outputs": [
    {
     "name": "stdout",
     "output_type": "stream",
     "text": [
      "3072\n",
      "[3072, 3072]\n"
     ]
    }
   ],
   "source": [
    "def get_embeddings(texts, engine=ENGINE):\n",
    "    response = client.embeddings.create(input=texts, model=engine)\n",
    "  \n",
    "    return [item.embedding for item in response.data] \n",
    "\n",
    "def get_embedding(text, engine=ENGINE):\n",
    "    if isinstance(text, list):\n",
    "        return get_embeddings(text, engine)\n",
    "    else:\n",
    "        return get_embeddings([text], engine)[0]\n",
    "\n",
    "# Test both cases\n",
    "print(len(get_embedding('hi')))  # Should return the length of a single embedding\n",
    "print([len(embedding) for embedding in get_embedding(['hi', 'hello'])])  # Should return lengths of multiple embeddings\n"
   ]
  },
  {
   "cell_type": "code",
   "execution_count": 5,
   "id": "78a4c8b0-571e-4282-bd4a-df6ee60d6935",
   "metadata": {},
   "outputs": [],
   "source": [
    "if INDEX_NAME not in pc.list_indexes().names():\n",
    "    print(f'creating index {INDEX_NAME}')\n",
    "    pc.create_index(\n",
    "        name=INDEX_NAME,# le nom d'index\n",
    "        dimension=3072,\n",
    "        metric='cosine',\n",
    "        spec=ServerlessSpec(\n",
    "        cloud=\"aws\",\n",
    "        region=\"us-east-1\"\n",
    "    ) )# the similarity to  use when seaching the index\n",
    "index = pc.Index(name=INDEX_NAME)"
   ]
  },
  {
   "cell_type": "code",
   "execution_count": 6,
   "id": "76197804-49af-4536-a9fe-7ee2c90e1e61",
   "metadata": {},
   "outputs": [
    {
     "data": {
      "text/plain": [
       "{'dimension': 3072,\n",
       " 'index_fullness': 0.0,\n",
       " 'namespaces': {'default': {'vector_count': 983}},\n",
       " 'total_vector_count': 983}"
      ]
     },
     "execution_count": 6,
     "metadata": {},
     "output_type": "execute_result"
    }
   ],
   "source": [
    "index.describe_index_stats()"
   ]
  },
  {
   "cell_type": "code",
   "execution_count": 7,
   "id": "a88e00be-1183-4675-b48c-686a7c1de99c",
   "metadata": {},
   "outputs": [
    {
     "data": {
      "text/plain": [
       "'de6838252f95d3b9e803b28df33b4baa'"
      ]
     },
     "execution_count": 7,
     "metadata": {},
     "output_type": "execute_result"
    }
   ],
   "source": [
    "def my_hash(s):\n",
    "    return hashlib.md5(s.encode()).hexdigest()\n",
    "                       \n",
    "                       \n",
    "my_hash(\"salam\")"
   ]
  },
  {
   "cell_type": "code",
   "execution_count": 32,
   "id": "a90034e1-be08-4d98-aebb-ae465aa7e992",
   "metadata": {},
   "outputs": [
    {
     "name": "stdout",
     "output_type": "stream",
     "text": [
      "le text est \n",
      "\n",
      "['Bonjour', 'je', 'what', 'fin', 'wahat']\n",
      "ID: ebc58ab2cb4848d04ec23d83f7ddf985\n",
      "Embedding length: 3072\n",
      "Metadata: {'text': 'Bonjour', 'date_uploaded': datetime.datetime(2024, 10, 13, 11, 42, 43, 228563)}\n",
      "ID: 79563e90630af3525dff01b6638b0886\n",
      "Embedding length: 3072\n",
      "Metadata: {'text': 'je', 'date_uploaded': datetime.datetime(2024, 10, 13, 11, 42, 43, 228563)}\n",
      "ID: 4a2028eceac5e1f4d252ea13c71ecec6\n",
      "Embedding length: 3072\n",
      "Metadata: {'text': 'what', 'date_uploaded': datetime.datetime(2024, 10, 13, 11, 42, 43, 228563)}\n",
      "ID: d79695776a5b40f7cadbee1f91a85c82\n",
      "Embedding length: 3072\n",
      "Metadata: {'text': 'fin', 'date_uploaded': datetime.datetime(2024, 10, 13, 11, 42, 43, 228563)}\n",
      "ID: 95bdfaa8cc9121e57e87ee55bc9c43c7\n",
      "Embedding length: 3072\n",
      "Metadata: {'text': 'wahat', 'date_uploaded': datetime.datetime(2024, 10, 13, 11, 42, 43, 228563)}\n"
     ]
    }
   ],
   "source": [
    "def prepare_for_pinecone(texts, engine=ENGINE):\n",
    "    now = datetime.utcnow()\n",
    "    print(\"le text est \\n\")\n",
    "    print(texts)\n",
    "    embeddings = get_embeddings(texts, engine=engine)\n",
    "    # Create tuples of (ID, embedding, metadata) for each text\n",
    "    return [\n",
    "        (my_hash(text),  # unique ID for the string\n",
    "         embedding,      # the embedding for the text\n",
    "         dict(text=text, date_uploaded=now))  # metadata dictionary\n",
    "        for text, embedding in zip(texts, embeddings)\n",
    "    ]\n",
    "\n",
    "# Example usage:\n",
    "texts = ['Bonjour', 'je', \"what\", \"fin\", \"wahat\"]\n",
    "prepared_data = prepare_for_pinecone(texts)\n",
    "\n",
    "# Unpacking the first result\n",
    "for _id, embedding, metadata in prepared_data:\n",
    "    print('ID:', _id)\n",
    "    print('Embedding length:', len(embedding))\n",
    "    print('Metadata:', metadata)\n"
   ]
  },
  {
   "cell_type": "code",
   "execution_count": 9,
   "id": "908c8236-cf37-41d1-846f-43deddf64442",
   "metadata": {},
   "outputs": [
    {
     "data": {
      "text/plain": [
       "5"
      ]
     },
     "execution_count": 9,
     "metadata": {},
     "output_type": "execute_result"
    }
   ],
   "source": [
    "def upload_texts_to_pinecone(texts,namespace=NAMESPACE,batch_size=None , Show_progress_bar=False):\n",
    "    total_upserted=0\n",
    "    if not batch_size:\n",
    "        batch_size=len(texts)\n",
    "    _range=range(0,len(texts),batch_size)\n",
    "    for i in tqdm(_range) if Show_progress_bar else _range:\n",
    "        batch=texts[i:i+batch_size]\n",
    "        prepared_texts = prepare_for_pinecone(batch)\n",
    "        total_upserted+=index.upsert(\n",
    "            vectors=prepared_texts,\n",
    "            namespace=namespace)['upserted_count']\n",
    "    return total_upserted\n",
    "upload_texts_to_pinecone(texts)"
   ]
  },
  {
   "cell_type": "code",
   "execution_count": 10,
   "id": "de81a719-a345-43f9-ae7f-19ec42f7456f",
   "metadata": {},
   "outputs": [],
   "source": [
    "def query_from_pinecone(query, top_k=3, include_metadata=True):\n",
    "    # get embedding from THE SAME embedder as the documents\n",
    "    query_embedding = get_embedding(query, engine=ENGINE)\n",
    "\n",
    "    return index.query(\n",
    "      vector=query_embedding,\n",
    "      top_k=top_k,\n",
    "      namespace=NAMESPACE,\n",
    "      include_metadata=include_metadata  \n",
    "    ).get('matches')"
   ]
  },
  {
   "cell_type": "code",
   "execution_count": 11,
   "id": "3f2a6071-295b-4b74-b131-97674277cc99",
   "metadata": {},
   "outputs": [],
   "source": [
    "def delete_texts_from_pinecone(texts, namespace=NAMESPACE):\n",
    "    hashes = [hashlib.md5(text.encode()).hexdigest() for text in texts]\n",
    "\n",
    "    return index.delete(ids=hashes, namespace=namespace)"
   ]
  },
  {
   "cell_type": "markdown",
   "id": "41d0a83c-f9c6-4778-b5bb-d39b2da75a47",
   "metadata": {},
   "source": [
    "# OPEN SOURCE ALTERNATIVE TO EMBEDDING"
   ]
  },
  {
   "cell_type": "code",
   "execution_count": 12,
   "id": "06e43efb-06b0-4e82-b2c4-b0793de85866",
   "metadata": {},
   "outputs": [
    {
     "data": {
      "text/plain": [
       "DatasetDict({\n",
       "    test: Dataset({\n",
       "        features: ['id', 'title', 'context', 'question', 'answers'],\n",
       "        num_rows: 1148\n",
       "    })\n",
       "    train: Dataset({\n",
       "        features: ['id', 'title', 'context', 'question', 'answers'],\n",
       "        num_rows: 11590\n",
       "    })\n",
       "})"
      ]
     },
     "execution_count": 12,
     "metadata": {},
     "output_type": "execute_result"
    }
   ],
   "source": [
    "from datasets import load_dataset\n",
    "dataset = load_dataset(\"xtreme\",\"MLQA.en.en\")\n",
    "dataset['train']=dataset[\"test\"]\n",
    "dataset['test'] = dataset['validation']\n",
    "del dataset['validation']\n",
    "dataset"
   ]
  },
  {
   "cell_type": "code",
   "execution_count": 13,
   "id": "3a19e119-4397-489b-a679-c7b01d2bc8db",
   "metadata": {},
   "outputs": [
    {
     "data": {
      "text/plain": [
       "({'id': 'f251ea56c4f1aa1df270137f7e6d89c0cc1b6ef4',\n",
       "  'title': 'Area 51',\n",
       "  'context': 'In 1994, five unnamed civilian contractors and the widows of contractors Walter Kasza and Robert Frost sued the USAF and the United States Environmental Protection Agency. Their suit, in which they were represented by George Washington University law professor Jonathan Turley, alleged they had been present when large quantities of unknown chemicals had been burned in open pits and trenches at Groom. Biopsies taken from the complainants were analyzed by Rutgers University biochemists, who found high levels of dioxin, dibenzofuran, and trichloroethylene in their body fat. The complainants alleged they had sustained skin, liver, and respiratory injuries due to their work at Groom, and that this had contributed to the deaths of Frost and Kasza. The suit sought compensation for the injuries they had sustained, claiming the USAF had illegally handled toxic materials, and that the EPA had failed in its duty to enforce the Resource Conservation and Recovery Act (which governs handling of dangerous materials). They also sought detailed information about the chemicals to which they were allegedly exposed, hoping this would facilitate the medical treatment of survivors. Congressman Lee H. Hamilton, former chairman of the House Intelligence Committee, told 60 Minutes reporter Lesley Stahl, \"The Air Force is classifying all information about Area 51 in order to protect themselves from a lawsuit.\"',\n",
       "  'question': 'who represented robert frost and walter kasza in their suit?',\n",
       "  'answers': {'answer_start': [218],\n",
       "   'text': ['George Washington University law professor Jonathan Turley']}},\n",
       " {'id': 'f251ea56c4f1aa1df270137f7e6d89c0cc1b6ef4',\n",
       "  'title': 'Area 51',\n",
       "  'context': 'In 1994, five unnamed civilian contractors and the widows of contractors Walter Kasza and Robert Frost sued the USAF and the United States Environmental Protection Agency. Their suit, in which they were represented by George Washington University law professor Jonathan Turley, alleged they had been present when large quantities of unknown chemicals had been burned in open pits and trenches at Groom. Biopsies taken from the complainants were analyzed by Rutgers University biochemists, who found high levels of dioxin, dibenzofuran, and trichloroethylene in their body fat. The complainants alleged they had sustained skin, liver, and respiratory injuries due to their work at Groom, and that this had contributed to the deaths of Frost and Kasza. The suit sought compensation for the injuries they had sustained, claiming the USAF had illegally handled toxic materials, and that the EPA had failed in its duty to enforce the Resource Conservation and Recovery Act (which governs handling of dangerous materials). They also sought detailed information about the chemicals to which they were allegedly exposed, hoping this would facilitate the medical treatment of survivors. Congressman Lee H. Hamilton, former chairman of the House Intelligence Committee, told 60 Minutes reporter Lesley Stahl, \"The Air Force is classifying all information about Area 51 in order to protect themselves from a lawsuit.\"',\n",
       "  'question': 'who represented robert frost and walter kasza in their suit?',\n",
       "  'answers': {'answer_start': [218],\n",
       "   'text': ['George Washington University law professor Jonathan Turley']}})"
      ]
     },
     "execution_count": 13,
     "metadata": {},
     "output_type": "execute_result"
    }
   ],
   "source": [
    "dataset['train'][1] , dataset['train'][1]\n"
   ]
  },
  {
   "cell_type": "code",
   "execution_count": 34,
   "id": "516790f2-16a0-409e-a9ba-fbff92e21d51",
   "metadata": {},
   "outputs": [
    {
     "name": "stderr",
     "output_type": "stream",
     "text": [
      "100%|████████████████████████████████████████████████████████████████████████████████████████████████████████████████████████████████████████████████████████████████████████████████████████████████████████| 1/1 [00:00<?, ?it/s]"
     ]
    },
    {
     "name": "stdout",
     "output_type": "stream",
     "text": [
      "#################\n",
      "['There are many species of bacteria and other microorganisms that live on or inside the healthy human body. In fact, 90% of the cells in (or on) a human body are microbes, by number (much less by mass or volume). Some of these symbionts are necessary for our health. Those that neither help nor harm humans are called commensal organisms.', 'The artwork was created by their associate, George Hardie.  Hipgnosis offered the band a choice of seven designs, but all four members agreed that the prism was by far the best. The final design depicts a glass prism dispersing light into colour. The design represents three elements: the band\\'s stage lighting, the album lyrics, and Wright\\'s request for a \"simple and bold\" design.  The spectrum of light continues through to the gatefold – an idea that Waters came up with. Added shortly afterwards, the gatefold design also includes a visual representation of the heartbeat sound used throughout the album, and the back of the album cover contains Thorgerson\\'s suggestion of another prism recombining the spectrum of light, facilitating interesting layouts of the sleeve in record shops. The light band emanating from the prism on the album cover has six colours, missing indigo compared to the traditional division of the spectrum into red, orange, yellow, green, blue, indigo and violet.  Inside the sleeve were two posters and two pyramid-themed stickers.  One poster bore pictures of the band in concert, overlaid with scattered letters to form PINK FLOYD, and the other an infrared photograph of the Great Pyramids of Giza, created by Powell and Thorgerson.The band were so confident of the quality of Waters\\' lyrics that, for the first time, they printed them on the album\\'s sleeve.', \"The territory that now constitutes Pakistan was the site of several ancient cultures and intertwined with the history of the broader Indian subcontinent. The ancient history involves the Neolithic site of Mehrgarh and the Bronze Age Indus Valley Civilisation, and was later home to kingdoms ruled by people of different faiths and cultures, including Hindus, Indo-Greeks, Muslims, Turco-Mongols, Afghans and Sikhs. The area has been ruled by numerous empires and dynasties, including the Persian Achaemenid Empire, Alexander III of Macedon, the Seleucid Empire, the Indian Maurya Empire, the Gupta Empire, the Arab Umayyad Caliphate, the Delhi Sultanate, the Mongol Empire, the Mughal Empire, the Afghan Durrani Empire, the Sikh Empire (partially) and, most recently, the British Indian Empire. Pakistan is the only country to have been created in the name of Islam. It is an ethnically and linguistically diverse country, with a similarly diverse geography and wildlife. Initially a dominion, Pakistan adopted a constitution in 1956, becoming an Islamic republic. An ethnic civil war and Indian military intervention in 1971 resulted in the secession of East Pakistan as the new country of Bangladesh. In 1973, Pakistan adopted a new constitution which stipulated that all laws are to conform to the injunctions of Islam as laid down in the Quran and Sunnah.A regional and middle power, Pakistan has the sixth-largest standing armed forces in the world and is also a nuclear power as well as a declared nuclear-weapons state, the second in South Asia and the only nation in the Muslim world to have that status. Pakistan has a semi-industrialised economy with a well-integrated agriculture sector and a growing services sector. It is ranked among the emerging and growth-leading economies of the world, and is backed by one of the world's largest and fastest-growing middle class. Pakistan's political history since independence has been characterized by periods of military rule, political instability and conflicts with India. The country continues to face challenging problems, including overpopulation, terrorism, poverty, illiteracy, and corruption. Pakistan is a member of the UN, the Shanghai Cooperation Organisation, the OIC, the Commonwealth of Nations, the SAARC and the Islamic Military Counter Terrorism Coalition.\", 'The Internet (portmanteau of interconnected network) is the global system of interconnected computer networks that use the Internet protocol suite (TCP/IP) to link devices worldwide. It is a network of networks that consists of private, public, academic, business, and government networks of local to global scope, linked by a broad array of electronic, wireless, and optical networking technologies. The Internet carries a vast range of information resources and services, such as the inter-linked hypertext documents and applications of the World Wide Web (WWW), electronic mail, telephony, and file sharing.', 'In Sweden, a four-hole national standard is almost exclusively used. The centers of the holes are 21 mm, 70 mm and 21 mm apart. The guides help keep the paper in a straight line.']\n",
      "###############\n"
     ]
    },
    {
     "name": "stderr",
     "output_type": "stream",
     "text": [
      "\n"
     ]
    }
   ],
   "source": [
    "unique_passages = list(set(dataset['test']['context']))\n",
    "unique_passages=unique_passages[:5]\n",
    "\n",
    "for idx in tqdm(range(0, len(unique_passages), 32)):\n",
    "    passages = unique_passages[idx:idx + 32]\n",
    "    print(\"#################\")\n",
    "    print(passages)\n",
    "    print(\"###############\")"
   ]
  },
  {
   "cell_type": "code",
   "execution_count": 35,
   "id": "11c7d1d2-3677-40aa-8dae-0039ce82985a",
   "metadata": {},
   "outputs": [
    {
     "name": "stderr",
     "output_type": "stream",
     "text": [
      "  0%|                                                                                                                                                                                                        | 0/1 [00:00<?, ?it/s]"
     ]
    },
    {
     "name": "stdout",
     "output_type": "stream",
     "text": [
      "le text est \n",
      "\n",
      "['There are many species of bacteria and other microorganisms that live on or inside the healthy human body. In fact, 90% of the cells in (or on) a human body are microbes, by number (much less by mass or volume). Some of these symbionts are necessary for our health. Those that neither help nor harm humans are called commensal organisms.', 'The artwork was created by their associate, George Hardie.  Hipgnosis offered the band a choice of seven designs, but all four members agreed that the prism was by far the best. The final design depicts a glass prism dispersing light into colour. The design represents three elements: the band\\'s stage lighting, the album lyrics, and Wright\\'s request for a \"simple and bold\" design.  The spectrum of light continues through to the gatefold – an idea that Waters came up with. Added shortly afterwards, the gatefold design also includes a visual representation of the heartbeat sound used throughout the album, and the back of the album cover contains Thorgerson\\'s suggestion of another prism recombining the spectrum of light, facilitating interesting layouts of the sleeve in record shops. The light band emanating from the prism on the album cover has six colours, missing indigo compared to the traditional division of the spectrum into red, orange, yellow, green, blue, indigo and violet.  Inside the sleeve were two posters and two pyramid-themed stickers.  One poster bore pictures of the band in concert, overlaid with scattered letters to form PINK FLOYD, and the other an infrared photograph of the Great Pyramids of Giza, created by Powell and Thorgerson.The band were so confident of the quality of Waters\\' lyrics that, for the first time, they printed them on the album\\'s sleeve.', \"The territory that now constitutes Pakistan was the site of several ancient cultures and intertwined with the history of the broader Indian subcontinent. The ancient history involves the Neolithic site of Mehrgarh and the Bronze Age Indus Valley Civilisation, and was later home to kingdoms ruled by people of different faiths and cultures, including Hindus, Indo-Greeks, Muslims, Turco-Mongols, Afghans and Sikhs. The area has been ruled by numerous empires and dynasties, including the Persian Achaemenid Empire, Alexander III of Macedon, the Seleucid Empire, the Indian Maurya Empire, the Gupta Empire, the Arab Umayyad Caliphate, the Delhi Sultanate, the Mongol Empire, the Mughal Empire, the Afghan Durrani Empire, the Sikh Empire (partially) and, most recently, the British Indian Empire. Pakistan is the only country to have been created in the name of Islam. It is an ethnically and linguistically diverse country, with a similarly diverse geography and wildlife. Initially a dominion, Pakistan adopted a constitution in 1956, becoming an Islamic republic. An ethnic civil war and Indian military intervention in 1971 resulted in the secession of East Pakistan as the new country of Bangladesh. In 1973, Pakistan adopted a new constitution which stipulated that all laws are to conform to the injunctions of Islam as laid down in the Quran and Sunnah.A regional and middle power, Pakistan has the sixth-largest standing armed forces in the world and is also a nuclear power as well as a declared nuclear-weapons state, the second in South Asia and the only nation in the Muslim world to have that status. Pakistan has a semi-industrialised economy with a well-integrated agriculture sector and a growing services sector. It is ranked among the emerging and growth-leading economies of the world, and is backed by one of the world's largest and fastest-growing middle class. Pakistan's political history since independence has been characterized by periods of military rule, political instability and conflicts with India. The country continues to face challenging problems, including overpopulation, terrorism, poverty, illiteracy, and corruption. Pakistan is a member of the UN, the Shanghai Cooperation Organisation, the OIC, the Commonwealth of Nations, the SAARC and the Islamic Military Counter Terrorism Coalition.\", 'The Internet (portmanteau of interconnected network) is the global system of interconnected computer networks that use the Internet protocol suite (TCP/IP) to link devices worldwide. It is a network of networks that consists of private, public, academic, business, and government networks of local to global scope, linked by a broad array of electronic, wireless, and optical networking technologies. The Internet carries a vast range of information resources and services, such as the inter-linked hypertext documents and applications of the World Wide Web (WWW), electronic mail, telephony, and file sharing.', 'In Sweden, a four-hole national standard is almost exclusively used. The centers of the holes are 21 mm, 70 mm and 21 mm apart. The guides help keep the paper in a straight line.']\n"
     ]
    },
    {
     "name": "stderr",
     "output_type": "stream",
     "text": [
      "100%|████████████████████████████████████████████████████████████████████████████████████████████████████████████████████████████████████████████████████████████████████████████████████████████████| 1/1 [00:01<00:00,  1.89s/it]\n"
     ]
    }
   ],
   "source": [
    "from tqdm import tqdm\n",
    "for idx in tqdm(range(0, len(unique_passages), 32)):\n",
    "    passages = unique_passages[idx:idx + 32]\n",
    "    upload_texts_to_pinecone(passages)"
   ]
  },
  {
   "cell_type": "code",
   "execution_count": 31,
   "id": "f29b7d89-454e-4fdf-9298-fff28f565900",
   "metadata": {},
   "outputs": [
    {
     "data": {
      "text/plain": [
       "{'dimension': 3072,\n",
       " 'index_fullness': 0.0,\n",
       " 'namespaces': {'default': {'vector_count': 983}},\n",
       " 'total_vector_count': 983}"
      ]
     },
     "execution_count": 31,
     "metadata": {},
     "output_type": "execute_result"
    }
   ],
   "source": [
    "index.describe_index_stats()"
   ]
  },
  {
   "cell_type": "code",
   "execution_count": null,
   "id": "d275803a-3f97-4e9f-a2c5-843703b9a4cd",
   "metadata": {},
   "outputs": [],
   "source": [
    "dataset['test'][0]"
   ]
  },
  {
   "cell_type": "code",
   "execution_count": 32,
   "id": "ed0d2758-da0d-4e09-9100-b6daebfc5272",
   "metadata": {},
   "outputs": [
    {
     "data": {
      "text/plain": [
       "[{'id': '2f90090e21f19450887d5f3ff781e541',\n",
       "  'metadata': {'date_uploaded': '2024-10-11T08:04:25.984832',\n",
       "               'text': 'Pappataci fever is prevalent in the subtropical zone of '\n",
       "                       'the Eastern Hemisphere between 20°N and 45°N, '\n",
       "                       'particularly in Southern Europe, North Africa, the '\n",
       "                       'Balkans, Eastern Mediterranean, Iraq, Iran, Pakistan, '\n",
       "                       'Afghanistan and India.The disease is transmitted by the '\n",
       "                       'bites of phlebotomine sandflies of the Genus '\n",
       "                       'Phlebotomus, in particular, Phlebotomus papatasi, '\n",
       "                       'Phlebotomus perniciosus and Phlebotomus perfiliewi. The '\n",
       "                       'sandfly becomes infected when biting an infected human '\n",
       "                       'in the period between 48 hours before the onset of '\n",
       "                       'fever and 24 hours after the end of the fever, and '\n",
       "                       'remains infected for its lifetime. Besides this '\n",
       "                       'horizontal virus transmission from man to sandfly, the '\n",
       "                       'virus can be transmitted in insects transovarially, '\n",
       "                       'from an infected female sandfly to its '\n",
       "                       'offspring.Pappataci fever is seldom recognised in '\n",
       "                       'endemic populations because it is mixed with other '\n",
       "                       'febrile illnesses of childhood, but it is more '\n",
       "                       'well-known among immigrants and military personnel from '\n",
       "                       'non-endemic regions.'},\n",
       "  'score': 0.441081107,\n",
       "  'values': []},\n",
       " {'id': '00661b04eb84a4664717245513ea30cd',\n",
       "  'metadata': {'date_uploaded': '2024-10-11T08:04:16.915761',\n",
       "               'text': 'Paratyphoid fever, also known simply as paratyphoid, is '\n",
       "                       'a bacterial infection caused by one of the three types '\n",
       "                       'of Salmonella enterica. Symptoms usually begin 6–30 '\n",
       "                       'days after exposure and are the same as those of '\n",
       "                       'typhoid fever. Often, a gradual onset of a high fever '\n",
       "                       'occurs over several days. Weakness, loss of appetite, '\n",
       "                       'and headaches also commonly occur. Some people develop '\n",
       "                       'a skin rash with rose-colored spots. Without treatment, '\n",
       "                       'symptoms may last weeks or months. Other people may '\n",
       "                       'carry the bacteria without being affected; however, '\n",
       "                       'they are still able to spread the disease to others. '\n",
       "                       'Both typhoid and paratyphoid are of similar severity. '\n",
       "                       'Paratyphoid and typhoid fever are types of enteric '\n",
       "                       'fever.Paratyphoid is caused by the bacterium Salmonella '\n",
       "                       'enterica of the serotypes Paratyphi A, Paratyphi B, or '\n",
       "                       'Paratyphi C growing in the intestines and blood. They '\n",
       "                       'are usually spread by eating or drinking food or water '\n",
       "                       'contaminated with the feces of an infected person. They '\n",
       "                       'may occur when a person who prepares food is infected. '\n",
       "                       'Risk factors include poor sanitation as is found among '\n",
       "                       'poor crowded populations. Occasionally, they may be '\n",
       "                       'transmitted by sex. Humans are the only animals '\n",
       "                       'infected. Diagnosis may be based on symptoms and '\n",
       "                       'confirmed by either culturing the bacteria or detecting '\n",
       "                       'the bacterial DNA in the blood, stool, or bone marrow. '\n",
       "                       'Culturing the bacteria can be difficult. Bone-marrow '\n",
       "                       'testing is the most accurate. Symptoms are similar to '\n",
       "                       'that of many other infectious diseases. Typhus is an '\n",
       "                       'unrelated disease.While no vaccine is available '\n",
       "                       'specifically for paratyphoid, the typhoid vaccine may '\n",
       "                       'provide some benefit. Prevention includes drinking '\n",
       "                       'clean water, better sanitation, and better handwashing. '\n",
       "                       'Treatment of the disease is with antibiotics such as '\n",
       "                       'azithromycin. Resistance to a number of other '\n",
       "                       'previously effective antibiotics is common.Paratyphoid '\n",
       "                       'affects about six million people a year. It is most '\n",
       "                       'common in parts of Asia and rare in the developed '\n",
       "                       'world. Most cases are due to Paratyphi A rather than '\n",
       "                       'Paratyphi B or C. In 2015, paratyphoid fever resulted '\n",
       "                       'in about 29,200 deaths, down from 63,000 deaths in '\n",
       "                       '1990. The risk of death is between 10 and 15% without '\n",
       "                       'treatment, while with treatment, it may be less than '\n",
       "                       '1%.'},\n",
       "  'score': 0.326396048,\n",
       "  'values': []},\n",
       " {'id': '24d322a7ce10e9e2fa12fcf54f50c651',\n",
       "  'metadata': {'date_uploaded': '2024-10-11T08:03:51.988732',\n",
       "               'text': 'Although Aronson isolated this mycobacterium in 1926 '\n",
       "                       'from a fish, it was not until 1951 that it was found to '\n",
       "                       'be the cause of human disease by Linell and Norden. '\n",
       "                       'Large outbreaks of infection due to this atypical '\n",
       "                       'mycobacterium have been described in association with '\n",
       "                       'swimming. Infections related to swimming pools have now '\n",
       "                       'drastically fallen due to the improvements in the '\n",
       "                       'construction and maintenance of these facilities.The '\n",
       "                       'first case of M. marinum infection associated with a '\n",
       "                       \"fish-tank ('fish-tank granuloma') was reported in 1962 \"\n",
       "                       'by Swift and Cohen. M. marinum infection may be an '\n",
       "                       'occupational hazard for certain professions such as pet '\n",
       "                       'shop workers, but most infections occur in fish '\n",
       "                       'fanciers who keep an aquarium at home. Although '\n",
       "                       'infection may be caused by direct injury from the fish '\n",
       "                       'fins or bites, most are acquired during the handling of '\n",
       "                       'the aquariums such as cleaning or changing the water. '\n",
       "                       'Indirect infection has also been described related to a '\n",
       "                       'child’s bathing utensils that had been used to clean a '\n",
       "                       'fish tank. Due to an increased awareness of the disease '\n",
       "                       'and improved isolation methods, more and more cases are '\n",
       "                       'being recognized and reported worldwide.'},\n",
       "  'score': 0.298793,\n",
       "  'values': []}]"
      ]
     },
     "execution_count": 32,
     "metadata": {},
     "output_type": "execute_result"
    }
   ],
   "source": [
    "query_from_pinecone(\"Does an infection for Sandflies go away over time ?\")"
   ]
  },
  {
   "cell_type": "markdown",
   "id": "7a3c3d11-1f28-4372-867b-4da4ffe564d6",
   "metadata": {},
   "source": [
    "#  Using cross-encoder"
   ]
  },
  {
   "cell_type": "code",
   "execution_count": 34,
   "id": "c9d94ff0-7c03-4602-b6ad-850dcfec7a51",
   "metadata": {},
   "outputs": [],
   "source": [
    "from sentence_transformers.cross_encoder import CrossEncoder\n",
    "import numpy as np\n",
    "from torch import nn\n",
    "\n"
   ]
  },
  {
   "cell_type": "code",
   "execution_count": 35,
   "id": "a0339c2a-1ce5-452a-89d2-e465d272e1a3",
   "metadata": {},
   "outputs": [],
   "source": [
    "from copy import copy\n",
    "\n",
    "def get_results_from_pinecone(query, top_k=3, re_rank_model=None, verbose=True, correct_hash=None):\n",
    "    results_from_pinecone = query_from_pinecone(query, top_k=top_k)\n",
    "    if not results_from_pinecone:\n",
    "        return []\n",
    "    if verbose:\n",
    "        print(\"Query:\", query)\n",
    "    final_results = []\n",
    "\n",
    "    retrieved_correct_position, reranked_correct_position = None, None\n",
    "    for idx, result_from_pinecone in enumerate(results_from_pinecone):\n",
    "        if correct_hash and result_from_pinecone['id'] == correct_hash:\n",
    "            retrieved_correct_position = idx\n",
    "\n",
    "    if re_rank_model is not None:\n",
    "        if verbose:\n",
    "            print('Document ID (Hash)\\t\\tRetrieval Score\\tCE Score\\tText')\n",
    "\n",
    "        sentence_combinations = [[query, result_from_pinecone['metadata']['text']] for result_from_pinecone in results_from_pinecone]\n",
    "\n",
    "        # Compute the similarity scores for these combinations\n",
    "        similarity_scores = re_rank_model.predict(sentence_combinations, activation_fct=nn.Sigmoid())\n",
    "\n",
    "        # Sort the scores in decreasing order\n",
    "        sim_scores_argsort = list(reversed(np.argsort(similarity_scores)))\n",
    "        sim_scores_sort = list(reversed(np.sort(similarity_scores)))\n",
    "        top_re_rank_score = sim_scores_sort[0]\n",
    "\n",
    "        # Print the scores\n",
    "        for idx in sim_scores_argsort:\n",
    "            result_from_pinecone = results_from_pinecone[idx]\n",
    "            if correct_hash and result_from_pinecone['id'] == correct_hash:\n",
    "                reranked_correct_position = idx\n",
    "            final_results.append({'score': similarity_scores[idx], 'id': result_from_pinecone['id'], 'metadata': result_from_pinecone['metadata']})\n",
    "            if verbose:\n",
    "                print(f\"{result_from_pinecone['id']}\\t{result_from_pinecone['score']:.2f}\\t{similarity_scores[idx]:.6f}\\t{result_from_pinecone['metadata']['text'][:50]}\")\n",
    "        return {'final_results': final_results, 'retrieved_correct_position': retrieved_correct_position, 'reranked_correct_position': reranked_correct_position, 'results_from_pinecone': results_from_pinecone, 'top_re_rank_score': top_re_rank_score}\n",
    "\n",
    "    if verbose:\n",
    "        print('Document ID (Hash)\\t\\tRetrieval Score\\tText')\n",
    "    for result_from_pinecone in results_from_pinecone:\n",
    "        final_results.append(result_from_pinecone)\n",
    "        if verbose:\n",
    "            print(f\"{result_from_pinecone['id']}\\t{result_from_pinecone['score']:.2f}\\t{result_from_pinecone['metadata']['text'][:50]}\")\n",
    "\n",
    "    return {'final_results': final_results, 'retrieved_correct_position': retrieved_correct_position, 'reranked_correct_position': reranked_correct_position}"
   ]
  },
  {
   "cell_type": "code",
   "execution_count": 36,
   "id": "fc824dc5-5e04-46b3-a740-19f275106384",
   "metadata": {},
   "outputs": [
    {
     "data": {
      "application/vnd.jupyter.widget-view+json": {
       "model_id": "3e2ea8c23e83414d8263280d3f28c0b0",
       "version_major": 2,
       "version_minor": 0
      },
      "text/plain": [
       "config.json:   0%|          | 0.00/791 [00:00<?, ?B/s]"
      ]
     },
     "metadata": {},
     "output_type": "display_data"
    },
    {
     "name": "stderr",
     "output_type": "stream",
     "text": [
      "C:\\Users\\simo_\\anaconda3\\lib\\site-packages\\huggingface_hub\\file_download.py:159: UserWarning: `huggingface_hub` cache-system uses symlinks by default to efficiently store duplicated files but your machine does not support them in C:\\Users\\simo_\\.cache\\huggingface\\hub\\models--cross-encoder--ms-marco-MiniLM-L-12-v2. Caching files will still work but in a degraded version that might require more space on your disk. This warning can be disabled by setting the `HF_HUB_DISABLE_SYMLINKS_WARNING` environment variable. For more details, see https://huggingface.co/docs/huggingface_hub/how-to-cache#limitations.\n",
      "To support symlinks on Windows, you either need to activate Developer Mode or to run Python as an administrator. In order to see activate developer mode, see this article: https://docs.microsoft.com/en-us/windows/apps/get-started/enable-your-device-for-development\n",
      "  warnings.warn(message)\n"
     ]
    },
    {
     "data": {
      "application/vnd.jupyter.widget-view+json": {
       "model_id": "44e95659d2d9486eb68c70482fdc0296",
       "version_major": 2,
       "version_minor": 0
      },
      "text/plain": [
       "pytorch_model.bin:   0%|          | 0.00/134M [00:00<?, ?B/s]"
      ]
     },
     "metadata": {},
     "output_type": "display_data"
    },
    {
     "data": {
      "application/vnd.jupyter.widget-view+json": {
       "model_id": "3e7b8ab17b4e41cc9a6e22a7aec3ad58",
       "version_major": 2,
       "version_minor": 0
      },
      "text/plain": [
       "tokenizer_config.json:   0%|          | 0.00/316 [00:00<?, ?B/s]"
      ]
     },
     "metadata": {},
     "output_type": "display_data"
    },
    {
     "data": {
      "application/vnd.jupyter.widget-view+json": {
       "model_id": "77e18ec68e1242fea17976433502c299",
       "version_major": 2,
       "version_minor": 0
      },
      "text/plain": [
       "vocab.txt:   0%|          | 0.00/232k [00:00<?, ?B/s]"
      ]
     },
     "metadata": {},
     "output_type": "display_data"
    },
    {
     "data": {
      "application/vnd.jupyter.widget-view+json": {
       "model_id": "83c257fb56204b34a64db56304801b97",
       "version_major": 2,
       "version_minor": 0
      },
      "text/plain": [
       "special_tokens_map.json:   0%|          | 0.00/112 [00:00<?, ?B/s]"
      ]
     },
     "metadata": {},
     "output_type": "display_data"
    }
   ],
   "source": [
    "# Pre-trained cross encoder\n",
    "cross_encoder = CrossEncoder('cross-encoder/ms-marco-MiniLM-L-12-v2', num_labels=1)\n",
    "\n",
    "q_to_hash = {data['question']: my_hash(data['context']) for data in dataset['test']}"
   ]
  },
  {
   "cell_type": "code",
   "execution_count": 39,
   "id": "aae09ce3-c472-4e24-b752-108eeeeec31a",
   "metadata": {},
   "outputs": [
    {
     "data": {
      "text/plain": [
       "1148"
      ]
     },
     "execution_count": 39,
     "metadata": {},
     "output_type": "execute_result"
    }
   ],
   "source": [
    "unique_inputs = list(set(dataset['test']['question']))\n",
    "len(unique_inputs)"
   ]
  },
  {
   "cell_type": "code",
   "execution_count": 40,
   "id": "81bf64fd-2cf2-4279-87e7-0e1a56e8b7a3",
   "metadata": {},
   "outputs": [
    {
     "name": "stderr",
     "output_type": "stream",
     "text": [
      "C:\\Users\\simo_\\anaconda3\\lib\\site-packages\\transformers\\models\\bert\\modeling_bert.py:439: UserWarning: 1Torch was not compiled with flash attention. (Triggered internally at C:\\actions-runner\\_work\\pytorch\\pytorch\\builder\\windows\\pytorch\\aten\\src\\ATen\\native\\transformers\\cuda\\sdp_utils.cpp:555.)\n",
      "  attn_output = torch.nn.functional.scaled_dot_product_attention(\n"
     ]
    },
    {
     "data": {
      "text/plain": [
       "(0, 0)"
      ]
     },
     "execution_count": 40,
     "metadata": {},
     "output_type": "execute_result"
    }
   ],
   "source": [
    "query = unique_inputs[0]\n",
    "\n",
    "query_result = get_results_from_pinecone(\n",
    "    query, \n",
    "    top_k=2, # grab 2 results\n",
    "    re_rank_model=cross_encoder, \n",
    "    correct_hash=q_to_hash[query],\n",
    "    verbose=False\n",
    "    )\n",
    "\n",
    "query_result['retrieved_correct_position'], query_result['reranked_correct_position']"
   ]
  },
  {
   "cell_type": "code",
   "execution_count": 46,
   "id": "18e9e2a5-1588-4766-b058-2305f951c3c4",
   "metadata": {},
   "outputs": [],
   "source": [
    "from sentence_transformers import SentenceTransformer\n"
   ]
  },
  {
   "cell_type": "code",
   "execution_count": 47,
   "id": "559f5446-f3ea-4540-9d61-33a7dd1a4291",
   "metadata": {},
   "outputs": [],
   "source": [
    "bi_encoder = SentenceTransformer(\"sentence-transformers/all-mpnet-base-v2\")\n"
   ]
  },
  {
   "cell_type": "code",
   "execution_count": 48,
   "id": "6ba5454b-9af2-4962-a9de-39a59e9ad859",
   "metadata": {},
   "outputs": [
    {
     "data": {
      "application/vnd.jupyter.widget-view+json": {
       "model_id": "a8db277ef7014215a527912973c22510",
       "version_major": 2,
       "version_minor": 0
      },
      "text/plain": [
       "Batches:   0%|          | 0/36 [00:00<?, ?it/s]"
      ]
     },
     "metadata": {},
     "output_type": "display_data"
    }
   ],
   "source": [
    "docs = dataset['test']['context']\n",
    "doc_emb = bi_encoder.encode(docs, batch_size=32, show_progress_bar=True)"
   ]
  },
  {
   "cell_type": "code",
   "execution_count": 49,
   "id": "e75449ab-def5-4ec8-a10e-366c84f008f7",
   "metadata": {},
   "outputs": [
    {
     "data": {
      "text/plain": [
       "(1148, 768)"
      ]
     },
     "execution_count": 49,
     "metadata": {},
     "output_type": "execute_result"
    }
   ],
   "source": [
    "doc_emb.shape\n"
   ]
  },
  {
   "cell_type": "code",
   "execution_count": 53,
   "id": "a6731590-ff8a-4a16-be17-9983ad525d26",
   "metadata": {},
   "outputs": [
    {
     "name": "stdout",
     "output_type": "stream",
     "text": [
      "768\n"
     ]
    }
   ],
   "source": []
  },
  {
   "cell_type": "code",
   "execution_count": null,
   "id": "356a5ab9-347a-4bb7-b181-47c8e0e8682e",
   "metadata": {},
   "outputs": [],
   "source": [
    "query = unique_inputs[0]\n",
    "print(query)\n",
    "\n",
    "for t in dataset['test']:\n",
    "    if t['question'] == query:\n",
    "        print(t['context'])"
   ]
  },
  {
   "cell_type": "code",
   "execution_count": 55,
   "id": "da3f7963-ef34-4ea3-b29f-898d57666e33",
   "metadata": {},
   "outputs": [],
   "source": [
    "from sentence_transformers.util import semantic_search\n",
    "\n",
    "def find_most_similar(text, embeddings, documents, k=3):\n",
    "    query_embedding = bi_encoder.encode([text], show_progress_bar=False)\n",
    "    similarities = semantic_search(query_embedding, embeddings, top_k=k)\n",
    "    return [(documents[sim['corpus_id']], sim['score'], sim['corpus_id']) for sim in similarities[0]]"
   ]
  },
  {
   "cell_type": "code",
   "execution_count": 56,
   "id": "7fa68233-3127-4270-98bf-2ef464f6e5c8",
   "metadata": {},
   "outputs": [
    {
     "name": "stdout",
     "output_type": "stream",
     "text": [
      "What is Merced also known as?\n"
     ]
    }
   ],
   "source": [
    "from random import sample\n",
    "\n",
    "query = sample(dataset['test']['question'], 1)[0]\n",
    "print(query)"
   ]
  },
  {
   "cell_type": "code",
   "execution_count": 57,
   "id": "1614f23b-1882-4e66-b21c-f1aa0ba1277d",
   "metadata": {},
   "outputs": [],
   "source": [
    "def eval_ranking_open_source(query, top_k=3, re_rank_model=None):\n",
    "    ans = {'retrieved_correct_position': None}\n",
    "    correct_hash = q_to_hash[query]\n",
    "    results = find_most_similar(query, doc_emb, docs, k=top_k)\n",
    "    for idx, (passage, score, doc_idx) in enumerate(results):\n",
    "        if correct_hash == my_hash(passage):\n",
    "            ans['retrieved_correct_position'] =  idx\n",
    "    if re_rank_model is not None:\n",
    "        ans['reranked_correct_position'] = None\n",
    "        sentence_combinations = [(query, r[0]) for r in results]\n",
    "\n",
    "        # Compute the similarity scores for these combinations\n",
    "        similarity_scores = re_rank_model.predict(sentence_combinations, activation_fct=nn.Sigmoid())\n",
    "\n",
    "        # Sort the scores in decreasing order\n",
    "        sim_scores_argsort = list(reversed(np.argsort(similarity_scores)))\n",
    "        for i, idx in enumerate(sim_scores_argsort):\n",
    "            r = results[idx]\n",
    "            if correct_hash and my_hash(r[0]) == correct_hash:\n",
    "                ans['reranked_correct_position'] = i\n",
    "\n",
    "    return ans"
   ]
  },
  {
   "cell_type": "code",
   "execution_count": 59,
   "id": "090649e0-fb80-4f82-b4be-2c1537b273e6",
   "metadata": {},
   "outputs": [
    {
     "data": {
      "text/plain": [
       "{'retrieved_correct_position': 0, 'reranked_correct_position': 0}"
      ]
     },
     "execution_count": 59,
     "metadata": {},
     "output_type": "execute_result"
    }
   ],
   "source": [
    "eval_ranking_open_source(query, top_k=3, re_rank_model=cross_encoder)\n"
   ]
  },
  {
   "cell_type": "code",
   "execution_count": null,
   "id": "ecd493fc-79ba-42a5-b494-13bcf09d0c90",
   "metadata": {},
   "outputs": [],
   "source": []
  }
 ],
 "metadata": {
  "kernelspec": {
   "display_name": "Python 3 (ipykernel)",
   "language": "python",
   "name": "python3"
  },
  "language_info": {
   "codemirror_mode": {
    "name": "ipython",
    "version": 3
   },
   "file_extension": ".py",
   "mimetype": "text/x-python",
   "name": "python",
   "nbconvert_exporter": "python",
   "pygments_lexer": "ipython3",
   "version": "3.9.13"
  }
 },
 "nbformat": 4,
 "nbformat_minor": 5
}
