{
 "cells": [
  {
   "cell_type": "code",
   "execution_count": 28,
   "id": "1242afc8-240a-4a88-bb95-3edc3caf39b9",
   "metadata": {},
   "outputs": [],
   "source": [
    "from openai import OpenAI\n",
    "from pinecone import Pinecone,ServerlessSpec\n",
    "import hashlib\n",
    "from tqdm import tqdm\n",
    "import os"
   ]
  },
  {
   "cell_type": "code",
   "execution_count": 29,
   "id": "7a9838cd-fbca-43eb-a3eb-cbf838f7e6f0",
   "metadata": {},
   "outputs": [],
   "source": [
    "pinecone_key= os.environ.get(\"PINCONE_KEY\")"
   ]
  },
  {
   "cell_type": "code",
   "execution_count": 30,
   "id": "c1bb91e2-716a-4eb1-a331-c4f9515a06ce",
   "metadata": {},
   "outputs": [
    {
     "data": {
      "text/plain": [
       "'1730e46c-a2b9-4493-9dbc-edd7a03dfbc0'"
      ]
     },
     "execution_count": 30,
     "metadata": {},
     "output_type": "execute_result"
    }
   ],
   "source": [
    "pinecone_key"
   ]
  },
  {
   "cell_type": "code",
   "execution_count": 31,
   "id": "fc088cf6-9270-4c9f-9c6f-e62b083d9528",
   "metadata": {},
   "outputs": [],
   "source": [
    "client=OpenAI(api_key=os.environ.get(\"OPENAI_API_KEY\"))\n",
    "INDEX_NAME='semantic-search-rag'\n",
    "NAMESPACE=\"default\"\n",
    "ENGINE='text-embedding-3-small'\n",
    "pc=Pinecone(api_key=pinecone_key)\n",
    "              "
   ]
  },
  {
   "cell_type": "code",
   "execution_count": 32,
   "id": "a40de73c-9d48-4a5c-8ec7-dc3f0ac8bd8e",
   "metadata": {},
   "outputs": [
    {
     "data": {
      "text/plain": [
       "(1536, 2)"
      ]
     },
     "execution_count": 32,
     "metadata": {},
     "output_type": "execute_result"
    }
   ],
   "source": [
    "def get_embeddings(texts,engine=ENGINE):\n",
    "    response=client.embeddings.create(\n",
    "        input=texts,\n",
    "        model=engine\n",
    "    )\n",
    "    return [d.embedding for d in list(response.data)]\n",
    "def get_embedding(text,engine=ENGINE):\n",
    "    return get_embeddings([text],engine)[0]\n",
    "\n",
    "len(get_embedding('hi')),len(get_embeddings(['hi','hello']))"
   ]
  },
  {
   "cell_type": "code",
   "execution_count": 33,
   "id": "7b450bb7-710b-4dc0-93d4-9e2a08bf5a70",
   "metadata": {},
   "outputs": [],
   "source": [
    "def upload_texts_to_pinecone(texts, namespace=NAMESPACE, batch_size=None, show_progress_bar=False, urls=None):\n",
    "    # Call the prepare_for_pinecone function to prepare the input texts for indexing\n",
    "    total_upserted = 0\n",
    "    if not batch_size:\n",
    "        batch_size = len(texts)\n",
    "\n",
    "    _range = range(0, len(texts), batch_size)\n",
    "    for i in tqdm(_range) if show_progress_bar else _range:\n",
    "        text_batch = texts[i: i + batch_size]\n",
    "        if urls:\n",
    "            url_batch = urls[i: i + batch_size]\n",
    "            prepared_texts = prepare_for_pinecone(text_batch, urls=url_batch)\n",
    "        else:\n",
    "            prepared_texts = prepare_for_pinecone(text_batch)\n",
    "\n",
    "\n",
    "        # Use the upsert() method of the index object to upload the prepared texts to Pinecone\n",
    "        total_upserted += index.upsert(\n",
    "            vectors=prepared_texts,\n",
    "            namespace=namespace\n",
    "        )['upserted_count']\n",
    "\n",
    "\n",
    "    return total_upserted"
   ]
  },
  {
   "cell_type": "code",
   "execution_count": 34,
   "id": "b10e4c6b-9b31-4637-b23b-59cf48eccd06",
   "metadata": {},
   "outputs": [
    {
     "data": {
      "text/plain": [
       "<pinecone.data.index.Index at 0x1e04a29dcd0>"
      ]
     },
     "execution_count": 34,
     "metadata": {},
     "output_type": "execute_result"
    }
   ],
   "source": [
    "if INDEX_NAME not in pc.list_indexes().names():  # need to create the index\n",
    "    print(f'Creating index {INDEX_NAME}')\n",
    "    pc.create_index(\n",
    "        name=INDEX_NAME,  # The name of the index\n",
    "        dimension=1536,  # The dimensionality of the vectors for our OpenAI embedder\n",
    "        metric='cosine',  # The similarity metric to use when searching the index\n",
    "        spec=ServerlessSpec(\n",
    "            cloud='aws',\n",
    "            region='us-east-1'\n",
    "        )\n",
    "    )\n",
    "\n",
    "# Store the index as a variable\n",
    "index = pc.Index(name=INDEX_NAME)\n",
    "index"
   ]
  },
  {
   "cell_type": "code",
   "execution_count": 35,
   "id": "05aaeb8d-0055-4e5a-b95a-8d46539af7f3",
   "metadata": {},
   "outputs": [
    {
     "data": {
      "text/plain": [
       "{'dimension': 1536,\n",
       " 'index_fullness': 0.0,\n",
       " 'namespaces': {},\n",
       " 'total_vector_count': 0}"
      ]
     },
     "execution_count": 35,
     "metadata": {},
     "output_type": "execute_result"
    }
   ],
   "source": [
    "index.describe_index_stats()"
   ]
  },
  {
   "cell_type": "code",
   "execution_count": 36,
   "id": "084e40a9-2126-49eb-842e-3293cf19bc37",
   "metadata": {},
   "outputs": [
    {
     "data": {
      "text/plain": [
       "'ae76cc4dfd345ecaeea9b8ba0d5c3437'"
      ]
     },
     "execution_count": 36,
     "metadata": {},
     "output_type": "execute_result"
    }
   ],
   "source": [
    "def my_hash(s):\n",
    "    return hashlib.md5(s.encode()).hexdigest()\n",
    "my_hash('I love to hash it')"
   ]
  },
  {
   "cell_type": "code",
   "execution_count": 37,
   "id": "00e78c33-464f-48c7-95f5-cccf75bbac3b",
   "metadata": {},
   "outputs": [],
   "source": [
    "def prepare_for_pinecone(texts, engine=ENGINE, urls=None):\n",
    "    now = datetime.utcnow()\n",
    "\n",
    "    embeddings = get_embeddings(texts, engine=engine)\n",
    "\n",
    "    \n",
    "    responses = [\n",
    "        (\n",
    "            my_hash(text),\n",
    "            embedding,  \n",
    "            dict(text=text, date_uploaded=now)  \n",
    "        )\n",
    "        for text, embedding in zip(texts, embeddings)  \n",
    "    ]\n",
    "    if urls and len(urls) == len(texts):\n",
    "        for response, url in zip(responses, urls):\n",
    "            response[-1]['url'] = url\n",
    "\n",
    "    return responses"
   ]
  },
  {
   "cell_type": "code",
   "execution_count": 38,
   "id": "43ceaa27-c18d-49bf-82fa-a88dd7038c34",
   "metadata": {},
   "outputs": [],
   "source": [
    "from datetime import datetime"
   ]
  },
  {
   "cell_type": "code",
   "execution_count": 22,
   "id": "3c491fbf-7a8a-448c-951a-e16a76cf6a30",
   "metadata": {},
   "outputs": [
    {
     "name": "stdout",
     "output_type": "stream",
     "text": [
      "ID:   49f68a5c8493ec2c0bf489821c21fc3b \n",
      "LEN:  1536 \n",
      "META: {'text': 'hi', 'date_uploaded': datetime.datetime(2024, 10, 11, 14, 22, 44, 464988)}\n"
     ]
    }
   ],
   "source": [
    "texts = ['hi']\n",
    "\n",
    "_id, embedding, metadata = prepare_for_pinecone(texts)[0]\n",
    "\n",
    "print('ID:  ',_id, '\\nLEN: ', len(embedding), '\\nMETA:', metadata)\n"
   ]
  },
  {
   "cell_type": "code",
   "execution_count": 39,
   "id": "a74e2499-7353-428b-8053-4e0446166857",
   "metadata": {},
   "outputs": [
    {
     "name": "stdout",
     "output_type": "stream",
     "text": [
      "https://faq.ssa.gov/en-US/topic?id=CAT-01092\n"
     ]
    }
   ],
   "source": [
    "base_url = 'https://faq.ssa.gov'\n",
    "medicare_faqs = base_url + '/en-US/topic?id=CAT-01092'\n",
    "print(medicare_faqs)\n",
    "\n",
    "from bs4 import BeautifulSoup\n",
    "import requests\n",
    "\n",
    "# get all links from medicare_faqs\n",
    "urls = []\n",
    "r = requests.get(medicare_faqs)\n",
    "soup = BeautifulSoup(r.content, 'html.parser')\n",
    "for link in soup.find_all('a'):\n",
    "    if 'href' in link.attrs:\n",
    "        if link['href'].startswith('/') and 'article' in link['href']:\n",
    "            urls.append(base_url + link['href'])"
   ]
  },
  {
   "cell_type": "code",
   "execution_count": 40,
   "id": "d169d11b-fda6-4f58-b9ad-eadf17bce8f7",
   "metadata": {},
   "outputs": [
    {
     "data": {
      "text/plain": [
       "['https://faq.ssa.gov/en-us/Topic/article/KA-01735',\n",
       " 'https://faq.ssa.gov/en-us/Topic/article/KA-02713',\n",
       " 'https://faq.ssa.gov/en-us/Topic/article/KA-02125',\n",
       " 'https://faq.ssa.gov/en-us/Topic/article/KA-02131',\n",
       " 'https://faq.ssa.gov/en-us/Topic/article/KA-02166',\n",
       " 'https://faq.ssa.gov/en-us/Topic/article/KA-02983',\n",
       " 'https://faq.ssa.gov/en-us/Topic/article/KA-02995',\n",
       " 'https://faq.ssa.gov/en-us/Topic/article/KA-02137',\n",
       " 'https://faq.ssa.gov/en-us/Topic/article/KA-02154',\n",
       " 'https://faq.ssa.gov/en-us/Topic/article/KA-02113',\n",
       " 'https://faq.ssa.gov/en-us/Topic/article/KA-02148',\n",
       " 'https://faq.ssa.gov/en-us/Topic/article/KA-02989']"
      ]
     },
     "execution_count": 40,
     "metadata": {},
     "output_type": "execute_result"
    }
   ],
   "source": [
    "urls"
   ]
  },
  {
   "cell_type": "code",
   "execution_count": 41,
   "id": "f7d9775f-0c4d-451a-a7d4-fd81b24a9d65",
   "metadata": {
    "tags": []
   },
   "outputs": [
    {
     "name": "stderr",
     "output_type": "stream",
     "text": [
      "100%|████████████████████████████████████████████████████████████████████████████████████████████████████████████████████████████████████████████████████████████████████| 12/12 [00:19<00:00,  1.65s/it]\n"
     ]
    },
    {
     "data": {
      "text/plain": [
       "'\\n\\n\\n\\nYou’re offline. This is a read only version of the page.\\n\\n\\n\\n\\n\\n\\n\\n\\n\\n\\n\\n\\n\\n\\n\\n\\n\\n\\n\\n\\n\\n\\n\\n\\n\\n\\nSkip to content\\n\\n\\n  \\n\\n\\n\\n\\n\\n\\n\\nProtect Yourself from Scams \\n\\n\\n\\n \\n\\n \\n\\n\\n\\n\\nProtect Yourself from Scams\\n\\n\\n\\nSkip to main content Social Security Search  Menu  Español  Sign in\\n\\n\\n\\n\\nFrequently Asked Questions\\n\\n\\n\\n\\nLast Modified: \\n\\n\\n\\n\\n\\n\\n\\n\\n\\n\\n\\n\\n\\n\\n\\n\\n\\nFAQ Home\\n\\n\\nTopics\\n\\n\\r\\n\\t\\t\\t\\t\\tKA-01735\\r\\n\\t\\t\\t\\t\\n\\n\\n\\n\\n\\n Print\\n\\n\\n\\nHow do I get a replacement Medicare card? \\n\\n\\n\\n\\n\\n\\n\\n\\n\\n\\n\\n\\n\\n\\n\\n\\n\\n\\n\\n\\n\\n\\n\\n\\n\\nViews: \\n\\n\\n\\nIf your Medicare card was lost, stolen, or destroyed, you can request a replacement online at Medicare.gov.\\nYou can print an official copy of your card from your online Medicare account \\nor call 1-800-MEDICARE (1-800-633-4227 TTY 1-877-486-2048) to order a replacement card to be sent in the mail.\\n\\n\\n\\n\\n\\n\\n\\n\\n\\n\\n\\n\\n\\n\\n\\n\\n\\n\\nComments (0)\\n\\n\\n\\n\\n\\n\\n\\n\\n\\n\\n\\n\\n\\n\\n\\n\\n\\n\\nFooter menu\\n\\n\\n\\n\\n\\n\\n\\nGive us Feedback.\\n\\nDid this answer your question?\\n\\nNo\\nYes\\nNo\\n\\nThanks for your feedback.\\n\\n\\n\\n\\n\\n\\n'"
      ]
     },
     "execution_count": 41,
     "metadata": {},
     "output_type": "execute_result"
    }
   ],
   "source": [
    "texts = []\n",
    "for url in tqdm(urls):\n",
    "    r = requests.get(url)\n",
    "    soup = BeautifulSoup(r.content, 'html.parser')\n",
    "    body = soup.find('body').get_text()\n",
    "    texts.append(body)\n",
    "\n",
    "texts[0]"
   ]
  },
  {
   "cell_type": "code",
   "execution_count": 42,
   "id": "4ae70b45-2a1f-41ac-8edc-a9ba9797b26d",
   "metadata": {},
   "outputs": [],
   "source": [
    "def upload_texts_to_pinecone(texts, namespace=NAMESPACE, batch_size=None, show_progress_bar=False, urls=None):\n",
    "    # Call the prepare_for_pinecone function to prepare the input texts for indexing\n",
    "    total_upserted = 0\n",
    "    if not batch_size:\n",
    "        batch_size = len(texts)\n",
    "\n",
    "    _range = range(0, len(texts), batch_size)\n",
    "    for i in tqdm(_range) if show_progress_bar else _range:\n",
    "        text_batch = texts[i: i + batch_size]\n",
    "        if urls:\n",
    "            url_batch = urls[i: i + batch_size]\n",
    "            prepared_texts = prepare_for_pinecone(text_batch, urls=url_batch)\n",
    "        else:\n",
    "            prepared_texts = prepare_for_pinecone(text_batch)\n",
    "\n",
    "\n",
    "        # Use the upsert() method of the index object to upload the prepared texts to Pinecone\n",
    "        total_upserted += index.upsert(\n",
    "            vectors=prepared_texts,\n",
    "            namespace=namespace\n",
    "        )['upserted_count']\n",
    "\n",
    "\n",
    "    return total_upserted"
   ]
  },
  {
   "cell_type": "code",
   "execution_count": 43,
   "id": "cd0dfb0c-4f42-4258-94f4-6e1fda17b314",
   "metadata": {},
   "outputs": [
    {
     "name": "stderr",
     "output_type": "stream",
     "text": [
      "100%|██████████████████████████████████████████████████████████████████████████████████████████████████████████████████████████████████████████████████████████████████████| 3/3 [00:03<00:00,  1.12s/it]\n"
     ]
    },
    {
     "data": {
      "text/plain": [
       "12"
      ]
     },
     "execution_count": 43,
     "metadata": {},
     "output_type": "execute_result"
    }
   ],
   "source": [
    "BATCH_SIZE = 4\n",
    "upload_texts_to_pinecone(texts, batch_size=BATCH_SIZE, urls=urls, show_progress_bar=True)"
   ]
  },
  {
   "cell_type": "code",
   "execution_count": null,
   "id": "9f38c745-6cac-481a-8fdc-a6f2d5979192",
   "metadata": {},
   "outputs": [],
   "source": [
    " results = query_from_pinecone('I lost my medicare card', top_k=3)\n",
    " for result in results:\n",
    "    print(result['metadata']['url'], result['score'], result['metadata']['text'][:50])"
   ]
  },
  {
   "cell_type": "code",
   "execution_count": 45,
   "id": "6cdb9df7-31f4-453f-ad71-c8013a1fc036",
   "metadata": {},
   "outputs": [],
   "source": [
    "def query_from_pinecone(query, top_k=3, include_metadata=True):\n",
    "    # get embedding from THE SAME embedder as the documents\n",
    "    query_embedding = get_embedding(query, engine=ENGINE)\n",
    "\n",
    "    return index.query(\n",
    "      vector=query_embedding,\n",
    "      top_k=top_k,\n",
    "      namespace=NAMESPACE,\n",
    "      include_metadata=include_metadata   # gets the metadata (dates, text, etc)\n",
    "    ).get('matches')"
   ]
  },
  {
   "cell_type": "code",
   "execution_count": 46,
   "id": "a5e758aa-a338-4074-907b-9d107aa72552",
   "metadata": {},
   "outputs": [
    {
     "name": "stdout",
     "output_type": "stream",
     "text": [
      "https://faq.ssa.gov/en-us/Topic/article/KA-01735 0.688788414 \n",
      "\n",
      "\n",
      "\n",
      "You’re offline. This is a read only version of\n",
      "https://faq.ssa.gov/en-us/Topic/article/KA-02713 0.518452227 \n",
      "\n",
      "\n",
      "\n",
      "You’re offline. This is a read only version of\n",
      "https://faq.ssa.gov/en-us/Topic/article/KA-02113 0.504733 \n",
      "\n",
      "\n",
      "\n",
      "You’re offline. This is a read only version of\n"
     ]
    }
   ],
   "source": [
    " results = query_from_pinecone('I lost my medicare card', top_k=3)\n",
    " for result in results:\n",
    "    print(result['metadata']['url'], result['score'], result['metadata']['text'][:50])"
   ]
  },
  {
   "cell_type": "code",
   "execution_count": 47,
   "id": "312a40c2-7c16-4bdd-81ad-f0135b97feee",
   "metadata": {},
   "outputs": [
    {
     "name": "stdout",
     "output_type": "stream",
     "text": [
      "Collecting supabase\n",
      "  Downloading supabase-2.9.0-py3-none-any.whl (16 kB)\n",
      "Requirement already satisfied: httpx<0.28,>=0.26 in c:\\users\\simo_\\anaconda3\\lib\\site-packages (from supabase) (0.27.2)\n",
      "Collecting realtime<3.0.0,>=2.0.0\n",
      "  Downloading realtime-2.0.5-py3-none-any.whl (20 kB)\n",
      "Collecting postgrest<0.18.0,>=0.17.0\n",
      "  Downloading postgrest-0.17.1-py3-none-any.whl (22 kB)\n",
      "Collecting storage3<0.9.0,>=0.8.0\n",
      "  Downloading storage3-0.8.1-py3-none-any.whl (16 kB)\n",
      "Requirement already satisfied: typing-extensions<5.0.0,>=4.12.2 in c:\\users\\simo_\\anaconda3\\lib\\site-packages (from supabase) (4.12.2)\n",
      "Collecting gotrue<3.0.0,>=2.7.0\n",
      "  Downloading gotrue-2.9.2-py3-none-any.whl (48 kB)\n",
      "     ---------------------------------------- 48.6/48.6 kB 2.4 MB/s eta 0:00:00\n",
      "Collecting supafunc<0.7.0,>=0.6.0\n",
      "  Downloading supafunc-0.6.1-py3-none-any.whl (6.6 kB)\n",
      "Requirement already satisfied: pydantic<3,>=1.10 in c:\\users\\simo_\\anaconda3\\lib\\site-packages (from gotrue<3.0.0,>=2.7.0->supabase) (2.9.2)\n",
      "Requirement already satisfied: anyio in c:\\users\\simo_\\anaconda3\\lib\\site-packages (from httpx<0.28,>=0.26->supabase) (3.5.0)\n",
      "Requirement already satisfied: sniffio in c:\\users\\simo_\\anaconda3\\lib\\site-packages (from httpx<0.28,>=0.26->supabase) (1.2.0)\n",
      "Requirement already satisfied: idna in c:\\users\\simo_\\anaconda3\\lib\\site-packages (from httpx<0.28,>=0.26->supabase) (3.3)\n",
      "Requirement already satisfied: httpcore==1.* in c:\\users\\simo_\\anaconda3\\lib\\site-packages (from httpx<0.28,>=0.26->supabase) (1.0.5)\n",
      "Requirement already satisfied: certifi in c:\\users\\simo_\\anaconda3\\lib\\site-packages (from httpx<0.28,>=0.26->supabase) (2023.7.22)\n",
      "Requirement already satisfied: h11<0.15,>=0.13 in c:\\users\\simo_\\anaconda3\\lib\\site-packages (from httpcore==1.*->httpx<0.28,>=0.26->supabase) (0.14.0)\n",
      "Collecting strenum<0.5.0,>=0.4.9\n",
      "  Downloading StrEnum-0.4.15-py3-none-any.whl (8.9 kB)\n",
      "Collecting deprecation<3.0.0,>=2.1.0\n",
      "  Downloading deprecation-2.1.0-py2.py3-none-any.whl (11 kB)\n",
      "Requirement already satisfied: websockets<14,>=11 in c:\\users\\simo_\\anaconda3\\lib\\site-packages (from realtime<3.0.0,>=2.0.0->supabase) (13.1)\n",
      "Requirement already satisfied: python-dateutil<3.0.0,>=2.8.1 in c:\\users\\simo_\\anaconda3\\lib\\site-packages (from realtime<3.0.0,>=2.0.0->supabase) (2.8.2)\n",
      "Collecting aiohttp<4.0.0,>=3.10.6\n",
      "  Downloading aiohttp-3.10.10-cp39-cp39-win_amd64.whl (381 kB)\n",
      "     -------------------------------------- 381.8/381.8 kB 4.8 MB/s eta 0:00:00\n",
      "Requirement already satisfied: async-timeout<5.0,>=4.0 in c:\\users\\simo_\\anaconda3\\lib\\site-packages (from aiohttp<4.0.0,>=3.10.6->realtime<3.0.0,>=2.0.0->supabase) (4.0.3)\n",
      "Collecting yarl<2.0,>=1.12.0\n",
      "  Downloading yarl-1.14.0-cp39-cp39-win_amd64.whl (84 kB)\n",
      "     ---------------------------------------- 84.1/84.1 kB 4.9 MB/s eta 0:00:00\n",
      "Requirement already satisfied: multidict<7.0,>=4.5 in c:\\users\\simo_\\anaconda3\\lib\\site-packages (from aiohttp<4.0.0,>=3.10.6->realtime<3.0.0,>=2.0.0->supabase) (6.0.5)\n",
      "Collecting aiohappyeyeballs>=2.3.0\n",
      "  Downloading aiohappyeyeballs-2.4.3-py3-none-any.whl (14 kB)\n",
      "Requirement already satisfied: aiosignal>=1.1.2 in c:\\users\\simo_\\anaconda3\\lib\\site-packages (from aiohttp<4.0.0,>=3.10.6->realtime<3.0.0,>=2.0.0->supabase) (1.3.1)\n",
      "Requirement already satisfied: frozenlist>=1.1.1 in c:\\users\\simo_\\anaconda3\\lib\\site-packages (from aiohttp<4.0.0,>=3.10.6->realtime<3.0.0,>=2.0.0->supabase) (1.4.1)\n",
      "Requirement already satisfied: attrs>=17.3.0 in c:\\users\\simo_\\anaconda3\\lib\\site-packages (from aiohttp<4.0.0,>=3.10.6->realtime<3.0.0,>=2.0.0->supabase) (23.2.0)\n",
      "Requirement already satisfied: packaging in c:\\users\\simo_\\anaconda3\\lib\\site-packages (from deprecation<3.0.0,>=2.1.0->postgrest<0.18.0,>=0.17.0->supabase) (23.2)\n",
      "Collecting h2<5,>=3\n",
      "  Downloading h2-4.1.0-py3-none-any.whl (57 kB)\n",
      "     ---------------------------------------- 57.5/57.5 kB 3.1 MB/s eta 0:00:00\n",
      "Requirement already satisfied: annotated-types>=0.6.0 in c:\\users\\simo_\\anaconda3\\lib\\site-packages (from pydantic<3,>=1.10->gotrue<3.0.0,>=2.7.0->supabase) (0.7.0)\n",
      "Requirement already satisfied: pydantic-core==2.23.4 in c:\\users\\simo_\\anaconda3\\lib\\site-packages (from pydantic<3,>=1.10->gotrue<3.0.0,>=2.7.0->supabase) (2.23.4)\n",
      "Requirement already satisfied: six>=1.5 in c:\\users\\simo_\\anaconda3\\lib\\site-packages (from python-dateutil<3.0.0,>=2.8.1->realtime<3.0.0,>=2.0.0->supabase) (1.16.0)\n",
      "Collecting hpack<5,>=4.0\n",
      "  Downloading hpack-4.0.0-py3-none-any.whl (32 kB)\n",
      "Collecting hyperframe<7,>=6.0\n",
      "  Downloading hyperframe-6.0.1-py3-none-any.whl (12 kB)\n",
      "Collecting propcache>=0.2.0\n",
      "  Downloading propcache-0.2.0-cp39-cp39-win_amd64.whl (45 kB)\n",
      "     ---------------------------------------- 45.6/45.6 kB 2.2 MB/s eta 0:00:00\n",
      "Installing collected packages: strenum, propcache, hyperframe, hpack, deprecation, aiohappyeyeballs, yarl, h2, aiohttp, supafunc, storage3, realtime, postgrest, gotrue, supabase\n",
      "  Attempting uninstall: yarl\n",
      "    Found existing installation: yarl 1.9.4\n",
      "    Uninstalling yarl-1.9.4:\n",
      "      Successfully uninstalled yarl-1.9.4\n"
     ]
    },
    {
     "name": "stderr",
     "output_type": "stream",
     "text": [
      "WARNING: Ignoring invalid distribution -rotobuf (c:\\users\\simo_\\anaconda3\\lib\\site-packages)\n",
      "WARNING: Ignoring invalid distribution -rotobuf (c:\\users\\simo_\\anaconda3\\lib\\site-packages)\n",
      "WARNING: Ignoring invalid distribution -rotobuf (c:\\users\\simo_\\anaconda3\\lib\\site-packages)\n",
      "    WARNING: Ignoring invalid distribution -rotobuf (c:\\users\\simo_\\anaconda3\\lib\\site-packages)\n",
      "ERROR: Could not install packages due to an OSError: [WinError 5] Accès refusé: 'C:\\\\Users\\\\simo_\\\\anaconda3\\\\Lib\\\\site-packages\\\\~arl\\\\_quoting_c.cp39-win_amd64.pyd'\n",
      "Consider using the `--user` option or check the permissions.\n",
      "\n",
      "WARNING: Ignoring invalid distribution -rotobuf (c:\\users\\simo_\\anaconda3\\lib\\site-packages)\n",
      "WARNING: Ignoring invalid distribution -rotobuf (c:\\users\\simo_\\anaconda3\\lib\\site-packages)\n",
      "WARNING: Ignoring invalid distribution -rotobuf (c:\\users\\simo_\\anaconda3\\lib\\site-packages)\n"
     ]
    }
   ],
   "source": []
  },
  {
   "cell_type": "code",
   "execution_count": null,
   "id": "2399326d-71b2-4151-a666-a57cbf4ec41d",
   "metadata": {},
   "outputs": [],
   "source": []
  }
 ],
 "metadata": {
  "kernelspec": {
   "display_name": "Python 3 (ipykernel)",
   "language": "python",
   "name": "python3"
  },
  "language_info": {
   "codemirror_mode": {
    "name": "ipython",
    "version": 3
   },
   "file_extension": ".py",
   "mimetype": "text/x-python",
   "name": "python",
   "nbconvert_exporter": "python",
   "pygments_lexer": "ipython3",
   "version": "3.9.13"
  }
 },
 "nbformat": 4,
 "nbformat_minor": 5
}
