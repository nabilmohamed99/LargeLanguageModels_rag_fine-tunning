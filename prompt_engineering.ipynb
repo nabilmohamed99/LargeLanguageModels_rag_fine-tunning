{
 "cells": [
  {
   "cell_type": "code",
   "execution_count": 1,
   "id": "c7513f5e-fa83-4720-9b41-f42d5e1523d3",
   "metadata": {},
   "outputs": [],
   "source": [
    "from transformers import AutoTokenizer, AutoModelForCausalLM\n"
   ]
  },
  {
   "cell_type": "code",
   "execution_count": 4,
   "id": "e203ec3e-147f-4390-bcb3-bd6915a1e1c9",
   "metadata": {},
   "outputs": [
    {
     "name": "stdout",
     "output_type": "stream",
     "text": [
      "\n",
      "user: Who are you?\n",
      "[Assistant's response here]\n",
      "\n"
     ]
    }
   ],
   "source": [
    "from transformers import AutoTokenizer\n",
    "\n",
    "model_id = \"meta-llama/Llama-3.2-1B\"\n",
    "tokenizer = AutoTokenizer.from_pretrained(model_id)\n",
    "\n",
    "messages = [\n",
    "    {\"role\": \"user\", \"content\": \"Who are you?\"}\n",
    "]\n",
    "\n",
    "# Define a basic chat template with {% endgeneration %}\n",
    "chat_template = \"\"\"\n",
    "{% for message in messages %}\n",
    "{{ message.role }}: {{ message.content }}\n",
    "{% endfor %}\n",
    "{% generation %}\n",
    "[Assistant's response here]\n",
    "{% endgeneration %}\n",
    "\"\"\"\n",
    "\n",
    "# Apply the chat template\n",
    "prompt = tokenizer.apply_chat_template(\n",
    "    messages, \n",
    "    chat_template=chat_template, \n",
    "    tokenize=False, \n",
    "    add_generation_prompt=True\n",
    ")\n",
    "\n",
    "print(prompt)\n"
   ]
  },
  {
   "cell_type": "code",
   "execution_count": 20,
   "id": "948fcbe9-320a-4c28-a6da-c5dafb6c3565",
   "metadata": {},
   "outputs": [
    {
     "name": "stderr",
     "output_type": "stream",
     "text": [
      "Setting `pad_token_id` to `eos_token_id`:128001 for open-end generation.\n"
     ]
    },
    {
     "name": "stdout",
     "output_type": "stream",
     "text": [
      "PROMPT:\n",
      "------\n",
      "<|begin_of_text|><|start_header_id|>user<|end_header_id|>\n",
      "\n",
      " calcul 1+1<|eot_id|><|start_header_id|>assistant<|end_header_id|>\n",
      "\n",
      "\n",
      "------\n",
      "RESPONSE\n",
      "------\n",
      "user\n",
      "\n",
      " calcul 1+1assistant\n",
      "\n",
      "\n"
     ]
    }
   ],
   "source": [
    "import torch\n",
    "from transformers import AutoModelForCausalLM, AutoTokenizer\n",
    "\n",
    "def test_prompt_llama_3_8b_local(prompt, suppress=False, model_name=\"your_model_path\", **kwargs):\n",
    "    # Load model and tokenizer from local path\n",
    "    tokenizer = AutoTokenizer.from_pretrained(model_name)\n",
    "    model = AutoModelForCausalLM.from_pretrained(model_name)\n",
    "\n",
    "    # Prepare the input prompt\n",
    "    llama_prompt = f\"<|begin_of_text|><|start_header_id|>user<|end_header_id|>\\n\\n{prompt}<|eot_id|><|start_header_id|>assistant<|end_header_id|>\\n\\n\"\n",
    "\n",
    "    # Tokenize the input prompt\n",
    "    inputs = tokenizer(llama_prompt, return_tensors=\"pt\")\n",
    "\n",
    "    # Generate text (no stop_token_ids)\n",
    "    output = model.generate(**inputs, max_new_tokens=kwargs.get('max_new_tokens', 50), \n",
    "                            do_sample=kwargs.get('do_sample', True))\n",
    "\n",
    "    # Decode the output\n",
    "    generated_text = tokenizer.decode(output[0], skip_special_tokens=True)\n",
    "\n",
    "    # Optional: Manually stop at a specific token if needed\n",
    "    stop_tokens = [\"<|end_of_text|>\", \"<|eot_id|>\"]\n",
    "    for token in stop_tokens:\n",
    "        generated_text = generated_text.split(token)[0]\n",
    "\n",
    "    if not suppress:\n",
    "        print(f'PROMPT:\\n------\\n{llama_prompt}\\n------\\nRESPONSE\\n------\\n{generated_text}')\n",
    "    else:\n",
    "        return generated_text\n",
    "\n",
    "# Example usage:\n",
    "test_prompt_llama_3_8b_local(\" calcul 1+1\", model_name=model_id)\n"
   ]
  },
  {
   "cell_type": "code",
   "execution_count": 5,
   "id": "bc1307b0-15c6-4a7e-944d-33b1c40d2ed3",
   "metadata": {},
   "outputs": [
    {
     "name": "stdout",
     "output_type": "stream",
     "text": [
      "{'input_ids': [128000, 1687, 527, 1633, 6380, 311, 1501, 499, 279, 11410, 97, 245, 81632, 6875, 13], 'attention_mask': [1, 1, 1, 1, 1, 1, 1, 1, 1, 1, 1, 1, 1, 1, 1]}\n"
     ]
    }
   ],
   "source": [
    "encoding = tokenizer(\"We are very happy to show you the 🤗 Transformers library.\")\n",
    "print(encoding)"
   ]
  },
  {
   "cell_type": "code",
   "execution_count": 8,
   "id": "aeb2b811-664e-416f-9c53-dcac121221b8",
   "metadata": {},
   "outputs": [
    {
     "data": {
      "text/plain": [
       "'<|begin_of_text|>We are very happy to show you the 🤗 Transformers library.'"
      ]
     },
     "execution_count": 8,
     "metadata": {},
     "output_type": "execute_result"
    }
   ],
   "source": [
    "tokenizer.decode(encoding[\"input_ids\"])\n",
    "# encoded_input = tokenizer(batch_sentences, padding=True)\n"
   ]
  },
  {
   "cell_type": "code",
   "execution_count": 11,
   "id": "7d0aab78-acd6-4171-b5fc-cbcd1689d1b0",
   "metadata": {},
   "outputs": [
    {
     "name": "stdout",
     "output_type": "stream",
     "text": [
      "{'input_ids': [[128000, 4071, 1148, 922, 2132, 17954, 30, 128256, 128256, 128256, 128256, 128256], [128000, 8161, 956, 1781, 568, 8964, 922, 2132, 17954, 11, 78482, 13], [128000, 3923, 922, 12231, 729, 552, 30, 128256, 128256, 128256, 128256, 128256]], 'attention_mask': [[1, 1, 1, 1, 1, 1, 1, 0, 0, 0, 0, 0], [1, 1, 1, 1, 1, 1, 1, 1, 1, 1, 1, 1], [1, 1, 1, 1, 1, 1, 1, 0, 0, 0, 0, 0]]}\n"
     ]
    }
   ],
   "source": [
    "tokenizer.add_special_tokens({'pad_token': '[PAD]'})\n",
    "\n",
    "# batch_sentences = [\n",
    "#     \"But what about second breakfast?\",\n",
    "#     \"Don't think he knows about second breakfast, Pip.\",\n",
    "#     \"What about elevensies?\",\n",
    "# ]\n",
    "# encoded_input = tokenizer(batch_sentences, padding=True)\n",
    "# print(encoded_input)\n",
    "\n",
    "batch_sentences = [\n",
    "    \"But what about second breakfast?\",\n",
    "    \"Don't think he knows about second breakfast, Pip.\",\n",
    "    \"What about elevensies?\",\n",
    "]\n",
    "encoded_input = tokenizer(batch_sentences, padding=True, truncation=True)\n",
    "print(encoded_input)"
   ]
  },
  {
   "cell_type": "code",
   "execution_count": 12,
   "id": "d261ed94-4c2a-4688-8d19-97fe2319047a",
   "metadata": {},
   "outputs": [
    {
     "name": "stdout",
     "output_type": "stream",
     "text": [
      "{'input_ids': tensor([[128000,   4071,   1148,    922,   2132,  17954,     30, 128256, 128256,\n",
      "         128256, 128256, 128256],\n",
      "        [128000,   8161,    956,   1781,    568,   8964,    922,   2132,  17954,\n",
      "             11,  78482,     13],\n",
      "        [128000,   3923,    922,  12231,    729,    552,     30, 128256, 128256,\n",
      "         128256, 128256, 128256]]), 'attention_mask': tensor([[1, 1, 1, 1, 1, 1, 1, 0, 0, 0, 0, 0],\n",
      "        [1, 1, 1, 1, 1, 1, 1, 1, 1, 1, 1, 1],\n",
      "        [1, 1, 1, 1, 1, 1, 1, 0, 0, 0, 0, 0]])}\n"
     ]
    }
   ],
   "source": [
    "batch_sentences = [\n",
    "    \"But what about second breakfast?\",\n",
    "    \"Don't think he knows about second breakfast, Pip.\",\n",
    "    \"What about elevensies?\",\n",
    "]\n",
    "encoded_input = tokenizer(batch_sentences, padding=True, truncation=True, return_tensors=\"pt\")\n",
    "print(encoded_input)"
   ]
  },
  {
   "cell_type": "code",
   "execution_count": null,
   "id": "2e123282-3d2d-4cd2-9716-ad5920161eb5",
   "metadata": {},
   "outputs": [],
   "source": []
  }
 ],
 "metadata": {
  "kernelspec": {
   "display_name": "Python 3 (ipykernel)",
   "language": "python",
   "name": "python3"
  },
  "language_info": {
   "codemirror_mode": {
    "name": "ipython",
    "version": 3
   },
   "file_extension": ".py",
   "mimetype": "text/x-python",
   "name": "python",
   "nbconvert_exporter": "python",
   "pygments_lexer": "ipython3",
   "version": "3.9.13"
  }
 },
 "nbformat": 4,
 "nbformat_minor": 5
}
